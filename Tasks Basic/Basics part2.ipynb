{
 "cells": [
  {
   "cell_type": "code",
   "execution_count": null,
   "id": "c510d61c-bb8e-46f3-8dd8-9746da1c2863",
   "metadata": {},
   "outputs": [],
   "source": [
    "'''\n",
    "1. Write a Python function that takes a sequence of numbers and determines whether all the numbers are different from each other.\n",
    "'''"
   ]
  },
  {
   "cell_type": "code",
   "execution_count": 1,
   "id": "6cdd8469-9607-4750-ad5b-120eb68b4371",
   "metadata": {},
   "outputs": [
    {
     "name": "stdout",
     "output_type": "stream",
     "text": [
      "oueai\n"
     ]
    }
   ],
   "source": [
    "'''\n",
    "2. Write a Python program that creates all possible strings using the letters 'a', 'e', 'i', 'o', and 'I'. Ensure that each character is used only once.\n",
    "'''\n",
    "import random\n",
    "mylist = ['a','e','i','o','u']\n",
    "random.shuffle(mylist)\n",
    "print(''.join(mylist))"
   ]
  },
  {
   "cell_type": "code",
   "execution_count": null,
   "id": "dd0da319-2dd4-4851-8136-6aac767f4ece",
   "metadata": {},
   "outputs": [],
   "source": [
    "'''\n",
    "3. Write a Python program that removes and prints every third number from a list of numbers until the list is empty.\n",
    "'''\n",
    "def remove_third_num(numlist):\n",
    "    newlist = []\n",
    "    while len(numlist) > 0:\n",
    "        \n",
    "\n",
    "numberlist = [1, 2, 3, 5, 6, 7, 8, 9, 10, 11, 12]"
   ]
  }
 ],
 "metadata": {
  "kernelspec": {
   "display_name": "Python 3 (ipykernel)",
   "language": "python",
   "name": "python3"
  },
  "language_info": {
   "codemirror_mode": {
    "name": "ipython",
    "version": 3
   },
   "file_extension": ".py",
   "mimetype": "text/x-python",
   "name": "python",
   "nbconvert_exporter": "python",
   "pygments_lexer": "ipython3",
   "version": "3.11.4"
  }
 },
 "nbformat": 4,
 "nbformat_minor": 5
}
