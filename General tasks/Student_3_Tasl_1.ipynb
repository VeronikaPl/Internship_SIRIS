{
 "cells": [
  {
   "cell_type": "code",
   "execution_count": 79,
   "id": "dba3e9aa-d8fb-4aa8-b74b-b1e77e16cc4d",
   "metadata": {},
   "outputs": [
    {
     "name": "stdout",
     "output_type": "stream",
     "text": [
      "The outbreak of coronavirus disease 2019 COVID19 has created a global health crisis that has had a deep impact on the way we perceive our world and our everyday lives Not only the rate of contagion and patterns of transmission threatens our sense of agency but the safety measures put in place to contain the spread of the virus also require social distancing by refraining from doing what is inherently human which is to find solace in the company of others Within this context of physical threat social and physical distancing as well as public alarm what has been and can be the role of the different mass media channels in our lives on individual social and societal levels Mass media have long been recognized as powerful forces shaping how we experience the world and ourselves This recognition is accompanied by a growing volume of research that closely follows the footsteps of technological transformations eg radio movies television the internet mobiles and the zeitgeist eg cold war 911 climate change in an attempt to map mass media major impacts on how we perceive ourselves both as individuals and citizens Are media broadcast and digital still able to convey a sense of unity reaching large audiences or are messages lost in the noisy crowd of mass selfcommunication \n"
     ]
    }
   ],
   "source": [
    "'''\n",
    "1. Make a function to remove all the punctuations in the given text\n",
    "text=\"\"\"The outbreak of coronavirus disease 2019 (COVID-19) has created a global health crisis that has had a deep impact on the way we perceive our world and our everyday lives. Not only the rate of contagion and patterns of transmission threatens our sense of agency, but the safety measures put in place to contain the spread of the virus also require social distancing by refraining from doing what is inherently human, which is to find solace in the company of others. Within this context of physical threat, social and physical distancing, as well as public alarm, what has been (and can be) the role of the different mass media channels in our lives on individual, social and societal levels? Mass media have long been recognized as powerful forces shaping how we experience the world and ourselves. This recognition is accompanied by a growing volume of research, that closely follows the footsteps of technological transformations (e.g. radio, movies, television, the internet, mobiles) and the zeitgeist (e.g. cold war, 9/11, climate change) in an attempt to map mass media major impacts on how we perceive ourselves, both as individuals and citizens. Are media (broadcast and digital) still able to convey a sense of unity reaching large audiences, or are messages lost in the noisy crowd of mass self-communication? \"\"\"\n",
    "'''\n",
    "import string\n",
    "\n",
    "def remove_punctuations(text):    \n",
    "    text_without_punctuations = ''.join(char for char in text if char not in string.punctuation)\n",
    "    return text_without_punctuations\n",
    "\n",
    "text = \"\"\"The outbreak of coronavirus disease 2019 (COVID-19) has created a global health crisis that has had a deep impact on the way we perceive our world and our everyday lives. Not only the rate of contagion and patterns of transmission threatens our sense of agency, but the safety measures put in place to contain the spread of the virus also require social distancing by refraining from doing what is inherently human, which is to find solace in the company of others. Within this context of physical threat, social and physical distancing, as well as public alarm, what has been (and can be) the role of the different mass media channels in our lives on individual, social and societal levels? Mass media have long been recognized as powerful forces shaping how we experience the world and ourselves. This recognition is accompanied by a growing volume of research, that closely follows the footsteps of technological transformations (e.g. radio, movies, television, the internet, mobiles) and the zeitgeist (e.g. cold war, 9/11, climate change) in an attempt to map mass media major impacts on how we perceive ourselves, both as individuals and citizens. Are media (broadcast and digital) still able to convey a sense of unity reaching large audiences, or are messages lost in the noisy crowd of mass self-communication? \"\"\"\n",
    "print(remove_punctuations(text))"
   ]
  },
  {
   "cell_type": "code",
   "execution_count": 82,
   "id": "f778f6ba-0ed8-4703-aba2-ed11ec411d4c",
   "metadata": {},
   "outputs": [
    {
     "name": "stdout",
     "output_type": "stream",
     "text": [
      "Fist names:  ['Sherlock', 'Clint', 'John']\n",
      "Last names:  ['Holmes', 'Thomas', 'Mark']\n"
     ]
    }
   ],
   "source": [
    "'''\n",
    "2. Make a function to extract first name and last names present in the document\n",
    "text=\"Sherlock Holmes and Clint Thomas were good friends. I am a fan of John Mark\"\n",
    "'''\n",
    "def extract_first_and_last_name(text):\n",
    "    firstNames = []\n",
    "    lastNames = []\n",
    "    words = text.split()\n",
    "    \n",
    "    for i in range(len(words) - 1):\n",
    "        if words[i].istitle() and words[i+1].istitle() and len(words[i]) > 2:\n",
    "            firstNames.append(words[i])\n",
    "            \n",
    "        if words[i].istitle() and not words[i+1].istitle() and len(words[i]) > 2:\n",
    "            lastNames.append(words[i])\n",
    "    \n",
    "    if words[-1].istitle() and len(words) >= 2 and words[-2].istitle() and len(words[i]) > 2:\n",
    "        lastNames.append(words[-1])\n",
    "    return firstNames, lastNames\n",
    "\n",
    "text = \"Sherlock Holmes and Clint Thomas were good friends. I am a fan of John Mark\"\n",
    "firstNames, lastNames = extract_first_and_last_name(text)\n",
    "print(\"Fist names: \", firstNames)\n",
    "print(\"Last names: \", lastNames)"
   ]
  },
  {
   "cell_type": "code",
   "execution_count": 57,
   "id": "33ec5ca1-3379-4a6a-8e89-eeaf83543705",
   "metadata": {
    "scrolled": true
   },
   "outputs": [
    {
     "name": "stdout",
     "output_type": "stream",
     "text": [
      "['Lenovo', 'Asus']\n"
     ]
    }
   ],
   "source": [
    "'''\n",
    "3. Make function to detect all the Laptop names present in the text\n",
    "text=\"For my offical use, I prefer lenova. For gaming purposes, I love Asus\"\n",
    "'''\n",
    "def detect_laptop_names(text):\n",
    "    brands = [\"Lenovo\", \"Asus\", \"Acer\", \"Honor\", \"HP\", \"Apple\"]\n",
    "    detectedNames = []\n",
    "    splitedText = text.split()\n",
    "    for word in splitedText:\n",
    "        word = word.strip(\".,?!\")\n",
    "        if word.capitalize() in brands:\n",
    "            detectedNames.append(word.capitalize())\n",
    "    return detectedNames\n",
    "\n",
    "mytext = \"For my offical use, I prefer lenovo. For gaming purposes, I love Asus\"\n",
    "laptopNames = detect_laptop_names(mytext)\n",
    "print(laptopNames)"
   ]
  },
  {
   "cell_type": "code",
   "execution_count": null,
   "id": "4666a412-b663-4cac-96e4-58d78ceb9a0e",
   "metadata": {},
   "outputs": [],
   "source": []
  }
 ],
 "metadata": {
  "kernelspec": {
   "display_name": "Python 3 (ipykernel)",
   "language": "python",
   "name": "python3"
  },
  "language_info": {
   "codemirror_mode": {
    "name": "ipython",
    "version": 3
   },
   "file_extension": ".py",
   "mimetype": "text/x-python",
   "name": "python",
   "nbconvert_exporter": "python",
   "pygments_lexer": "ipython3",
   "version": "3.11.4"
  }
 },
 "nbformat": 4,
 "nbformat_minor": 5
}
