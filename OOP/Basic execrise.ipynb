{
 "cells": [
  {
   "cell_type": "code",
   "execution_count": 1,
   "id": "fef7a41e-1236-44a4-9984-a35af7ddf7c2",
   "metadata": {},
   "outputs": [
    {
     "name": "stdout",
     "output_type": "stream",
     "text": [
      "__name__\n",
      "__doc__\n",
      "__package__\n",
      "__loader__\n",
      "__spec__\n",
      "_array_reconstructor\n",
      "ArrayType\n",
      "array\n",
      "typecodes\n"
     ]
    }
   ],
   "source": [
    "'''\n",
    "1. Write a Python program to import a built-in array module and display the namespace of the said module.\n",
    "'''\n",
    "import array\n",
    "for name in array.__dict__:\n",
    "    print(name)"
   ]
  },
  {
   "cell_type": "code",
   "execution_count": null,
   "id": "b70313df-4a77-47b6-a977-7c75142845fa",
   "metadata": {},
   "outputs": [],
   "source": [
    "'''\n",
    "2. Write a Python program to create a class and display the namespace of that class.\n",
    "'''\n"
   ]
  },
  {
   "cell_type": "code",
   "execution_count": 12,
   "id": "2d9d0cc7-103c-4a08-ac15-a485b7623869",
   "metadata": {},
   "outputs": [
    {
     "name": "stdout",
     "output_type": "stream",
     "text": [
      "{'student_id': '12321', 'student_name': 'veronika', 'group_name': 'PZ-20'}\n"
     ]
    }
   ],
   "source": [
    "'''\n",
    "3. Write a Python program to create an instance of a specified class and display the namespace of the said instance.\n",
    "'''\n",
    "class Student: \n",
    "    def __init__(self, student_id, student_name, group_name):\n",
    "        self.student_id = student_id\n",
    "        self.student_name = student_name\n",
    "        self.group_name = group_name \n",
    "student = Student('12321', 'veronika', 'PZ-20')\n",
    "print(student.__dict__)"
   ]
  },
  {
   "cell_type": "code",
   "execution_count": 5,
   "id": "4b84b297-4413-420e-9c40-994f459131bc",
   "metadata": {},
   "outputs": [
    {
     "name": "stdout",
     "output_type": "stream",
     "text": [
      "10\n"
     ]
    }
   ],
   "source": [
    "'''\n",
    "4. 'builtins' module provides direct access to all 'built-in' identifiers of Python.\n",
    "Write a Python program that imports the abs() function using the builtins module, displays the documentation of the abs() function and finds the absolute value of -155.\n",
    "'''\n",
    "import builtins\n",
    "print(builtins.abs(-10))"
   ]
  },
  {
   "cell_type": "code",
   "execution_count": 3,
   "id": "2c363604-f417-4fdc-8aee-af223d614071",
   "metadata": {},
   "outputs": [
    {
     "name": "stdout",
     "output_type": "stream",
     "text": [
      "Student ID: 12321\n",
      "Student Name: Veronika\n",
      "Group: PZ-20\n"
     ]
    }
   ],
   "source": [
    "'''\n",
    "5. Define a Python function student(). Using function attributes display the names of all arguments.\n",
    "'''\n",
    "def student(id, name, group):\n",
    "    return f'Student ID: {id}\\nStudent Name: {name}\\nGroup: {group}'\n",
    "\n",
    "print(student(12321, 'Veronika', 'PZ-20'))"
   ]
  },
  {
   "cell_type": "code",
   "execution_count": 13,
   "id": "0cf0fee9-87f6-4f8b-918d-e67e44102902",
   "metadata": {},
   "outputs": [
    {
     "name": "stdout",
     "output_type": "stream",
     "text": [
      "Student ID: 12321\n",
      "Student Name: Veronika\n",
      "\n",
      "\n",
      "Student ID: 12321\n",
      "Student Name: Nika\n",
      "Student Class: PZ-20\n"
     ]
    }
   ],
   "source": [
    "'''\n",
    "6. Write a Python function student_data () that will print the ID of a student (student_id). If the user passes an argument student_name or student_class the function will print the student name and class.\n",
    "'''\n",
    "def student_data(student_id, **otherArguments):\n",
    "    print(f'Student ID: {student_id}')\n",
    "    if 'student_name' in otherArguments:\n",
    "        print(f\"Student Name: {otherArguments['student_name']}\")\n",
    "        if 'student_class' in otherArguments:\n",
    "            print(f\"Student Class: {otherArguments['student_class']}\")\n",
    "\n",
    "student_data(student_id='12321', student_name='Veronika')\n",
    "print('\\n')\n",
    "student_data(student_id='12321', student_name='Nika', student_class ='PZ-20')"
   ]
  },
  {
   "cell_type": "code",
   "execution_count": null,
   "id": "a16b5ff8-bf11-468a-b8ef-66f853753af4",
   "metadata": {},
   "outputs": [],
   "source": []
  }
 ],
 "metadata": {
  "kernelspec": {
   "display_name": "Python 3 (ipykernel)",
   "language": "python",
   "name": "python3"
  },
  "language_info": {
   "codemirror_mode": {
    "name": "ipython",
    "version": 3
   },
   "file_extension": ".py",
   "mimetype": "text/x-python",
   "name": "python",
   "nbconvert_exporter": "python",
   "pygments_lexer": "ipython3",
   "version": "3.11.4"
  }
 },
 "nbformat": 4,
 "nbformat_minor": 5
}
