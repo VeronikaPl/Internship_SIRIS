{
 "cells": [
  {
   "cell_type": "code",
   "execution_count": 1,
   "id": "f279571a-33b5-4f04-9be8-bed78a9403dd",
   "metadata": {},
   "outputs": [
    {
     "name": "stdout",
     "output_type": "stream",
     "text": [
      "A B A B\n"
     ]
    }
   ],
   "source": [
    "class C1:\n",
    "    def M1(self):\n",
    "        return self.M2()\n",
    "\n",
    "    def M2(self):\n",
    "        return 'A'\n",
    "\n",
    "class C2(C1):\n",
    "    def M2(self):\n",
    "        return 'B'\n",
    "\n",
    "a = C1()\n",
    "b = C2()\n",
    "print(a.M1(), b.M1(),a.M2(), b.M2())"
   ]
  },
  {
   "cell_type": "code",
   "execution_count": 2,
   "id": "666654ee-ccd1-4ee1-8223-e5de9e280938",
   "metadata": {},
   "outputs": [
    {
     "name": "stdout",
     "output_type": "stream",
     "text": [
      "53\n"
     ]
    }
   ],
   "source": [
    "class a:\n",
    "    def M1(self):\n",
    "        ob1=b(10)\n",
    "        return ob1\n",
    "    def M2(self,var2):\n",
    "        var2=var2+self.M1().K()\n",
    "        return var2\n",
    "class b:\n",
    "    def __init__(self,var1):\n",
    "        self.var1=var1\n",
    "    def K(self):\n",
    "        var1=11\n",
    "        var2=12\n",
    "        var3=var1+var2+self.var1\n",
    "        return var3\n",
    "ob2=a()\n",
    "print(ob2.M2(20))"
   ]
  },
  {
   "cell_type": "code",
   "execution_count": 4,
   "id": "874b9bf2-eab2-4d80-995d-7417c69aa760",
   "metadata": {},
   "outputs": [
    {
     "name": "stdin",
     "output_type": "stream",
     "text": [
      "enter a number 1\n",
      "enter a number 0\n",
      "enter index value 7\n"
     ]
    },
    {
     "name": "stdout",
     "output_type": "stream",
     "text": [
      "hi\n"
     ]
    }
   ],
   "source": [
    "a=int(input(\"enter a number\"))\n",
    "b=int(input(\"enter a number\"))\n",
    "index=int(input(\"enter index value\"))\n",
    "lis=[1,2,3]\n",
    "try:\n",
    "    c=a/b\n",
    "    print(lis[index])\n",
    "except Exception as e:\n",
    "    print(\"hi\")\n",
    "except ZeroDivisionError as z:\n",
    "    print(z)"
   ]
  },
  {
   "cell_type": "code",
   "execution_count": 5,
   "id": "ca50863a-f5bd-4cd1-88fb-4457d8ea4d61",
   "metadata": {},
   "outputs": [
    {
     "name": "stdout",
     "output_type": "stream",
     "text": [
      "80\n"
     ]
    }
   ],
   "source": [
    "class a:\n",
    "    var1=40\n",
    "    def __init__(self,var2):\n",
    "        self.var2=var2\n",
    "    def M1(self):\n",
    "        var1=20\n",
    "        var2=40\n",
    "        return self.var1+var2\n",
    "ob1=a(30)\n",
    "print(ob1.M1())"
   ]
  },
  {
   "cell_type": "code",
   "execution_count": 6,
   "id": "d0d611d7-67fb-4a28-9377-1b5a759dc776",
   "metadata": {},
   "outputs": [
    {
     "name": "stdout",
     "output_type": "stream",
     "text": [
      "80\n"
     ]
    }
   ],
   "source": [
    "class a:\n",
    "    def __init__(self,var1):\n",
    "        var1=var1+2\n",
    "    def M1(self,var2):\n",
    "        return self.var1+var2\n",
    "    def M1(self,var2):\n",
    "        return var2+var2\n",
    "ob1=a(20)\n",
    "print(ob1.M1(40))"
   ]
  },
  {
   "cell_type": "code",
   "execution_count": 7,
   "id": "25ee6f2f-9568-4adc-a368-a41b78a557af",
   "metadata": {},
   "outputs": [
    {
     "name": "stdout",
     "output_type": "stream",
     "text": [
      "D\n",
      "C\n"
     ]
    }
   ],
   "source": [
    "class a:\n",
    "    def f(self):\n",
    "        print(\"A\")\n",
    "class b:\n",
    "    def f1(self):\n",
    "        print(\"B\")\n",
    "class c:\n",
    "    def f1(self):\n",
    "        print(\"C\")\n",
    "class d(a,c,b):\n",
    "    def f1(self):\n",
    "        print(\"D\")\n",
    "        super().f1()\n",
    "ob1=d()\n",
    "ob1.f1()"
   ]
  },
  {
   "cell_type": "code",
   "execution_count": 8,
   "id": "dd18770a-03cc-4fed-8fda-6dd0eec34333",
   "metadata": {},
   "outputs": [
    {
     "ename": "AttributeError",
     "evalue": "'a' object has no attribute '__var1'",
     "output_type": "error",
     "traceback": [
      "\u001b[1;31m---------------------------------------------------------------------------\u001b[0m",
      "\u001b[1;31mAttributeError\u001b[0m                            Traceback (most recent call last)",
      "Cell \u001b[1;32mIn[8], line 15\u001b[0m\n\u001b[0;32m     13\u001b[0m ob1\u001b[38;5;241m.\u001b[39mvar1\u001b[38;5;241m=\u001b[39mob1\u001b[38;5;241m.\u001b[39mvar1\u001b[38;5;241m+\u001b[39mob1\u001b[38;5;241m.\u001b[39mgetvar1()\n\u001b[0;32m     14\u001b[0m ob1\u001b[38;5;241m.\u001b[39msetvar1(ob1\u001b[38;5;241m.\u001b[39mvar1)\n\u001b[1;32m---> 15\u001b[0m \u001b[38;5;28mprint\u001b[39m(ob1\u001b[38;5;241m.\u001b[39mvar1\u001b[38;5;241m+\u001b[39m\u001b[43mob1\u001b[49m\u001b[38;5;241;43m.\u001b[39;49m\u001b[43m__var1\u001b[49m())\n",
      "\u001b[1;31mAttributeError\u001b[0m: 'a' object has no attribute '__var1'"
     ]
    }
   ],
   "source": [
    "class a:\n",
    "    __var1=10\n",
    "    def __init__(self,var1):\n",
    "        self.var1=var1\n",
    "        self.__var1=var1+2\n",
    "    def getvar1(self):\n",
    "        return self.__var1\n",
    "    def setvar1(self,var1):\n",
    "        self.__var1=var1\n",
    "    def M1(self):\n",
    "        return self.var1+self.__var1+a.__var1\n",
    "ob1=a(20)\n",
    "ob1.var1=ob1.var1+ob1.getvar1()\n",
    "ob1.setvar1(ob1.var1)\n",
    "print(ob1.var1+ob1.__var1())"
   ]
  },
  {
   "cell_type": "code",
   "execution_count": 9,
   "id": "4bd0dba7-fb68-44d6-9e32-ca57354f4e5c",
   "metadata": {},
   "outputs": [
    {
     "name": "stdout",
     "output_type": "stream",
     "text": [
      "x less than y\n"
     ]
    }
   ],
   "source": [
    "def d(func):\n",
    "    def inner1(x,y,z):\n",
    "        if y>z:\n",
    "            func(x,y,z)\n",
    "        else:\n",
    "            print(\"y less than z\")\n",
    "    return inner1\n",
    "def d1(func):\n",
    "    def inner(x,y,z):\n",
    "        if x>y:\n",
    "            func(x,y,z)\n",
    "        else:\n",
    "            print(\"x less than y\")\n",
    "    return inner\n",
    "@d\n",
    "@d1\n",
    "def f(x,y,z):\n",
    "    l=x+y+z\n",
    "    print(l)\n",
    "\n",
    "f(5,7,6)"
   ]
  },
  {
   "cell_type": "code",
   "execution_count": 10,
   "id": "6dbcbb99-6b24-4465-8e8e-179e8e118c14",
   "metadata": {},
   "outputs": [
    {
     "name": "stdout",
     "output_type": "stream",
     "text": [
      "hello\n",
      "hi\n",
      "bye\n"
     ]
    },
    {
     "ename": "TypeError",
     "evalue": "a.M4() takes 0 positional arguments but 1 was given",
     "output_type": "error",
     "traceback": [
      "\u001b[1;31m---------------------------------------------------------------------------\u001b[0m",
      "\u001b[1;31mTypeError\u001b[0m                                 Traceback (most recent call last)",
      "Cell \u001b[1;32mIn[10], line 15\u001b[0m\n\u001b[0;32m     13\u001b[0m ob1\u001b[38;5;241m.\u001b[39mM2()\n\u001b[0;32m     14\u001b[0m ob1\u001b[38;5;241m.\u001b[39mM3()\n\u001b[1;32m---> 15\u001b[0m \u001b[43mob1\u001b[49m\u001b[38;5;241;43m.\u001b[39;49m\u001b[43mM4\u001b[49m\u001b[43m(\u001b[49m\u001b[43m)\u001b[49m\n",
      "\u001b[1;31mTypeError\u001b[0m: a.M4() takes 0 positional arguments but 1 was given"
     ]
    }
   ],
   "source": [
    "class a:\n",
    "    def M1(self):\n",
    "        print(\"hello\")\n",
    "    def M2(self):\n",
    "        self.M1()\n",
    "        print(\"hi\")\n",
    "    @staticmethod\n",
    "    def M3():\n",
    "        print(\"bye\")\n",
    "    def M4():\n",
    "        print(\"bubye\")\n",
    "ob1=a()\n",
    "ob1.M2()\n",
    "ob1.M3()\n",
    "ob1.M4()"
   ]
  },
  {
   "cell_type": "code",
   "execution_count": 11,
   "id": "5a91469c-72e2-4120-9d98-7068a75dc0c8",
   "metadata": {},
   "outputs": [
    {
     "name": "stdout",
     "output_type": "stream",
     "text": [
      "this is class c 10\n"
     ]
    }
   ],
   "source": [
    "from abc import *\n",
    "class a:\n",
    "    def M1(self,var1):\n",
    "        print(\"this is class a\",var1)\n",
    "    @abstractmethod\n",
    "    def M2(self,var2):\n",
    "        pass\n",
    "class b:\n",
    "    def M3(self):\n",
    "        print(\"this is class b\")\n",
    "    @abstractmethod\n",
    "    def M2(self,var2):\n",
    "        pass\n",
    "class c(a,b):\n",
    "    def M3(self,var1):\n",
    "        print(\"this is class c\",var1)\n",
    "ob1=c()\n",
    "ob1.M3(10)"
   ]
  },
  {
   "cell_type": "code",
   "execution_count": null,
   "id": "1fe07379-15b1-40a1-b7a9-c0ff3f94dbc5",
   "metadata": {},
   "outputs": [],
   "source": []
  }
 ],
 "metadata": {
  "kernelspec": {
   "display_name": "Python 3 (ipykernel)",
   "language": "python",
   "name": "python3"
  },
  "language_info": {
   "codemirror_mode": {
    "name": "ipython",
    "version": 3
   },
   "file_extension": ".py",
   "mimetype": "text/x-python",
   "name": "python",
   "nbconvert_exporter": "python",
   "pygments_lexer": "ipython3",
   "version": "3.11.4"
  }
 },
 "nbformat": 4,
 "nbformat_minor": 5
}
