{
 "cells": [
  {
   "cell_type": "code",
   "execution_count": null,
   "id": "053744ce-94c6-4c87-8175-8d3eb7eefeaf",
   "metadata": {},
   "outputs": [],
   "source": [
    "class Dog:\n",
    "    def __init__(self, name, age):\n",
    "        self.name = name\n",
    "        self.age = age"
   ]
  },
  {
   "cell_type": "code",
   "execution_count": null,
   "id": "f2877b5c-8436-48c3-b258-5ec7efdb7047",
   "metadata": {},
   "outputs": [],
   "source": [
    "class Dog:\n",
    "    pass"
   ]
  },
  {
   "cell_type": "code",
   "execution_count": null,
   "id": "b2c6a4d0-5c0a-4d19-91b8-da1164f09b41",
   "metadata": {},
   "outputs": [],
   "source": [
    "class Dog:\n",
    "    # Class attribute\n",
    "    species = \"Canis familiaris\"\n",
    "\n",
    "    def __init__(self, name, age):\n",
    "        self.name = name\n",
    "        self.age = age"
   ]
  },
  {
   "cell_type": "code",
   "execution_count": 1,
   "id": "93efe40b-f147-45df-af8c-bbe14972c07f",
   "metadata": {},
   "outputs": [],
   "source": [
    "class Dog:\n",
    "    species = \"Canis familiaris\"\n",
    "\n",
    "    def __init__(self, name, age):\n",
    "        self.name = name\n",
    "        self.age = age\n",
    "\n",
    "    # Instance method\n",
    "    def description(self):\n",
    "        return f\"{self.name} is {self.age} years old\"\n",
    "\n",
    "    # Another instance method\n",
    "    def speak(self, sound):\n",
    "        return f\"{self.name} says {sound}\""
   ]
  },
  {
   "cell_type": "code",
   "execution_count": 2,
   "id": "fa6864ed-8c10-4bb3-8c9c-4f93a259b42c",
   "metadata": {},
   "outputs": [
    {
     "name": "stdout",
     "output_type": "stream",
     "text": [
      "['Fletcher', 'David', 'Dan']\n"
     ]
    }
   ],
   "source": [
    "names = [\"Fletcher\", \"David\", \"Dan\"]\n",
    ">>> print(names)"
   ]
  },
  {
   "cell_type": "code",
   "execution_count": 4,
   "id": "48aa5c64-bcdc-45f3-82d4-07792accf1ae",
   "metadata": {},
   "outputs": [
    {
     "ename": "SyntaxError",
     "evalue": "invalid syntax (1987051507.py, line 3)",
     "output_type": "error",
     "traceback": [
      "\u001b[1;36m  Cell \u001b[1;32mIn[4], line 3\u001b[1;36m\u001b[0m\n\u001b[1;33m    >>> miles.description()\u001b[0m\n\u001b[1;37m    ^\u001b[0m\n\u001b[1;31mSyntaxError\u001b[0m\u001b[1;31m:\u001b[0m invalid syntax\n"
     ]
    }
   ],
   "source": [
    "miles = Dog(\"Miles\", 4)\n",
    "\n",
    ">>> miles.description()\n",
    "\n",
    ">>> miles.speak(\"Woof Woof\")\n",
    "\n",
    ">>> miles.speak(\"Bow Wow\")\n",
    ">>> print(miles)"
   ]
  },
  {
   "cell_type": "code",
   "execution_count": 7,
   "id": "352bde28-36dc-4b8f-b4af-1421998f5465",
   "metadata": {},
   "outputs": [
    {
     "ename": "SyntaxError",
     "evalue": "invalid syntax (881043192.py, line 8)",
     "output_type": "error",
     "traceback": [
      "\u001b[1;36m  Cell \u001b[1;32mIn[7], line 8\u001b[1;36m\u001b[0m\n\u001b[1;33m    >>> miles = Dog(\"Miles\", 4)\u001b[0m\n\u001b[1;37m    ^\u001b[0m\n\u001b[1;31mSyntaxError\u001b[0m\u001b[1;31m:\u001b[0m invalid syntax\n"
     ]
    }
   ],
   "source": [
    "class Dog:\n",
    "    # Leave other parts of Dog class as-is\n",
    "\n",
    "    # Replace .description() with __str__()\n",
    "    def __str__(self):\n",
    "        return f\"{self.name} is {self.age} years old\"\n",
    "\n",
    ">>> miles = Dog(\"Miles\", 4)\n",
    ">>> print(miles)"
   ]
  },
  {
   "cell_type": "code",
   "execution_count": 8,
   "id": "8a2c816a-48dd-4399-99ac-1f67355b398a",
   "metadata": {},
   "outputs": [
    {
     "name": "stdout",
     "output_type": "stream",
     "text": [
      "Blu is 10 years old\n",
      "Woo is 15 years old\n"
     ]
    }
   ],
   "source": [
    "class Parrot:\n",
    "\n",
    "    # class attribute\n",
    "    name = \"\"\n",
    "    age = 0\n",
    "\n",
    "# create parrot1 object\n",
    "parrot1 = Parrot()\n",
    "parrot1.name = \"Blu\"\n",
    "parrot1.age = 10\n",
    "\n",
    "# create another object parrot2\n",
    "parrot2 = Parrot()\n",
    "parrot2.name = \"Woo\"\n",
    "parrot2.age = 15\n",
    "\n",
    "# access attributes\n",
    "print(f\"{parrot1.name} is {parrot1.age} years old\")\n",
    "print(f\"{parrot2.name} is {parrot2.age} years old\")"
   ]
  },
  {
   "cell_type": "code",
   "execution_count": 9,
   "id": "d1964495-9186-4f6a-8a10-f1006ccb97ab",
   "metadata": {},
   "outputs": [
    {
     "name": "stdout",
     "output_type": "stream",
     "text": [
      "I can eat!\n",
      "I can sleep!\n",
      "I can bark! Woof woof!!\n"
     ]
    }
   ],
   "source": [
    "# base class\n",
    "class Animal:\n",
    "    \n",
    "    def eat(self):\n",
    "        print( \"I can eat!\")\n",
    "    \n",
    "    def sleep(self):\n",
    "        print(\"I can sleep!\")\n",
    "\n",
    "# derived class\n",
    "class Dog(Animal):\n",
    "    \n",
    "    def bark(self):\n",
    "        print(\"I can bark! Woof woof!!\")\n",
    "\n",
    "# Create object of the Dog class\n",
    "dog1 = Dog()\n",
    "\n",
    "# Calling members of the base class\n",
    "dog1.eat()\n",
    "dog1.sleep()\n",
    "\n",
    "# Calling member of the derived class\n",
    "dog1.bark();"
   ]
  },
  {
   "cell_type": "code",
   "execution_count": 10,
   "id": "357c08e4-2424-46c0-8542-ecea8d722c71",
   "metadata": {},
   "outputs": [
    {
     "name": "stdout",
     "output_type": "stream",
     "text": [
      "Selling Price: 900\n",
      "Selling Price: 900\n",
      "Selling Price: 1000\n"
     ]
    }
   ],
   "source": [
    "class Computer:\n",
    "\n",
    "    def __init__(self):\n",
    "        self.__maxprice = 900\n",
    "\n",
    "    def sell(self):\n",
    "        print(\"Selling Price: {}\".format(self.__maxprice))\n",
    "\n",
    "    def setMaxPrice(self, price):\n",
    "        self.__maxprice = price\n",
    "\n",
    "c = Computer()\n",
    "c.sell()\n",
    "\n",
    "# change the price\n",
    "c.__maxprice = 1000\n",
    "c.sell()\n",
    "\n",
    "# using setter function\n",
    "c.setMaxPrice(1000)\n",
    "c.sell()"
   ]
  },
  {
   "cell_type": "code",
   "execution_count": 11,
   "id": "f34e58ff-f658-4da9-a963-17c3689d46ef",
   "metadata": {},
   "outputs": [
    {
     "name": "stdout",
     "output_type": "stream",
     "text": [
      "Employee: Harry 12000 ABC Company\n",
      "Employee: Emma 10000 ABC Company\n"
     ]
    }
   ],
   "source": [
    "class Employee:\n",
    "    # class variables\n",
    "    company_name = 'ABC Company'\n",
    "\n",
    "    # constructor to initialize the object\n",
    "    def __init__(self, name, salary):\n",
    "        # instance variables\n",
    "        self.name = name\n",
    "        self.salary = salary\n",
    "\n",
    "    # instance method\n",
    "    def show(self):\n",
    "        print('Employee:', self.name, self.salary, self.company_name)\n",
    "\n",
    "# create first object\n",
    "emp1 = Employee(\"Harry\", 12000)\n",
    "emp1.show()\n",
    "\n",
    "# create second object\n",
    "emp2 = Employee(\"Emma\", 10000)\n",
    "emp2.show()"
   ]
  },
  {
   "cell_type": "code",
   "execution_count": 12,
   "id": "7c36e6b8-f42b-4a70-b206-4ce852ce485d",
   "metadata": {},
   "outputs": [
    {
     "name": "stdout",
     "output_type": "stream",
     "text": [
      "Name is  Jessa and salary is 40000\n"
     ]
    },
    {
     "ename": "AttributeError",
     "evalue": "'Employee' object has no attribute '__salary'",
     "output_type": "error",
     "traceback": [
      "\u001b[1;31m---------------------------------------------------------------------------\u001b[0m",
      "\u001b[1;31mAttributeError\u001b[0m                            Traceback (most recent call last)",
      "Cell \u001b[1;32mIn[12], line 16\u001b[0m\n\u001b[0;32m     13\u001b[0m emp\u001b[38;5;241m.\u001b[39mshow()\n\u001b[0;32m     15\u001b[0m \u001b[38;5;66;03m# access salary from outside of a class\u001b[39;00m\n\u001b[1;32m---> 16\u001b[0m \u001b[38;5;28mprint\u001b[39m(\u001b[43memp\u001b[49m\u001b[38;5;241;43m.\u001b[39;49m\u001b[43m__salary\u001b[49m)\n",
      "\u001b[1;31mAttributeError\u001b[0m: 'Employee' object has no attribute '__salary'"
     ]
    }
   ],
   "source": [
    "class Employee:\n",
    "    def __init__(self, name, salary):\n",
    "        # public member\n",
    "        self.name = name\n",
    "        # private member\n",
    "        # not accessible outside of a class\n",
    "        self.__salary = salary\n",
    "\n",
    "    def show(self):\n",
    "        print(\"Name is \", self.name, \"and salary is\", self.__salary)\n",
    "\n",
    "emp = Employee(\"Jessa\", 40000)\n",
    "emp.show()\n",
    "\n",
    "# access salary from outside of a class\n",
    "print(emp.__salary)"
   ]
  },
  {
   "cell_type": "code",
   "execution_count": 13,
   "id": "bbd5cb2b-b7d2-4641-99b2-bf410ae473e9",
   "metadata": {},
   "outputs": [
    {
     "name": "stdout",
     "output_type": "stream",
     "text": [
      "Area of circle : 78.5\n",
      "Area of Rectangle : 50\n"
     ]
    }
   ],
   "source": [
    "class Circle:\n",
    "    pi = 3.14\n",
    "\n",
    "    def __init__(self, redius):\n",
    "        self.radius = redius\n",
    "\n",
    "    def calculate_area(self):\n",
    "        print(\"Area of circle :\", self.pi * self.radius * self.radius)\n",
    "\n",
    "class Rectangle:\n",
    "    def __init__(self, length, width):\n",
    "        self.length = length\n",
    "        self.width = width\n",
    "\n",
    "    def calculate_area(self):\n",
    "        print(\"Area of Rectangle :\", self.length * self.width)\n",
    "\n",
    "# function\n",
    "def area(shape):\n",
    "    # call action\n",
    "    shape.calculate_area()\n",
    "\n",
    "# create object\n",
    "cir = Circle(5)\n",
    "rect = Rectangle(10, 5)\n",
    "\n",
    "# call common function\n",
    "area(cir)\n",
    "area(rect)"
   ]
  },
  {
   "cell_type": "code",
   "execution_count": 14,
   "id": "52b1693b-9eb0-425d-99f6-80508aca3bd3",
   "metadata": {},
   "outputs": [
    {
     "name": "stdout",
     "output_type": "stream",
     "text": [
      "BMW X1 Black 35000\n",
      "BMW X1 change gear to number 5\n"
     ]
    }
   ],
   "source": [
    "# Base class\n",
    "class Vehicle:\n",
    "\n",
    "    def __init__(self, name, color, price):\n",
    "        self.name = name\n",
    "        self.color = color\n",
    "        self.price = price\n",
    "\n",
    "    def info(self):\n",
    "        print(self.name, self.color, self.price)\n",
    "\n",
    "# Child class\n",
    "class Car(Vehicle):\n",
    "\n",
    "    def change_gear(self, no):\n",
    "        print(self.name, 'change gear to number', no)\n",
    "\n",
    "# Create object of Car\n",
    "car = Car('BMW X1', 'Black', 35000)\n",
    "car.info()\n",
    "car.change_gear(5)"
   ]
  },
  {
   "cell_type": "code",
   "execution_count": null,
   "id": "36e6e9ee-c7c8-4fe7-b691-fbcb83902dd9",
   "metadata": {},
   "outputs": [],
   "source": []
  }
 ],
 "metadata": {
  "kernelspec": {
   "display_name": "Python 3 (ipykernel)",
   "language": "python",
   "name": "python3"
  },
  "language_info": {
   "codemirror_mode": {
    "name": "ipython",
    "version": 3
   },
   "file_extension": ".py",
   "mimetype": "text/x-python",
   "name": "python",
   "nbconvert_exporter": "python",
   "pygments_lexer": "ipython3",
   "version": "3.11.4"
  }
 },
 "nbformat": 4,
 "nbformat_minor": 5
}
