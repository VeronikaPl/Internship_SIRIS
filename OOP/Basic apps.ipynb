{
 "cells": [
  {
   "cell_type": "code",
   "execution_count": null,
   "id": "906f77f3-acc1-4201-b0e9-534a1ba19de1",
   "metadata": {},
   "outputs": [],
   "source": [
    "'''\n",
    "1. Write a Python class to convert an integer to a Roman numeral.\n",
    "'''"
   ]
  },
  {
   "cell_type": "code",
   "execution_count": null,
   "id": "a473d226-f2d7-4ab3-9bd5-38a53db05882",
   "metadata": {},
   "outputs": [],
   "source": [
    "'''\n",
    "2. Write a Python class to convert a Roman numeral to an integer.\n",
    "'''\n"
   ]
  },
  {
   "cell_type": "code",
   "execution_count": null,
   "id": "4e1007b8-2884-4177-a659-e76e2e0c69f7",
   "metadata": {},
   "outputs": [],
   "source": [
    "'''\n",
    "3. Write a Python class to check the validity of a string of parentheses, '(', ')', '{', '}', '[' and ']. These brackets must be closed in the correct order, for example \"()\" and \"()[]{}\" are valid but \"[)\", \"({[)]\" and \"{{{\" are invalid.\n",
    "'''"
   ]
  },
  {
   "cell_type": "code",
   "execution_count": null,
   "id": "c9eb3d74-88a1-4301-98cc-75439292ca54",
   "metadata": {},
   "outputs": [],
   "source": [
    "'''\n",
    "4. Write a Python class to get all possible unique subsets from a set of distinct integers.\n",
    "Input : [4, 5, 6]\n",
    "Output : [[], [6], [5], [5, 6], [4], [4, 6], [4, 5], [4, 5, 6]]\n",
    "'''"
   ]
  },
  {
   "cell_type": "code",
   "execution_count": null,
   "id": "3baa651b-b58e-4368-bf9e-5833d005afc9",
   "metadata": {},
   "outputs": [],
   "source": [
    "'''\n",
    "5. Write a Python class to find a pair of elements (indices of the two numbers) from a given array whose sum equals a specific target number.\n",
    "Note: There will be one solution for each input and do not use the same element twice.\n",
    "Input: numbers= [10,20,10,40,50,60,70], target=50\n",
    "Output: 3, 4\n",
    "\n",
    "Difficulty: Medium. Company: Google, Facebook\n",
    "'''\n"
   ]
  }
 ],
 "metadata": {
  "kernelspec": {
   "display_name": "Python 3 (ipykernel)",
   "language": "python",
   "name": "python3"
  },
  "language_info": {
   "codemirror_mode": {
    "name": "ipython",
    "version": 3
   },
   "file_extension": ".py",
   "mimetype": "text/x-python",
   "name": "python",
   "nbconvert_exporter": "python",
   "pygments_lexer": "ipython3",
   "version": "3.11.4"
  }
 },
 "nbformat": 4,
 "nbformat_minor": 5
}
