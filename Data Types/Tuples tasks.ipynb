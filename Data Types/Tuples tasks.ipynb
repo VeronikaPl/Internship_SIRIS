{
 "cells": [
  {
   "cell_type": "code",
   "execution_count": 8,
   "id": "68292f14-95e4-40ca-8334-1f1763fdc70c",
   "metadata": {},
   "outputs": [
    {
     "name": "stdout",
     "output_type": "stream",
     "text": [
      "('E', 'x', 'c', 'e', 'r', 's', 'i', 'c', 'e')\n",
      "Excersice\n"
     ]
    }
   ],
   "source": [
    "'''\n",
    "6. Write a Python program to convert a tuple to a string.\n",
    "'''\n",
    "mytuple = ('E','x','c','e','r','s','i','c','e')\n",
    "mystring = \"\".join(mytuple)\n",
    "\n",
    "print(mytuple)\n",
    "print(mystring)"
   ]
  },
  {
   "cell_type": "code",
   "execution_count": 4,
   "id": "bad3982c-fbc1-4c05-bb8c-9f62480b64e3",
   "metadata": {},
   "outputs": [
    {
     "name": "stdout",
     "output_type": "stream",
     "text": [
      "True\n"
     ]
    }
   ],
   "source": [
    "'''\n",
    "10. Write a Python program to check whether an element exists within a tuple.\n",
    "'''\n",
    "\n",
    "thistuple = (\"apple\", \"banana\", \"cherry\")\n",
    "print(\"apple\" in thistuple)"
   ]
  },
  {
   "cell_type": "code",
   "execution_count": 3,
   "id": "88e55025-96b2-4bc0-8b5d-39062b3cdf70",
   "metadata": {},
   "outputs": [
    {
     "name": "stdout",
     "output_type": "stream",
     "text": [
      "[1, 2, 3, 4, 5]\n",
      "(1, 2, 3, 4, 5)\n"
     ]
    }
   ],
   "source": [
    "'''\n",
    "11. Write a Python program to convert a list to a tuple.\n",
    "'''\n",
    "mylist = [1, 2, 3, 4, 5]\n",
    "mytuple = tuple(mylist)\n",
    "\n",
    "print(mylist)\n",
    "print(mytuple)"
   ]
  },
  {
   "cell_type": "code",
   "execution_count": 9,
   "id": "00abe38d-0d5e-415f-b645-82c194c5aff3",
   "metadata": {},
   "outputs": [
    {
     "name": "stdout",
     "output_type": "stream",
     "text": [
      "3\n"
     ]
    }
   ],
   "source": [
    "'''\n",
    "24. Write a Python program to count the elements in a list until an element is a tuple.\n",
    "'''\n",
    "number = [1, 2, 3, (4, 5, 6), 7]\n",
    "count = 0\n",
    "\n",
    "for n in number:\n",
    "    if isinstance(n, tuple):\n",
    "        break\n",
    "    count += 1\n",
    "\n",
    "print(count)"
   ]
  },
  {
   "cell_type": "code",
   "execution_count": null,
   "id": "92990c68-b5f1-4527-b55a-ac5e340d2402",
   "metadata": {},
   "outputs": [],
   "source": []
  }
 ],
 "metadata": {
  "kernelspec": {
   "display_name": "Python 3 (ipykernel)",
   "language": "python",
   "name": "python3"
  },
  "language_info": {
   "codemirror_mode": {
    "name": "ipython",
    "version": 3
   },
   "file_extension": ".py",
   "mimetype": "text/x-python",
   "name": "python",
   "nbconvert_exporter": "python",
   "pygments_lexer": "ipython3",
   "version": "3.11.4"
  }
 },
 "nbformat": 4,
 "nbformat_minor": 5
}
