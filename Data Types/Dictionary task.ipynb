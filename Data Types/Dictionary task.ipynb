{
 "cells": [
  {
   "cell_type": "code",
   "execution_count": null,
   "id": "e00a325e-2fa9-4178-8877-465bd464fcc3",
   "metadata": {},
   "outputs": [],
   "source": [
    "'''\n",
    "10. Write a Python program to sum all the items in a dictionary.\n",
    "'''"
   ]
  },
  {
   "cell_type": "code",
   "execution_count": null,
   "id": "a675078f-1a12-4e17-91ce-4abe02e3c3b5",
   "metadata": {},
   "outputs": [],
   "source": [
    "'''\n",
    "24. Write a Python program to create a dictionary from a string.\n",
    "'''\n",
    "a = {'key1':1, 'key2':2, 'key3':3}\n",
    "result=1"
   ]
  },
  {
   "cell_type": "code",
   "execution_count": 7,
   "id": "692f26aa-ee86-4805-a6f2-5fbac702adbf",
   "metadata": {},
   "outputs": [
    {
     "name": "stdin",
     "output_type": "stream",
     "text": [
      "Input string: w3resource\n"
     ]
    },
    {
     "name": "stdout",
     "output_type": "stream",
     "text": [
      "{'w': 1, '3': 1, 'r': 2, 'e': 2, 's': 1, 'o': 1, 'u': 1, 'c': 1}\n"
     ]
    }
   ],
   "source": [
    "'''\n",
    "24. Note: Track the count of the letters from the string.\n",
    "Sample string : 'w3resource'\n",
    "Expected output: {'w': 1, '3': 1, 'r': 2, 'e': 2, 's': 1, 'o': 1, 'u': 1, 'c': 1}\n",
    "'''\n",
    "str1=input(\"Input string:\")\n",
    "\n",
    "mydict={}\n",
    "for letter in str1:\n",
    "    if letter in mydict.keys():\n",
    "        mydict[letter] += 1\n",
    "    else:\n",
    "        mydict[letter] = 1\n",
    "\n",
    "print(mydict)\n",
    "\n",
    "#split() - friday"
   ]
  },
  {
   "cell_type": "code",
   "execution_count": 4,
   "id": "61b04e61-a0b1-4081-a441-6fee1e38201c",
   "metadata": {},
   "outputs": [
    {
     "name": "stdin",
     "output_type": "stream",
     "text": [
      "Input a key:  5\n"
     ]
    },
    {
     "name": "stdout",
     "output_type": "stream",
     "text": [
      "No, it does not exist\n"
     ]
    }
   ],
   "source": [
    "'''\n",
    "4. Write a Python script to check whether a given key already exists in a dictionary\n",
    "'''\n",
    "my_dict={1: \"a\", 2: \"b\", 3: \"c\"}\n",
    "key=int(input(\"Input a key: \"))\n",
    "\n",
    "'''for i in my_dict:\n",
    "    if key in my_dict:\n",
    "        print(\"Yes, it exists\")\n",
    "        break\n",
    "    else:\n",
    "        print(\"No, it does not exist\")'''\n",
    "print(\"Yes, it exists\" if key in my_dict.keys() else \"No, it does not exist\")"
   ]
  },
  {
   "cell_type": "code",
   "execution_count": null,
   "id": "8ff53219-b101-4d2f-9727-24ec5d4cf09c",
   "metadata": {},
   "outputs": [],
   "source": []
  }
 ],
 "metadata": {
  "kernelspec": {
   "display_name": "Python 3 (ipykernel)",
   "language": "python",
   "name": "python3"
  },
  "language_info": {
   "codemirror_mode": {
    "name": "ipython",
    "version": 3
   },
   "file_extension": ".py",
   "mimetype": "text/x-python",
   "name": "python",
   "nbconvert_exporter": "python",
   "pygments_lexer": "ipython3",
   "version": "3.11.4"
  }
 },
 "nbformat": 4,
 "nbformat_minor": 5
}
