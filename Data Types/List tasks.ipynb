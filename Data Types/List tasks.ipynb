{
 "cells": [
  {
   "cell_type": "code",
   "execution_count": 5,
   "id": "83b000b4-54ae-4f4a-b85c-65e6ae880008",
   "metadata": {},
   "outputs": [
    {
     "name": "stdout",
     "output_type": "stream",
     "text": [
      "False\n",
      "True\n",
      "False\n"
     ]
    }
   ],
   "source": [
    "''''\n",
    "17. Write a Python program to check if each number is prime in a given list of numbers. Return True if all numbers are prime otherwise False.\n",
    "Sample Data:\n",
    "([0, 3, 4, 7, 9]) -> False\n",
    "([3, 5, 7, 13]) -> True\n",
    "([1, 5, 3]) -> False\n",
    "'''\n",
    "\n",
    "def isPrime(number):\n",
    "    if number == 1:\n",
    "        return False\n",
    "    elif number == 2:\n",
    "        return True\n",
    "    else:\n",
    "        for n in range(2, number):\n",
    "            if number % n == 0:\n",
    "                return False\n",
    "            else:\n",
    "                return True\n",
    "\n",
    "def check_all(currlist):\n",
    "    return all(isPrime(number) for number in currlist)\n",
    "\n",
    "print(check_all([0, 3, 4, 7, 9]))\n",
    "print(check_all([3, 5, 7, 13]))\n",
    "print(check_all([1, 5, 3]))"
   ]
  },
  {
   "cell_type": "code",
   "execution_count": 1,
   "id": "63b47546-2eeb-4e18-8005-e6063db96b1c",
   "metadata": {},
   "outputs": [
    {
     "name": "stdout",
     "output_type": "stream",
     "text": [
      "29\n"
     ]
    }
   ],
   "source": [
    "'''\n",
    "25. Write a Python program to select an item randomly from a list.\n",
    "'''\n",
    "\n",
    "import random\n",
    "\n",
    "mylist = [1, 5, 29, 33, 3]\n",
    "print(random.choice(mylist))"
   ]
  },
  {
   "cell_type": "code",
   "execution_count": 9,
   "id": "c849459b-390f-44e6-a54c-f7edeb276120",
   "metadata": {},
   "outputs": [
    {
     "name": "stdout",
     "output_type": "stream",
     "text": [
      "10\n",
      "4\n",
      "12\n",
      "-1\n"
     ]
    }
   ],
   "source": [
    "'''\n",
    "28. Write a Python program to find the second largest number in a list.\n",
    "'''\n",
    "def second_largest(currlist):\n",
    "    if len(currlist) < 2:\n",
    "        return currlist[0]\n",
    "    elif len(currlist) == 2 and currlist[0] == currlist[1]:\n",
    "        return currlist[0]\n",
    "    else:\n",
    "        currlist.sort()\n",
    "        return currlist[-2]\n",
    "\n",
    "print(second_largest([4, -1, 12, 10, -2]))\n",
    "print(second_largest([4]))\n",
    "print(second_largest([12, 12]))\n",
    "print(second_largest([-1, 12]))"
   ]
  },
  {
   "cell_type": "code",
   "execution_count": 12,
   "id": "768bb25a-b30a-4c62-afce-8b0efe75eb6b",
   "metadata": {},
   "outputs": [
    {
     "name": "stdout",
     "output_type": "stream",
     "text": [
      "[40, 10, 50, 20, 60, 30]\n"
     ]
    }
   ],
   "source": [
    "'''\n",
    "29. Write a Python program to get unique values from a list.\n",
    "'''\n",
    "my_list = [10, 20, 30, 40, 20, 50, 60, 40]\n",
    "my_set = set(my_list)\n",
    "my_new_list = list(my_set)\n",
    "print(my_new_list)"
   ]
  },
  {
   "cell_type": "code",
   "execution_count": 13,
   "id": "e203951f-df6a-4288-b914-f9cc9e5f0496",
   "metadata": {},
   "outputs": [
    {
     "name": "stdout",
     "output_type": "stream",
     "text": [
      "Counter({10: 4, 20: 4, 40: 2, 50: 2, 30: 1})\n"
     ]
    }
   ],
   "source": [
    "'''\n",
    "30. Write a Python program to get the frequency of elements in a list.\n",
    "'''\n",
    "import collections\n",
    "\n",
    "my_list = [10,10,10,10,20,20,20,20,40,40,50,50,30]\n",
    "newlist = collections.Counter(my_list)\n",
    "print(newlist)"
   ]
  },
  {
   "cell_type": "code",
   "execution_count": 2,
   "id": "0aff2cad-0cfb-402b-b6aa-4fa979c08146",
   "metadata": {},
   "outputs": [
    {
     "name": "stdout",
     "output_type": "stream",
     "text": [
      "2\n"
     ]
    }
   ],
   "source": [
    "'''\n",
    "5. Write a Python program to count the number of strings from a given list of strings. The string length is 2 or more and the first and last characters are the same.\n",
    "Sample List : ['abc', 'xyz', 'aba', '1221']\n",
    "Expected Result : 2\n",
    "'''\n",
    "a = ['abc', 'xyz', 'aba', '1221']\n",
    "count = 0\n",
    "\n",
    "for i in a:\n",
    "    if len(i) >= 2 and i[0]==i[-1]:\n",
    "        count += 1\n",
    "\n",
    "print(count)"
   ]
  },
  {
   "cell_type": "code",
   "execution_count": 3,
   "id": "d4f0c8b6-e020-4805-8157-cb81c573a3c3",
   "metadata": {},
   "outputs": [
    {
     "name": "stdout",
     "output_type": "stream",
     "text": [
      "[1, 3]\n"
     ]
    }
   ],
   "source": [
    "'''\n",
    "14. Write a Python program to print the numbers of a specified list after removing even numbers from it.\n",
    "'''\n",
    "simple_list = [1, 2, 3, 4]\n",
    "\n",
    "for i in simple_list:\n",
    "    if i % 2 == 0:\n",
    "        simple_list.remove(i)\n",
    "\n",
    "print(simple_list)"
   ]
  },
  {
   "cell_type": "code",
   "execution_count": null,
   "id": "2203a55f-cd8e-407f-a173-df29d8aa042f",
   "metadata": {},
   "outputs": [],
   "source": []
  }
 ],
 "metadata": {
  "kernelspec": {
   "display_name": "Python 3 (ipykernel)",
   "language": "python",
   "name": "python3"
  },
  "language_info": {
   "codemirror_mode": {
    "name": "ipython",
    "version": 3
   },
   "file_extension": ".py",
   "mimetype": "text/x-python",
   "name": "python",
   "nbconvert_exporter": "python",
   "pygments_lexer": "ipython3",
   "version": "3.11.4"
  }
 },
 "nbformat": 4,
 "nbformat_minor": 5
}
