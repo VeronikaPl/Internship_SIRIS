{
 "cells": [
  {
   "cell_type": "code",
   "execution_count": 1,
   "id": "8251c9df-00c2-49b0-8eb2-92116af7b1c6",
   "metadata": {},
   "outputs": [
    {
     "name": "stdout",
     "output_type": "stream",
     "text": [
      "[30, 40, 50]\n",
      "[10, 20, 30, 40]\n",
      "[40, 50, 60, 70, 80]\n"
     ]
    }
   ],
   "source": [
    "aList = [10, 20, 30, 40, 50, 60, 70, 80]\n",
    "print(aList[2:5])\n",
    "print(aList[:4])\n",
    "print(aList[3:])"
   ]
  },
  {
   "cell_type": "code",
   "execution_count": 2,
   "id": "5e125bd8-e367-446d-bb74-fd42810db8a3",
   "metadata": {},
   "outputs": [
    {
     "name": "stdout",
     "output_type": "stream",
     "text": [
      "[10, 20, 30, 40, 50, 60]\n",
      "[10, 20, 30, 40, 50, 60, 60]\n"
     ]
    }
   ],
   "source": [
    "sampleList = [10, 20, 30, 40, 50]\n",
    "sampleList.append(60)\n",
    "print(sampleList)\n",
    "\n",
    "sampleList.append(60)\n",
    "print(sampleList)"
   ]
  },
  {
   "cell_type": "code",
   "execution_count": 3,
   "id": "ac5f0a03-7f49-4c3b-8663-9e1ea76bc4d1",
   "metadata": {},
   "outputs": [
    {
     "name": "stdout",
     "output_type": "stream",
     "text": [
      "Hello-Python\n"
     ]
    }
   ],
   "source": [
    "my_list = [\"Hello\", \"Python\"]\n",
    "print(\"-\".join(my_list))"
   ]
  },
  {
   "cell_type": "code",
   "execution_count": 4,
   "id": "5fbd4e2e-f7fd-4b6c-a85e-a851a4cd9462",
   "metadata": {},
   "outputs": [
    {
     "name": "stdout",
     "output_type": "stream",
     "text": [
      "['Hello Dear', 'Hello Bye', 'Good Dear', 'Good Bye']\n"
     ]
    }
   ],
   "source": [
    "resList = [x+y for x in ['Hello ', 'Good '] for y in ['Dear', 'Bye']]\n",
    "print(resList)"
   ]
  },
  {
   "cell_type": "code",
   "execution_count": 5,
   "id": "2957d64c-2842-432c-b357-96b4d1473035",
   "metadata": {},
   "outputs": [
    {
     "name": "stdout",
     "output_type": "stream",
     "text": [
      "[25, 10]\n"
     ]
    }
   ],
   "source": [
    "aList = [5, 10, 15, 25]\n",
    "print(aList[::-2])"
   ]
  },
  {
   "cell_type": "code",
   "execution_count": 6,
   "id": "88f23c8e-dde7-494f-adfb-32d8a96445f6",
   "metadata": {},
   "outputs": [
    {
     "name": "stdout",
     "output_type": "stream",
     "text": [
      "zara\n"
     ]
    }
   ],
   "source": [
    "list1 = ['xyz', 'zara', 'PYnative']\n",
    "print (max(list1))"
   ]
  },
  {
   "cell_type": "code",
   "execution_count": 7,
   "id": "30e11ecb-e39d-417d-88dd-754f873eb87e",
   "metadata": {},
   "outputs": [
    {
     "name": "stdout",
     "output_type": "stream",
     "text": [
      "[2, 4, 6, 8, 10, 12, 14]\n"
     ]
    }
   ],
   "source": [
    "aList = [1, 2, 3, 4, 5, 6, 7]\n",
    "pow2 =  [2 * x for x in aList]\n",
    "print(pow2)"
   ]
  },
  {
   "cell_type": "code",
   "execution_count": 8,
   "id": "497eab1a-ca2c-4251-909e-5f99b7570d68",
   "metadata": {},
   "outputs": [
    {
     "name": "stdout",
     "output_type": "stream",
     "text": [
      "[]\n"
     ]
    }
   ],
   "source": [
    "sampleList = [10, 20, 30, 40]\n",
    "del sampleList[0:6]\n",
    "print(sampleList)"
   ]
  },
  {
   "cell_type": "code",
   "execution_count": 9,
   "id": "c4b437b1-88de-4a32-81e6-af668bf37903",
   "metadata": {},
   "outputs": [
    {
     "name": "stdout",
     "output_type": "stream",
     "text": [
      "[4, 20, 24, 28]\n"
     ]
    }
   ],
   "source": [
    "aList = [4, 8, 12, 16]\n",
    "aList[1:4] = [20, 24, 28]\n",
    "print(aList)"
   ]
  },
  {
   "cell_type": "code",
   "execution_count": 10,
   "id": "7a6c53fc-76f7-45a2-9f77-c6b3f883ff8c",
   "metadata": {},
   "outputs": [
    {
     "name": "stdout",
     "output_type": "stream",
     "text": [
      "10\n"
     ]
    }
   ],
   "source": [
    "l = [None] * 10\n",
    "print(len(l))"
   ]
  },
  {
   "cell_type": "code",
   "execution_count": 11,
   "id": "6e86098a-3910-433a-ae7b-e7132e06acf4",
   "metadata": {},
   "outputs": [
    {
     "name": "stdout",
     "output_type": "stream",
     "text": [
      "[10, 20, 30, 40]\n",
      "[10, 20, 40]\n"
     ]
    }
   ],
   "source": [
    "sampleList = [10, 20, 30, 40, 50]\n",
    "sampleList.pop()\n",
    "print(sampleList)\n",
    "\n",
    "sampleList.pop(2)\n",
    "print(sampleList)"
   ]
  },
  {
   "cell_type": "code",
   "execution_count": 12,
   "id": "ed6edb87-7728-457e-8412-00bf5d2999cf",
   "metadata": {},
   "outputs": [
    {
     "name": "stdout",
     "output_type": "stream",
     "text": [
      "12\n"
     ]
    }
   ],
   "source": [
    "check1 = ['Learn', 'Quiz', 'Practice', 'Contribute'] \n",
    "check2 = check1 \n",
    "check3 = check1[:] \n",
    " \n",
    "check2[0] = 'Code'\n",
    "check3[1] = 'Mcq'\n",
    " \n",
    "count = 0\n",
    "for c in (check1, check2, check3): \n",
    "    if c[0] == 'Code': \n",
    "        count += 1\n",
    "    if c[1] == 'Mcq': \n",
    "        count += 10\n",
    " \n",
    "print (count)"
   ]
  },
  {
   "cell_type": "code",
   "execution_count": 13,
   "id": "c3808916-1372-43ff-81bb-ac558fee4e02",
   "metadata": {},
   "outputs": [
    {
     "name": "stdout",
     "output_type": "stream",
     "text": [
      "[3, 2, 1, 0, 1, 4]\n"
     ]
    }
   ],
   "source": [
    "def gfg(x,l=[]): \n",
    "    for i in range(x): \n",
    "        l.append(i*i) \n",
    "    print(l) \n",
    " \n",
    "gfg(3,[3,2,1])"
   ]
  },
  {
   "cell_type": "code",
   "execution_count": 14,
   "id": "54c29858-1f7e-4baf-9342-97299edc0cfc",
   "metadata": {},
   "outputs": [
    {
     "name": "stdout",
     "output_type": "stream",
     "text": [
      "5\n"
     ]
    }
   ],
   "source": [
    "list1 = range(100, 110) \n",
    " \n",
    "# statement 2\n",
    "print (list1.index(105))"
   ]
  },
  {
   "cell_type": "code",
   "execution_count": 15,
   "id": "8da15827-e437-4ff1-81f0-9976f6659096",
   "metadata": {},
   "outputs": [
    {
     "name": "stdout",
     "output_type": "stream",
     "text": [
      "[0, 2, 3, 4, 5]\n"
     ]
    }
   ],
   "source": [
    "list1 = [1, 2, 3, 4, 5] \n",
    "list2 = list1 \n",
    "list2[0] = 0; \n",
    " \n",
    "print( list1)"
   ]
  },
  {
   "cell_type": "code",
   "execution_count": 16,
   "id": "7112aa2e-7190-47ad-b7ac-6f49659cecec",
   "metadata": {},
   "outputs": [
    {
     "name": "stdout",
     "output_type": "stream",
     "text": [
      "[9, 18, 27, 36, 45]\n"
     ]
    }
   ],
   "source": [
    "d1 = [10, 20, 30, 40, 50] \n",
    "d2 = [1, 2, 3, 4, 5] \n",
    " \n",
    " \n",
    "subtracted = list()\n",
    "for d1, d2 in zip(d1, d2):\n",
    "    item = d1 -d2\n",
    "    subtracted.append(item)\n",
    " \n",
    "print(subtracted)"
   ]
  },
  {
   "cell_type": "code",
   "execution_count": 17,
   "id": "d779484c-add8-4918-88d9-41c65e0bf8b7",
   "metadata": {},
   "outputs": [
    {
     "name": "stdout",
     "output_type": "stream",
     "text": [
      "[]\n"
     ]
    }
   ],
   "source": [
    "list = ['a', 'b', 'c', 'd', 'e'] \n",
    "print(list[10:] )"
   ]
  },
  {
   "cell_type": "code",
   "execution_count": 18,
   "id": "5074c8c8-7653-44ed-85af-2d3981a9f93d",
   "metadata": {},
   "outputs": [
    {
     "name": "stdout",
     "output_type": "stream",
     "text": [
      "[]\n"
     ]
    }
   ],
   "source": [
    "list = ['a', 'b', 'c'] * -3\n",
    "print(list)"
   ]
  },
  {
   "cell_type": "code",
   "execution_count": 19,
   "id": "f0c9569a-3b74-4db8-b256-037fd262add9",
   "metadata": {},
   "outputs": [
    {
     "name": "stdout",
     "output_type": "stream",
     "text": [
      "[[[2, 3, 9]], [[2, 3, 9]], [[2, 3, 9]]]\n"
     ]
    }
   ],
   "source": [
    "data = [2, 3, 9] \n",
    "temp = [[x for x in[data]] for x in range(3)] \n",
    "print (temp)"
   ]
  },
  {
   "cell_type": "code",
   "execution_count": 21,
   "id": "4908642e-2f3f-4a14-845c-473c0d573fd9",
   "metadata": {},
   "outputs": [
    {
     "name": "stdout",
     "output_type": "stream",
     "text": [
      "[0, 2, 4]\n"
     ]
    }
   ],
   "source": [
    "data = [x for x in range(5)] \n",
    "temp = [x for x in range(7) if x in data and x%2==0] \n",
    "print(temp) "
   ]
  },
  {
   "cell_type": "code",
   "execution_count": 22,
   "id": "78f3948e-8b0d-4f25-871f-0b6394a33e72",
   "metadata": {},
   "outputs": [
    {
     "name": "stdout",
     "output_type": "stream",
     "text": [
      "['G', 'F', 'G']\n"
     ]
    }
   ],
   "source": [
    "temp = ['Geeks', 'for', 'Geeks'] \n",
    "arr = [i[0].upper() for i in temp] \n",
    "print(arr)"
   ]
  },
  {
   "cell_type": "code",
   "execution_count": 23,
   "id": "e18a8662-b810-4e30-b273-7f4e0c32ab20",
   "metadata": {},
   "outputs": [
    {
     "name": "stdout",
     "output_type": "stream",
     "text": [
      "[2, 2, 6, 4, 4]\n"
     ]
    }
   ],
   "source": [
    "temp = 'Geeks 22536 for 445 Geeks'\n",
    "data = [x for x in (int(x) for x in temp if x.isdigit()) if x%2 == 0] \n",
    "print(data) "
   ]
  },
  {
   "cell_type": "code",
   "execution_count": 24,
   "id": "c4a94193-1b70-438c-8bc2-2c50704e5762",
   "metadata": {},
   "outputs": [
    {
     "name": "stdout",
     "output_type": "stream",
     "text": [
      "[]\n"
     ]
    }
   ],
   "source": [
    "data = [x for x in (x for x in 'Geeks 22966 for Geeks' if x.isdigit()) if\n",
    "(x in ([x for x in range(20)]))] \n",
    "print(data) "
   ]
  },
  {
   "cell_type": "code",
   "execution_count": 25,
   "id": "6eaffebd-978c-4ab1-8a4d-b207487ed830",
   "metadata": {},
   "outputs": [
    {
     "name": "stdout",
     "output_type": "stream",
     "text": [
      "11\n"
     ]
    }
   ],
   "source": [
    "L1 = []\n",
    "L1.append([1, [2, 3], 4]) \n",
    "L1.extend([7, 8, 9]) \n",
    "print(L1[0][1][1] + L1[2]) "
   ]
  },
  {
   "cell_type": "code",
   "execution_count": 26,
   "id": "e2b1c18e-2e67-44ce-aa6f-827cea36dae9",
   "metadata": {},
   "outputs": [
    {
     "name": "stdout",
     "output_type": "stream",
     "text": [
      "2.33 GFGNO\n"
     ]
    }
   ],
   "source": [
    "L1 = [1, 1.33, 'GFG', 0, 'NO', None, 'G', True] \n",
    "val1, val2 = 0,'' \n",
    "for x in L1: \n",
    "    if(type(x) == int or type(x) == float): \n",
    "        val1 += x \n",
    "    elif(type(x) == str): \n",
    "        val2 += x \n",
    "    else: \n",
    "        break\n",
    "print(val1, val2) "
   ]
  },
  {
   "cell_type": "code",
   "execution_count": 27,
   "id": "97e11da3-a780-4103-8222-f957d5ee6406",
   "metadata": {},
   "outputs": [
    {
     "name": "stdout",
     "output_type": "stream",
     "text": [
      "[[5], 2, 3, 4] [[5], 2, 3, 4] [1, 2, 3, 4] [[5], 2, 3, 4]\n"
     ]
    }
   ],
   "source": [
    "L1 = [1, 2, 3, 4] \n",
    "L2 = L1 \n",
    "L3 = L1.copy() \n",
    "L4 = L1\n",
    "L1[0] = [5] \n",
    "print(L1, L2, L3, L4) "
   ]
  },
  {
   "cell_type": "code",
   "execution_count": 28,
   "id": "2a0080b2-27b2-4840-ac82-c820ea9aa331",
   "metadata": {},
   "outputs": [
    {
     "name": "stdout",
     "output_type": "stream",
     "text": [
      "[0, 3, -9, -6, 0, 0]\n"
     ]
    }
   ],
   "source": [
    "nums = [0, -5, 3, -9, -6, -11, 0, 0, 5, 3, 27]\n",
    "\n",
    "print([num for num in nums if num % 3 == 0][:-2])"
   ]
  },
  {
   "cell_type": "code",
   "execution_count": 29,
   "id": "4f102222-4f27-40b6-9207-fc07b0ada06d",
   "metadata": {},
   "outputs": [
    {
     "name": "stdout",
     "output_type": "stream",
     "text": [
      "[0, 1, 2, 3, 4, 1, 2, 3, 4, 5]\n"
     ]
    }
   ],
   "source": [
    "l = [i + j for i in range(2) for j in range(5)]\n",
    "print(l)"
   ]
  },
  {
   "cell_type": "code",
   "execution_count": 30,
   "id": "60dc6f0c-76a1-45bd-a8a4-2f1ee51de115",
   "metadata": {},
   "outputs": [
    {
     "name": "stdout",
     "output_type": "stream",
     "text": [
      "[0]\n"
     ]
    }
   ],
   "source": [
    "l = [i for i in [i for i in range(5)][:-4]]\n",
    "print(l)"
   ]
  },
  {
   "cell_type": "code",
   "execution_count": 31,
   "id": "63974ddd-4cba-43c8-9e77-cdfab1b05bc6",
   "metadata": {},
   "outputs": [
    {
     "name": "stdout",
     "output_type": "stream",
     "text": [
      "[[0, 0], [1, 1], [2, 2]]\n"
     ]
    }
   ],
   "source": [
    "l = [[i for j in range(2)] for i in range(3)]\n",
    "print(l)"
   ]
  },
  {
   "cell_type": "code",
   "execution_count": 32,
   "id": "92705bb5-a4e1-406a-8764-9161af079d97",
   "metadata": {},
   "outputs": [
    {
     "name": "stdout",
     "output_type": "stream",
     "text": [
      "[3, 2]\n"
     ]
    }
   ],
   "source": [
    "list1=[1,2]\n",
    "list2=list1\n",
    "list1[0]=3\n",
    "print(list2)"
   ]
  },
  {
   "cell_type": "code",
   "execution_count": null,
   "id": "3de5a297-3c8a-4232-8fd7-ea24023fa022",
   "metadata": {},
   "outputs": [],
   "source": []
  }
 ],
 "metadata": {
  "kernelspec": {
   "display_name": "Python 3 (ipykernel)",
   "language": "python",
   "name": "python3"
  },
  "language_info": {
   "codemirror_mode": {
    "name": "ipython",
    "version": 3
   },
   "file_extension": ".py",
   "mimetype": "text/x-python",
   "name": "python",
   "nbconvert_exporter": "python",
   "pygments_lexer": "ipython3",
   "version": "3.11.4"
  }
 },
 "nbformat": 4,
 "nbformat_minor": 5
}
