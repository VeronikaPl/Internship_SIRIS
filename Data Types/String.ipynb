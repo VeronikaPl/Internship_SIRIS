{
 "cells": [
  {
   "cell_type": "code",
   "execution_count": 1,
   "id": "6fc42809-0034-485e-b5c0-de78180d0371",
   "metadata": {},
   "outputs": [
    {
     "name": "stdout",
     "output_type": "stream",
     "text": [
      "A Computer Science portal for geeks\n"
     ]
    }
   ],
   "source": [
    "print(\"A Computer Science portal for geeks\")"
   ]
  },
  {
   "cell_type": "code",
   "execution_count": 3,
   "id": "b9d8526a-1c53-4ec2-a17c-32ed65c3ef63",
   "metadata": {},
   "outputs": [
    {
     "name": "stdout",
     "output_type": "stream",
     "text": [
      "String with the use of Single Quotes: \n",
      "Welcome to the Geeks World\n",
      "\n",
      "String with the use of Double Quotes: \n",
      "I'm a Geek\n",
      "\n",
      "String with the use of Triple Quotes: \n",
      "I'm a Geek and I live in a world of \"Geeks\"\n",
      "\n",
      "Creating a multiline String: \n",
      "Geeks\n",
      "            For\n",
      "            Life\n"
     ]
    }
   ],
   "source": [
    "String1 = 'Welcome to the Geeks World'\n",
    "print(\"String with the use of Single Quotes: \")\n",
    "print(String1)\n",
    " \n",
    "# Creating a String\n",
    "# with double Quotes\n",
    "String1 = \"I'm a Geek\"\n",
    "print(\"\\nString with the use of Double Quotes: \")\n",
    "print(String1)\n",
    " \n",
    "# Creating a String\n",
    "# with triple Quotes\n",
    "String1 = '''I'm a Geek and I live in a world of \"Geeks\"'''\n",
    "print(\"\\nString with the use of Triple Quotes: \")\n",
    "print(String1)\n",
    " \n",
    "# Creating String with triple\n",
    "# Quotes allows multiple lines\n",
    "String1 = '''Geeks\n",
    "            For\n",
    "            Life'''\n",
    "print(\"\\nCreating a multiline String: \")\n",
    "print(String1)"
   ]
  },
  {
   "cell_type": "code",
   "execution_count": 4,
   "id": "3e3a3cff-9ede-4fd8-8b1f-93d16cafcf8e",
   "metadata": {},
   "outputs": [
    {
     "name": "stdout",
     "output_type": "stream",
     "text": [
      "Initial String: \n",
      "GeeksForGeeks\n",
      "\n",
      "First character of String is: \n",
      "G\n",
      "\n",
      "Last character of String is: \n",
      "s\n"
     ]
    }
   ],
   "source": [
    "String1 = \"GeeksForGeeks\"\n",
    "print(\"Initial String: \")\n",
    "print(String1)\n",
    " \n",
    "# Printing First character\n",
    "print(\"\\nFirst character of String is: \")\n",
    "print(String1[0])\n",
    " \n",
    "# Printing Last character\n",
    "print(\"\\nLast character of String is: \")\n",
    "print(String1[-1])"
   ]
  },
  {
   "cell_type": "code",
   "execution_count": 5,
   "id": "6809d9d5-d722-4ca2-9781-754646b5e5c1",
   "metadata": {},
   "outputs": [
    {
     "name": "stdout",
     "output_type": "stream",
     "text": [
      "skeegrofskeeg\n"
     ]
    }
   ],
   "source": [
    "#Program to reverse a string\n",
    "gfg = \"geeksforgeeks\"\n",
    "print(gfg[::-1])"
   ]
  },
  {
   "cell_type": "code",
   "execution_count": 6,
   "id": "89961e32-f16d-4d1b-bb57-7672e43cacc6",
   "metadata": {},
   "outputs": [
    {
     "name": "stdout",
     "output_type": "stream",
     "text": [
      "skeegrofskeeg\n"
     ]
    }
   ],
   "source": [
    "gfg = \"geeksforgeeks\"\n",
    "\n",
    "# Reverse the string using reversed and join function\n",
    "gfg = \"\".join(reversed(gfg))\n",
    "\n",
    "print(gfg)"
   ]
  },
  {
   "cell_type": "code",
   "execution_count": 7,
   "id": "a068088e-b36f-460d-bdb5-fc14f3409b1f",
   "metadata": {},
   "outputs": [
    {
     "name": "stdout",
     "output_type": "stream",
     "text": [
      "Initial String: \n",
      "GeeksForGeeks\n",
      "\n",
      "Slicing characters from 3-12: \n",
      "ksForGeek\n",
      "\n",
      "Slicing characters between 3rd and 2nd last character: \n",
      "ksForGee\n"
     ]
    }
   ],
   "source": [
    "String1 = \"GeeksForGeeks\"\n",
    "print(\"Initial String: \")\n",
    "print(String1)\n",
    " \n",
    "# Printing 3rd to 12th character\n",
    "print(\"\\nSlicing characters from 3-12: \")\n",
    "print(String1[3:12])\n",
    " \n",
    "# Printing characters between\n",
    "# 3rd and 2nd last character\n",
    "print(\"\\nSlicing characters between \" +\n",
    "      \"3rd and 2nd last character: \")\n",
    "print(String1[3:-2])"
   ]
  },
  {
   "cell_type": "code",
   "execution_count": 8,
   "id": "0fc95199-e637-43cd-804c-dbd83517f975",
   "metadata": {},
   "outputs": [
    {
     "name": "stdout",
     "output_type": "stream",
     "text": [
      "Initial String: \n",
      "Hello, I'm a Geek\n",
      "\n",
      "Updating character at 2nd Index: \n",
      "Heplo, I'm a Geek\n",
      "Heplo, I'm a Geek\n"
     ]
    }
   ],
   "source": [
    "String1 = \"Hello, I'm a Geek\"\n",
    "print(\"Initial String: \")\n",
    "print(String1)\n",
    " \n",
    "# Updating a character of the String\n",
    "## As python strings are immutable, they don't support item updation directly\n",
    "### there are following two ways\n",
    "#1\n",
    "list1 = list(String1)\n",
    "list1[2] = 'p'\n",
    "String2 = ''.join(list1)\n",
    "print(\"\\nUpdating character at 2nd Index: \")\n",
    "print(String2)\n",
    " \n",
    "#2\n",
    "String3 = String1[0:2] + 'p' + String1[3:]\n",
    "print(String3)"
   ]
  },
  {
   "cell_type": "code",
   "execution_count": 9,
   "id": "627295fe-2066-4ed3-9c28-15e9648cf078",
   "metadata": {},
   "outputs": [
    {
     "name": "stdout",
     "output_type": "stream",
     "text": [
      "Initial String: \n",
      "Hello, I'm a Geek\n",
      "\n",
      "Updated String: \n",
      "Welcome to the Geek World\n"
     ]
    }
   ],
   "source": [
    "String1 = \"Hello, I'm a Geek\"\n",
    "print(\"Initial String: \")\n",
    "print(String1)\n",
    " \n",
    "# Updating a String\n",
    "String1 = \"Welcome to the Geek World\"\n",
    "print(\"\\nUpdated String: \")\n",
    "print(String1)"
   ]
  },
  {
   "cell_type": "code",
   "execution_count": 10,
   "id": "4e6e822d-01ff-4de2-9ae2-0ea501178fad",
   "metadata": {},
   "outputs": [
    {
     "name": "stdout",
     "output_type": "stream",
     "text": [
      "Initial String: \n",
      "Hello, I'm a Geek\n",
      "\n",
      "Deleting character at 2nd Index: \n",
      "Helo, I'm a Geek\n"
     ]
    }
   ],
   "source": [
    "String1 = \"Hello, I'm a Geek\"\n",
    "print(\"Initial String: \")\n",
    "print(String1)\n",
    " \n",
    "# Deleting a character\n",
    "# of the String\n",
    "String2 = String1[0:2] + String1[3:]\n",
    "print(\"\\nDeleting character at 2nd Index: \")\n",
    "print(String2)"
   ]
  },
  {
   "cell_type": "code",
   "execution_count": 11,
   "id": "1d5845d3-2ca9-4962-bb8f-72272834e44c",
   "metadata": {},
   "outputs": [
    {
     "name": "stdout",
     "output_type": "stream",
     "text": [
      "Initial String: \n",
      "Hello, I'm a Geek\n",
      "\n",
      "Deleting entire String: \n"
     ]
    },
    {
     "ename": "NameError",
     "evalue": "name 'String1' is not defined",
     "output_type": "error",
     "traceback": [
      "\u001b[1;31m---------------------------------------------------------------------------\u001b[0m",
      "\u001b[1;31mNameError\u001b[0m                                 Traceback (most recent call last)",
      "Cell \u001b[1;32mIn[11], line 9\u001b[0m\n\u001b[0;32m      7\u001b[0m \u001b[38;5;28;01mdel\u001b[39;00m String1\n\u001b[0;32m      8\u001b[0m \u001b[38;5;28mprint\u001b[39m(\u001b[38;5;124m\"\u001b[39m\u001b[38;5;130;01m\\n\u001b[39;00m\u001b[38;5;124mDeleting entire String: \u001b[39m\u001b[38;5;124m\"\u001b[39m)\n\u001b[1;32m----> 9\u001b[0m \u001b[38;5;28mprint\u001b[39m(\u001b[43mString1\u001b[49m)\n",
      "\u001b[1;31mNameError\u001b[0m: name 'String1' is not defined"
     ]
    }
   ],
   "source": [
    "String1 = \"Hello, I'm a Geek\"\n",
    "print(\"Initial String: \")\n",
    "print(String1)\n",
    " \n",
    "# Deleting a String\n",
    "# with the use of del\n",
    "del String1\n",
    "print(\"\\nDeleting entire String: \")\n",
    "print(String1)"
   ]
  },
  {
   "cell_type": "code",
   "execution_count": 12,
   "id": "85a25616-4441-4737-97b1-3ff902cdb334",
   "metadata": {},
   "outputs": [
    {
     "name": "stdout",
     "output_type": "stream",
     "text": [
      "Initial String with use of Triple Quotes: \n",
      "I'm a \"Geek\"\n",
      "\n",
      "Escaping Single Quote: \n",
      "I'm a \"Geek\"\n",
      "\n",
      "Escaping Double Quotes: \n",
      "I'm a \"Geek\"\n",
      "\n",
      "Escaping Backslashes: \n",
      "C:\\Python\\Geeks\\\n",
      "\n",
      "Tab: \n",
      "Hi\tGeeks\n",
      "\n",
      "New Line: \n",
      "Python\n",
      "Geeks\n"
     ]
    }
   ],
   "source": [
    "String1 = '''I'm a \"Geek\"'''\n",
    "print(\"Initial String with use of Triple Quotes: \")\n",
    "print(String1)\n",
    " \n",
    "# Escaping Single Quote\n",
    "String1 = 'I\\'m a \"Geek\"'\n",
    "print(\"\\nEscaping Single Quote: \")\n",
    "print(String1)\n",
    " \n",
    "# Escaping Double Quotes\n",
    "String1 = \"I'm a \\\"Geek\\\"\"\n",
    "print(\"\\nEscaping Double Quotes: \")\n",
    "print(String1)\n",
    " \n",
    "# Printing Paths with the\n",
    "# use of Escape Sequences\n",
    "String1 = \"C:\\\\Python\\\\Geeks\\\\\"\n",
    "print(\"\\nEscaping Backslashes: \")\n",
    "print(String1)\n",
    " \n",
    "# Printing Paths with the\n",
    "# use of Tab\n",
    "String1 = \"Hi\\tGeeks\"\n",
    "print(\"\\nTab: \")\n",
    "print(String1)\n",
    " \n",
    "# Printing Paths with the\n",
    "# use of New Line\n",
    "String1 = \"Python\\nGeeks\"\n",
    "print(\"\\nNew Line: \")\n",
    "print(String1)"
   ]
  },
  {
   "cell_type": "code",
   "execution_count": 13,
   "id": "c91d36aa-3160-4ed1-913a-2a2e49c267e1",
   "metadata": {},
   "outputs": [
    {
     "name": "stdout",
     "output_type": "stream",
     "text": [
      "\n",
      "Printing in Octal with the use of Escape Sequences: \n",
      "Hello\n",
      "\n",
      "Printing Raw String in Octal Format: \n",
      "This is \\110\\145\\154\\154\\157\n",
      "\n",
      "Printing in HEX with the use of Escape Sequences: \n",
      "This is Geeks in HEX\n",
      "\n",
      "Printing Raw String in HEX Format: \n",
      "This is \\x47\\x65\\x65\\x6b\\x73 in \\x48\\x45\\x58\n"
     ]
    }
   ],
   "source": [
    "# Printing hello in octal\n",
    "String1 = \"\\110\\145\\154\\154\\157\"\n",
    "print(\"\\nPrinting in Octal with the use of Escape Sequences: \")\n",
    "print(String1)\n",
    " \n",
    "# Using raw String to\n",
    "# ignore Escape Sequences\n",
    "String1 = r\"This is \\110\\145\\154\\154\\157\"\n",
    "print(\"\\nPrinting Raw String in Octal Format: \")\n",
    "print(String1)\n",
    " \n",
    "# Printing Geeks in HEX\n",
    "String1 = \"This is \\x47\\x65\\x65\\x6b\\x73 in \\x48\\x45\\x58\"\n",
    "print(\"\\nPrinting in HEX with the use of Escape Sequences: \")\n",
    "print(String1)\n",
    " \n",
    "# Using raw String to\n",
    "# ignore Escape Sequences\n",
    "String1 = r\"This is \\x47\\x65\\x65\\x6b\\x73 in \\x48\\x45\\x58\"\n",
    "print(\"\\nPrinting Raw String in HEX Format: \")\n",
    "print(String1)"
   ]
  },
  {
   "cell_type": "code",
   "execution_count": 14,
   "id": "7f151748-e3da-4965-a67a-7f062bb523a0",
   "metadata": {},
   "outputs": [
    {
     "name": "stdout",
     "output_type": "stream",
     "text": [
      "Print String in default order: \n",
      "Geeks For Life\n",
      "\n",
      "Print String in Positional order: \n",
      "For Geeks Life\n",
      "\n",
      "Print String in order of Keywords: \n",
      "Life For Geeks\n"
     ]
    }
   ],
   "source": [
    "# Default order\n",
    "String1 = \"{} {} {}\".format('Geeks', 'For', 'Life')\n",
    "print(\"Print String in default order: \")\n",
    "print(String1)\n",
    " \n",
    "# Positional Formatting\n",
    "String1 = \"{1} {0} {2}\".format('Geeks', 'For', 'Life')\n",
    "print(\"\\nPrint String in Positional order: \")\n",
    "print(String1)\n",
    " \n",
    "# Keyword Formatting\n",
    "String1 = \"{l} {f} {g}\".format(g='Geeks', f='For', l='Life')\n",
    "print(\"\\nPrint String in order of Keywords: \")\n",
    "print(String1)"
   ]
  },
  {
   "cell_type": "code",
   "execution_count": 15,
   "id": "8f1659f9-6ddc-477f-9ac2-e18a13f25e01",
   "metadata": {},
   "outputs": [
    {
     "name": "stdout",
     "output_type": "stream",
     "text": [
      "\n",
      "Binary representation of 16 is \n",
      "10000\n",
      "\n",
      "Exponent representation of 165.6458 is \n",
      "1.656458e+02\n",
      "\n",
      "one-sixth is : \n",
      "0.17\n"
     ]
    }
   ],
   "source": [
    "String1 = \"{0:b}\".format(16)\n",
    "print(\"\\nBinary representation of 16 is \")\n",
    "print(String1)\n",
    " \n",
    "# Formatting of Floats\n",
    "String1 = \"{0:e}\".format(165.6458)\n",
    "print(\"\\nExponent representation of 165.6458 is \")\n",
    "print(String1)\n",
    " \n",
    "# Rounding off Integers\n",
    "String1 = \"{0:.2f}\".format(1/6)\n",
    "print(\"\\none-sixth is : \")\n",
    "print(String1)"
   ]
  },
  {
   "cell_type": "code",
   "execution_count": 16,
   "id": "eaad91d4-4d7f-4b40-8961-c91c5b11a45a",
   "metadata": {},
   "outputs": [
    {
     "name": "stdout",
     "output_type": "stream",
     "text": [
      "\n",
      "Left, center and right alignment with Formatting: \n",
      "|Geeks     |   for    |     Geeks|\n",
      "\n",
      " GeeksforGeeks   was founded in 2009!\n"
     ]
    }
   ],
   "source": [
    "String1 = \"|{:<10}|{:^10}|{:>10}|\".format('Geeks',\n",
    "                                          'for',\n",
    "                                          'Geeks')\n",
    "print(\"\\nLeft, center and right alignment with Formatting: \")\n",
    "print(String1)\n",
    " \n",
    "# To demonstrate aligning of spaces\n",
    "String1 = \"\\n{0:^16} was founded in {1:<4}!\".format(\"GeeksforGeeks\",\n",
    "                                                    2009)\n",
    "print(String1)"
   ]
  },
  {
   "cell_type": "code",
   "execution_count": 17,
   "id": "c61646e4-4146-48e0-b769-d0214f269cce",
   "metadata": {},
   "outputs": [
    {
     "name": "stdout",
     "output_type": "stream",
     "text": [
      "Formatting in 3.2f format: \n",
      "The value of Integer1 is 12.35\n",
      "\n",
      "Formatting in 3.4f format: \n",
      "The value of Integer1 is 12.3457\n"
     ]
    }
   ],
   "source": [
    "Integer1 = 12.3456789\n",
    "print(\"Formatting in 3.2f format: \")\n",
    "print('The value of Integer1 is %3.2f' % Integer1)\n",
    "print(\"\\nFormatting in 3.4f format: \")\n",
    "print('The value of Integer1 is %3.4f' % Integer1)"
   ]
  },
  {
   "cell_type": "code",
   "execution_count": 18,
   "id": "b2d9fbe3-c877-4e96-bedd-43edc93003c2",
   "metadata": {},
   "outputs": [
    {
     "name": "stdout",
     "output_type": "stream",
     "text": [
      "Lorem ipsum dolor sit amet,\n",
      "consectetur adipiscing elit,\n",
      "sed do eiusmod tempor incididunt\n",
      "ut labore et dolore magna aliqua.\n"
     ]
    }
   ],
   "source": [
    "a = \"\"\"Lorem ipsum dolor sit amet,\n",
    "consectetur adipiscing elit,\n",
    "sed do eiusmod tempor incididunt\n",
    "ut labore et dolore magna aliqua.\"\"\"\n",
    "print(a)"
   ]
  },
  {
   "cell_type": "code",
   "execution_count": 19,
   "id": "c48cba11-7075-4e91-8d68-fe7724510c7b",
   "metadata": {},
   "outputs": [
    {
     "name": "stdout",
     "output_type": "stream",
     "text": [
      "b\n",
      "a\n",
      "n\n",
      "a\n",
      "n\n",
      "a\n"
     ]
    }
   ],
   "source": [
    "for x in \"banana\":\n",
    "  print(x)"
   ]
  },
  {
   "cell_type": "code",
   "execution_count": 20,
   "id": "2b6a72c3-07f1-43e2-9db1-c8008455f0e0",
   "metadata": {},
   "outputs": [
    {
     "name": "stdout",
     "output_type": "stream",
     "text": [
      "True\n"
     ]
    }
   ],
   "source": [
    "txt = \"The best things in life are free!\"\n",
    "print(\"free\" in txt)"
   ]
  },
  {
   "cell_type": "code",
   "execution_count": 21,
   "id": "97f67961-8376-4671-ada0-2f90ee996706",
   "metadata": {},
   "outputs": [
    {
     "name": "stdout",
     "output_type": "stream",
     "text": [
      "Yes, 'free' is present.\n"
     ]
    }
   ],
   "source": [
    "txt = \"The best things in life are free!\"\n",
    "if \"free\" in txt:\n",
    "  print(\"Yes, 'free' is present.\")"
   ]
  },
  {
   "cell_type": "code",
   "execution_count": 22,
   "id": "f8a3f244-6659-4534-a801-afefdd6f0911",
   "metadata": {},
   "outputs": [
    {
     "name": "stdout",
     "output_type": "stream",
     "text": [
      "No, 'expensive' is NOT present.\n"
     ]
    }
   ],
   "source": [
    "txt = \"The best things in life are free!\"\n",
    "if \"expensive\" not in txt:\n",
    "  print(\"No, 'expensive' is NOT present.\")"
   ]
  },
  {
   "cell_type": "code",
   "execution_count": 23,
   "id": "2e537087-6343-4f42-a458-dc012c2130a4",
   "metadata": {},
   "outputs": [
    {
     "name": "stdout",
     "output_type": "stream",
     "text": [
      "Hello\n"
     ]
    }
   ],
   "source": [
    "b = \"Hello, World!\"\n",
    "print(b[:5])"
   ]
  },
  {
   "cell_type": "code",
   "execution_count": 24,
   "id": "924a4598-d259-4e4d-a6a4-865e27a5431d",
   "metadata": {},
   "outputs": [
    {
     "name": "stdout",
     "output_type": "stream",
     "text": [
      "orl\n"
     ]
    }
   ],
   "source": [
    "b = \"Hello, World!\"\n",
    "print(b[-5:-2])"
   ]
  },
  {
   "cell_type": "code",
   "execution_count": 25,
   "id": "5e503968-30fe-4299-a602-5a5767c7963f",
   "metadata": {},
   "outputs": [
    {
     "name": "stdout",
     "output_type": "stream",
     "text": [
      "HELLO, WORLD!\n",
      "hello, world!\n"
     ]
    }
   ],
   "source": [
    "a = \"Hello, World!\"\n",
    "print(a.upper())\n",
    "print(a.lower())"
   ]
  },
  {
   "cell_type": "code",
   "execution_count": 26,
   "id": "d2da6099-6583-4289-a584-16b8a7e26e47",
   "metadata": {},
   "outputs": [
    {
     "name": "stdout",
     "output_type": "stream",
     "text": [
      "Hello, World!\n"
     ]
    }
   ],
   "source": [
    "a = \" Hello, World! \"\n",
    "print(a.strip())"
   ]
  },
  {
   "cell_type": "code",
   "execution_count": 27,
   "id": "5d18655d-949a-4044-8483-2c39477f5299",
   "metadata": {},
   "outputs": [
    {
     "name": "stdout",
     "output_type": "stream",
     "text": [
      "Jello, World!\n"
     ]
    }
   ],
   "source": [
    "a = \"Hello, World!\"\n",
    "print(a.replace(\"H\", \"J\"))"
   ]
  },
  {
   "cell_type": "code",
   "execution_count": 28,
   "id": "3b20ba6b-9dce-4c01-bf6a-62f3a8d7b31f",
   "metadata": {},
   "outputs": [
    {
     "name": "stdout",
     "output_type": "stream",
     "text": [
      "['Hello', ' World!']\n"
     ]
    }
   ],
   "source": [
    "a = \"Hello, World!\"\n",
    "print(a.split(\",\"))"
   ]
  },
  {
   "cell_type": "code",
   "execution_count": 29,
   "id": "2218859e-7adc-46d0-a6cd-ed1ca38c6ca6",
   "metadata": {},
   "outputs": [
    {
     "name": "stdout",
     "output_type": "stream",
     "text": [
      "HelloWorld\n",
      "Hello World\n"
     ]
    }
   ],
   "source": [
    "a = \"Hello\"\n",
    "b = \"World\"\n",
    "c = a + b\n",
    "print(c)\n",
    "\n",
    "d = a + \" \" + b\n",
    "print(d)"
   ]
  },
  {
   "cell_type": "code",
   "execution_count": 30,
   "id": "64ffed87-eab0-4bbc-a45e-5abd714c7d2a",
   "metadata": {},
   "outputs": [
    {
     "name": "stdout",
     "output_type": "stream",
     "text": [
      "My name is John, and I am 36\n"
     ]
    }
   ],
   "source": [
    "age = 36\n",
    "txt = \"My name is John, and I am {}\"\n",
    "print(txt.format(age))"
   ]
  },
  {
   "cell_type": "code",
   "execution_count": 31,
   "id": "bf115ef0-e0be-4818-833d-2906a8a3dbf6",
   "metadata": {},
   "outputs": [
    {
     "name": "stdout",
     "output_type": "stream",
     "text": [
      "I want 3 pieces of item 567 for 49.95 dollars.\n"
     ]
    }
   ],
   "source": [
    "quantity = 3\n",
    "itemno = 567\n",
    "price = 49.95\n",
    "myorder = \"I want {} pieces of item {} for {} dollars.\"\n",
    "print(myorder.format(quantity, itemno, price))"
   ]
  },
  {
   "cell_type": "code",
   "execution_count": 33,
   "id": "83e089e2-9e8b-4d81-9468-70debeacf05f",
   "metadata": {},
   "outputs": [
    {
     "name": "stdout",
     "output_type": "stream",
     "text": [
      "I want to pay 49.95 dollars for 3 pieces of item 567.\n"
     ]
    }
   ],
   "source": [
    "quantity = 3\n",
    "itemno = 567\n",
    "price = 49.95\n",
    "myorder = \"I want to pay {2} dollars for {0} pieces of item {1}.\"\n",
    "print(myorder.format(quantity, itemno, price))"
   ]
  },
  {
   "cell_type": "code",
   "execution_count": 1,
   "id": "c6661e90-2e11-4f89-a7db-983d259ce1fd",
   "metadata": {},
   "outputs": [
    {
     "name": "stdout",
     "output_type": "stream",
     "text": [
      "True\n",
      "True\n"
     ]
    }
   ],
   "source": [
    "strOne = str(\"pynative\")\n",
    "strTwo = \"pynative\"\n",
    "print(strOne == strTwo)\n",
    "print(strOne is strTwo)"
   ]
  },
  {
   "cell_type": "code",
   "execution_count": 2,
   "id": "9cefea45-1397-467a-8afb-c4881c684035",
   "metadata": {},
   "outputs": [
    {
     "ename": "TypeError",
     "evalue": "ord() expected a character, but string of length 3 found",
     "output_type": "error",
     "traceback": [
      "\u001b[1;31m---------------------------------------------------------------------------\u001b[0m",
      "\u001b[1;31mTypeError\u001b[0m                                 Traceback (most recent call last)",
      "Cell \u001b[1;32mIn[2], line 1\u001b[0m\n\u001b[1;32m----> 1\u001b[0m \u001b[38;5;28mprint\u001b[39m(\u001b[38;5;28;43mord\u001b[39;49m\u001b[43m(\u001b[49m\u001b[38;5;124;43m'\u001b[39;49m\u001b[38;5;124;43mfoo\u001b[39;49m\u001b[38;5;124;43m'\u001b[39;49m\u001b[43m)\u001b[49m)\n",
      "\u001b[1;31mTypeError\u001b[0m: ord() expected a character, but string of length 3 found"
     ]
    }
   ],
   "source": [
    "print(ord('foo'))"
   ]
  },
  {
   "cell_type": "code",
   "execution_count": 3,
   "id": "8276fdb8-254c-4e4c-94d6-615999b77c98",
   "metadata": {},
   "outputs": [
    {
     "name": "stdout",
     "output_type": "stream",
     "text": [
      "Hello, my name is Roni.\n"
     ]
    }
   ],
   "source": [
    "def greet(person):\n",
    "    return f'Hello, my name is {person}.'\n",
    "\n",
    "print(greet('Roni'))"
   ]
  },
  {
   "cell_type": "code",
   "execution_count": 4,
   "id": "f4b2d10f-de85-400d-b47e-9fc90119ea87",
   "metadata": {},
   "outputs": [
    {
     "name": "stdout",
     "output_type": "stream",
     "text": [
      "3 1 2\n"
     ]
    }
   ],
   "source": [
    "print(\n",
    "    '$100 $200 $300'.count('$'),\n",
    "    '$100 $200 $300'.count('$', 5, 10),\n",
    "    '$100 $200 $300'.count('$', 5)\n",
    ")"
   ]
  },
  {
   "cell_type": "code",
   "execution_count": 5,
   "id": "2be9c882-71fc-41cb-b82b-683ba062b118",
   "metadata": {},
   "outputs": [
    {
     "ename": "TypeError",
     "evalue": "can't concat str to bytes",
     "output_type": "error",
     "traceback": [
      "\u001b[1;31m---------------------------------------------------------------------------\u001b[0m",
      "\u001b[1;31mTypeError\u001b[0m                                 Traceback (most recent call last)",
      "Cell \u001b[1;32mIn[5], line 1\u001b[0m\n\u001b[1;32m----> 1\u001b[0m \u001b[38;5;28mlist\u001b[39m((\u001b[38;5;124;43mb\u001b[39;49m\u001b[38;5;124;43m'\u001b[39;49m\u001b[38;5;124;43mabcde\u001b[39;49m\u001b[38;5;124;43m'\u001b[39;49m\u001b[43m \u001b[49m\u001b[38;5;241;43m+\u001b[39;49m\u001b[43m \u001b[49m\u001b[38;5;124;43m'\u001b[39;49m\u001b[38;5;124;43mfghi\u001b[39;49m\u001b[38;5;124;43m'\u001b[39;49m)[\u001b[38;5;241m3\u001b[39m:\u001b[38;5;241m6\u001b[39m])\n",
      "\u001b[1;31mTypeError\u001b[0m: can't concat str to bytes"
     ]
    }
   ],
   "source": [
    "list((b'abcde' + 'fghi')[3:6])"
   ]
  },
  {
   "cell_type": "code",
   "execution_count": 6,
   "id": "885c0c2b-0f3e-4c8c-ba1d-2024bd5f780a",
   "metadata": {},
   "outputs": [
    {
     "ename": "ValueError",
     "evalue": "Unknown format code '$' for object of type 'int'",
     "output_type": "error",
     "traceback": [
      "\u001b[1;31m---------------------------------------------------------------------------\u001b[0m",
      "\u001b[1;31mValueError\u001b[0m                                Traceback (most recent call last)",
      "Cell \u001b[1;32mIn[6], line 1\u001b[0m\n\u001b[1;32m----> 1\u001b[0m \u001b[38;5;28mprint\u001b[39m(\u001b[38;5;124;43m'\u001b[39;49m\u001b[38;5;124;43m{\u001b[39;49m\u001b[38;5;124;43m:$}\u001b[39;49m\u001b[38;5;124;43m'\u001b[39;49m\u001b[38;5;241;43m.\u001b[39;49m\u001b[43mformat\u001b[49m\u001b[43m(\u001b[49m\u001b[38;5;241;43m2223334445\u001b[39;49m\u001b[43m)\u001b[49m)\n",
      "\u001b[1;31mValueError\u001b[0m: Unknown format code '$' for object of type 'int'"
     ]
    }
   ],
   "source": [
    "print('{:$}'.format(2223334445))"
   ]
  },
  {
   "cell_type": "code",
   "execution_count": 7,
   "id": "1f9aafb7-53b7-4e9c-9049-87389ac4e0b8",
   "metadata": {},
   "outputs": [
    {
     "name": "stdout",
     "output_type": "stream",
     "text": [
      "pqrs\n"
     ]
    }
   ],
   "source": [
    "print('pqrs'.translate({87:88, 88:89, 89:90}))"
   ]
  },
  {
   "cell_type": "code",
   "execution_count": 8,
   "id": "8ee29ea5-63a4-4f41-a21f-eff5e9c03a25",
   "metadata": {},
   "outputs": [
    {
     "name": "stdout",
     "output_type": "stream",
     "text": [
      "False\n"
     ]
    }
   ],
   "source": [
    "print('x Y'.isalpha())"
   ]
  },
  {
   "cell_type": "code",
   "execution_count": 14,
   "id": "4cb9a1b5-3610-4287-8dfb-30db87bd630e",
   "metadata": {},
   "outputs": [
    {
     "name": "stdout",
     "output_type": "stream",
     "text": [
      "l\n"
     ]
    }
   ],
   "source": [
    "s=\"Hello\"\n",
    "\n",
    "print(s.__getitem__(3))"
   ]
  },
  {
   "cell_type": "code",
   "execution_count": 15,
   "id": "9c71c082-3388-4798-9a0d-20877972753f",
   "metadata": {},
   "outputs": [
    {
     "name": "stdout",
     "output_type": "stream",
     "text": [
      "n\n"
     ]
    }
   ],
   "source": [
    "str1=\"python\"\n",
    "print(str1[-1:])"
   ]
  },
  {
   "cell_type": "code",
   "execution_count": 16,
   "id": "b1319f12-a1a1-4f71-b0ec-e70d4f42d3c3",
   "metadata": {},
   "outputs": [
    {
     "name": "stdout",
     "output_type": "stream",
     "text": [
      "True\n"
     ]
    }
   ],
   "source": [
    "print('y@ 2'.islower())"
   ]
  },
  {
   "cell_type": "code",
   "execution_count": 17,
   "id": "a8380b63-9ca1-4cb0-86e9-4aafa03aaaca",
   "metadata": {},
   "outputs": [
    {
     "name": "stdout",
     "output_type": "stream",
     "text": [
      "33\n"
     ]
    }
   ],
   "source": [
    "print(0xA + 0xB + 0xC)"
   ]
  },
  {
   "cell_type": "code",
   "execution_count": 20,
   "id": "e95c1e3f-f82e-4238-8ae0-257e97866e95",
   "metadata": {},
   "outputs": [
    {
     "name": "stdout",
     "output_type": "stream",
     "text": [
      "*  mnopr  * sep=\n"
     ]
    }
   ],
   "source": [
    "print('*',\"mnopr\".center(7),'*',\"sep=\")"
   ]
  },
  {
   "cell_type": "code",
   "execution_count": 21,
   "id": "6a52f727-4117-4d61-93d9-bdf706ad96b8",
   "metadata": {},
   "outputs": [
    {
     "name": "stdout",
     "output_type": "stream",
     "text": [
      "('', 'rs', '')\n"
     ]
    }
   ],
   "source": [
    "print('rs'.partition('rs'))"
   ]
  },
  {
   "cell_type": "code",
   "execution_count": 23,
   "id": "25b6d019-aeb4-4f7d-9ca9-5fa504bc25df",
   "metadata": {},
   "outputs": [
    {
     "name": "stdout",
     "output_type": "stream",
     "text": [
      "World\n"
     ]
    }
   ],
   "source": [
    "s=\"\\t\\tWorld\\n\"\n",
    "print(s.strip())"
   ]
  },
  {
   "cell_type": "code",
   "execution_count": 24,
   "id": "9a3a4029-1dd7-4dd3-8b3c-33caa5b334ec",
   "metadata": {},
   "outputs": [
    {
     "name": "stdout",
     "output_type": "stream",
     "text": [
      "('pq', 'rs', 'tv')\n"
     ]
    }
   ],
   "source": [
    "print('pqrstv'.partition('rs'))"
   ]
  },
  {
   "cell_type": "code",
   "execution_count": 26,
   "id": "30d01ccd-a1ea-49b1-b91c-53742e8adc60",
   "metadata": {},
   "outputs": [
    {
     "name": "stdout",
     "output_type": "stream",
     "text": [
      "Python 'fbb' and fbb\n"
     ]
    }
   ],
   "source": [
    "print('Python {0!r} and {0!s}'.format('fbb', 'bin'))"
   ]
  },
  {
   "cell_type": "code",
   "execution_count": 28,
   "id": "077bfbaf-f496-4d60-ada5-62322349b329",
   "metadata": {},
   "outputs": [
    {
     "name": "stdout",
     "output_type": "stream",
     "text": [
      "['mnoppqropstop']\n"
     ]
    }
   ],
   "source": [
    "print(\"mnoppqropstop\".split('op', 0))"
   ]
  },
  {
   "cell_type": "code",
   "execution_count": 30,
   "id": "d301f1e5-5475-441c-bb9f-9f46a4d227f9",
   "metadata": {},
   "outputs": [
    {
     "name": "stdout",
     "output_type": "stream",
     "text": [
      "pqrtvs\n"
     ]
    }
   ],
   "source": [
    "print('pqrtvs'.replace('rs', '10'))"
   ]
  },
  {
   "cell_type": "code",
   "execution_count": 31,
   "id": "7e3fcea3-550c-4ded-af0d-9f51c7191de2",
   "metadata": {},
   "outputs": [
    {
     "name": "stdout",
     "output_type": "stream",
     "text": [
      "{120: 50, 121: 51, 122: 52}\n"
     ]
    }
   ],
   "source": [
    "print('zyx'.maketrans('xyz', '234'))"
   ]
  },
  {
   "cell_type": "code",
   "execution_count": 32,
   "id": "c279021a-1f85-4ee6-b7f3-d71051d07bfd",
   "metadata": {},
   "outputs": [
    {
     "name": "stdout",
     "output_type": "stream",
     "text": [
      "pq  rs  tu\n"
     ]
    }
   ],
   "source": [
    "print('pq\\trs\\ttu'.expandtabs(4))"
   ]
  },
  {
   "cell_type": "code",
   "execution_count": 58,
   "id": "76cca80d-2fdd-4a28-aaaf-429ed346939d",
   "metadata": {},
   "outputs": [
    {
     "name": "stdout",
     "output_type": "stream",
     "text": [
      "0\n"
     ]
    }
   ],
   "source": [
    "print('xxxyyxxyyyxy'.find('x'))"
   ]
  },
  {
   "cell_type": "code",
   "execution_count": 34,
   "id": "164cb544-6934-46c4-88db-db97e4526e3b",
   "metadata": {},
   "outputs": [
    {
     "ename": "TypeError",
     "evalue": "The fill character must be a unicode character, not int",
     "output_type": "error",
     "traceback": [
      "\u001b[1;31m---------------------------------------------------------------------------\u001b[0m",
      "\u001b[1;31mTypeError\u001b[0m                                 Traceback (most recent call last)",
      "Cell \u001b[1;32mIn[34], line 1\u001b[0m\n\u001b[1;32m----> 1\u001b[0m \u001b[38;5;28mprint\u001b[39m(\u001b[38;5;124;43m'\u001b[39;49m\u001b[38;5;124;43mpqrstv\u001b[39;49m\u001b[38;5;124;43m'\u001b[39;49m\u001b[38;5;241;43m.\u001b[39;49m\u001b[43mcenter\u001b[49m\u001b[43m(\u001b[49m\u001b[38;5;241;43m7\u001b[39;49m\u001b[43m,\u001b[49m\u001b[38;5;241;43m1\u001b[39;49m\u001b[43m)\u001b[49m)\n",
      "\u001b[1;31mTypeError\u001b[0m: The fill character must be a unicode character, not int"
     ]
    }
   ],
   "source": [
    "print('pqrstv'.center(7,1))"
   ]
  },
  {
   "cell_type": "code",
   "execution_count": 35,
   "id": "4e20091d-f5a0-4eb0-88e4-e4b37b613fae",
   "metadata": {},
   "outputs": [
    {
     "name": "stdout",
     "output_type": "stream",
     "text": [
      "pqrstv\n"
     ]
    }
   ],
   "source": [
    "print('pqrstv'.center(0))"
   ]
  },
  {
   "cell_type": "code",
   "execution_count": 36,
   "id": "c0585084-bce2-4496-9a0d-855378ab3281",
   "metadata": {},
   "outputs": [
    {
     "ename": "AttributeError",
     "evalue": "'Y' object has no attribute 'o1'",
     "output_type": "error",
     "traceback": [
      "\u001b[1;31m---------------------------------------------------------------------------\u001b[0m",
      "\u001b[1;31mAttributeError\u001b[0m                            Traceback (most recent call last)",
      "Cell \u001b[1;32mIn[36], line 10\u001b[0m\n\u001b[0;32m      7\u001b[0m         \u001b[38;5;28mself\u001b[39m\u001b[38;5;241m.\u001b[39mo2\u001b[38;5;241m=\u001b[39mparam\n\u001b[0;32m      9\u001b[0m obj\u001b[38;5;241m=\u001b[39mY(\u001b[38;5;241m22\u001b[39m)\n\u001b[1;32m---> 10\u001b[0m \u001b[38;5;28mprint\u001b[39m(\u001b[38;5;124m'\u001b[39m\u001b[38;5;132;01m%d\u001b[39;00m\u001b[38;5;124m \u001b[39m\u001b[38;5;132;01m%d\u001b[39;00m\u001b[38;5;124m'\u001b[39m \u001b[38;5;241m%\u001b[39m (\u001b[43mobj\u001b[49m\u001b[38;5;241;43m.\u001b[39;49m\u001b[43mo1\u001b[49m, obj\u001b[38;5;241m.\u001b[39mo2))\n",
      "\u001b[1;31mAttributeError\u001b[0m: 'Y' object has no attribute 'o1'"
     ]
    }
   ],
   "source": [
    "class X:\n",
    "    def __init__(self,param):\n",
    "        self.o1=param\n",
    "\n",
    "class Y(X):\n",
    "    def __init__(self,param):\n",
    "        self.o2=param\n",
    "\n",
    "obj=Y(22)\n",
    "print('%d %d' % (obj.o1, obj.o2))"
   ]
  },
  {
   "cell_type": "code",
   "execution_count": 37,
   "id": "40ef24ae-bf88-4082-89af-278b7dfc5436",
   "metadata": {},
   "outputs": [
    {
     "name": "stdout",
     "output_type": "stream",
     "text": [
      "True\n"
     ]
    }
   ],
   "source": [
    "str=\"waterworld\"\n",
    "print(str[::-1].startswith('d'))"
   ]
  },
  {
   "cell_type": "code",
   "execution_count": 38,
   "id": "faf31891-446c-4a4b-ad8e-6bb8950fb065",
   "metadata": {},
   "outputs": [
    {
     "name": "stdout",
     "output_type": "stream",
     "text": [
      "True\n"
     ]
    }
   ],
   "source": [
    "print('2@ f'.isprintable())"
   ]
  },
  {
   "cell_type": "code",
   "execution_count": 39,
   "id": "af79afab-63e0-4225-a2c5-e9941cd0fb4e",
   "metadata": {},
   "outputs": [
    {
     "name": "stdout",
     "output_type": "stream",
     "text": [
      "['pq', 'rs', 'tv']\n"
     ]
    }
   ],
   "source": [
    "print('pq\\nrs\\ntv'.splitlines())"
   ]
  },
  {
   "cell_type": "code",
   "execution_count": 40,
   "id": "bb385f75-8966-466b-b7e7-6fa280940c24",
   "metadata": {},
   "outputs": [
    {
     "name": "stdout",
     "output_type": "stream",
     "text": [
      "False\n"
     ]
    }
   ],
   "source": [
    "print('0pq'.isdigit())"
   ]
  },
  {
   "cell_type": "code",
   "execution_count": 43,
   "id": "246d8043-7b14-4b21-81c6-26058238a279",
   "metadata": {},
   "outputs": [
    {
     "name": "stdout",
     "output_type": "stream",
     "text": [
      "1\n"
     ]
    }
   ],
   "source": [
    "print('abbcabcabb'.count('bb',2))"
   ]
  },
  {
   "cell_type": "code",
   "execution_count": 44,
   "id": "b0f17f0c-588e-4008-ab8e-f7745d8bbf45",
   "metadata": {},
   "outputs": [
    {
     "data": {
      "text/plain": [
       "'P'"
      ]
     },
     "execution_count": 44,
     "metadata": {},
     "output_type": "execute_result"
    }
   ],
   "source": [
    "chr(ord(\"P\"))"
   ]
  },
  {
   "cell_type": "code",
   "execution_count": 45,
   "id": "10893fda-2d07-4d7c-9e5f-c55cc64616f8",
   "metadata": {},
   "outputs": [
    {
     "name": "stdout",
     "output_type": "stream",
     "text": [
      "+088\n"
     ]
    }
   ],
   "source": [
    "print('+88'.zfill(4))"
   ]
  },
  {
   "cell_type": "code",
   "execution_count": 46,
   "id": "cc3aab73-b871-4e65-817a-e8d7189137f2",
   "metadata": {},
   "outputs": [
    {
     "name": "stdout",
     "output_type": "stream",
     "text": [
      "True\n"
     ]
    }
   ],
   "source": [
    "print('pen'.isidentifier())"
   ]
  },
  {
   "cell_type": "code",
   "execution_count": 48,
   "id": "987367eb-12f5-47d5-b0c5-13a5c365a8b3",
   "metadata": {},
   "outputs": [
    {
     "name": "stdout",
     "output_type": "stream",
     "text": [
      "FalseTrue\n"
     ]
    }
   ],
   "source": [
    "class Count:\n",
    "    def __init__(self, count=0):\n",
    "        self.__count=count\n",
    "\n",
    "x1=Count(2)\n",
    "x2=Count(2)\n",
    "print(id(x1)==id(x2), end=\"\")\n",
    "\n",
    "y1=\"Good\"\n",
    "y2=\"Good\"\n",
    "print(id(y1)==id(y2))"
   ]
  },
  {
   "cell_type": "code",
   "execution_count": 49,
   "id": "eb7c4b95-2e49-46ce-a052-2c0071f9fcac",
   "metadata": {},
   "outputs": [
    {
     "name": "stdout",
     "output_type": "stream",
     "text": [
      "0.67\n"
     ]
    }
   ],
   "source": [
    "print('{0:.2}'.format(2/3))"
   ]
  },
  {
   "cell_type": "code",
   "execution_count": 50,
   "id": "d8c54cf9-b531-4507-a824-1240008b0369",
   "metadata": {},
   "outputs": [
    {
     "name": "stdout",
     "output_type": "stream",
     "text": [
      "3334445556\n"
     ]
    }
   ],
   "source": [
    "print('{:#}'.format(3334445556))"
   ]
  },
  {
   "cell_type": "code",
   "execution_count": 51,
   "id": "ae474dab-7a50-49e6-8a98-ad624b989997",
   "metadata": {},
   "outputs": [
    {
     "name": "stdout",
     "output_type": "stream",
     "text": [
      "blackberry\n"
     ]
    }
   ],
   "source": [
    "print('black''berry')"
   ]
  },
  {
   "cell_type": "code",
   "execution_count": 54,
   "id": "64b394c1-8fd8-4a97-85ee-418c636b43ab",
   "metadata": {},
   "outputs": [
    {
     "name": "stdout",
     "output_type": "stream",
     "text": [
      "True\n"
     ]
    }
   ],
   "source": [
    "s1=\"Hello\"\n",
    "s2=\"lo\"\n",
    "print(s2 in s1)"
   ]
  },
  {
   "cell_type": "code",
   "execution_count": 56,
   "id": "cbdd2f9f-19cc-45e4-9295-0238ff5d85b6",
   "metadata": {},
   "outputs": [
    {
     "name": "stdout",
     "output_type": "stream",
     "text": [
      "boo\n"
     ]
    }
   ],
   "source": [
    "print(\"\\tboo\".lstrip())"
   ]
  },
  {
   "cell_type": "code",
   "execution_count": 59,
   "id": "cebbef67-159a-4e6f-8882-a6cb56481605",
   "metadata": {},
   "outputs": [
    {
     "name": "stdout",
     "output_type": "stream",
     "text": [
      "5\n"
     ]
    }
   ],
   "source": [
    "print('python'.rfind('n'))"
   ]
  },
  {
   "cell_type": "code",
   "execution_count": 60,
   "id": "07f9c3f0-1271-4f36-8f9f-667651e29efb",
   "metadata": {},
   "outputs": [
    {
     "name": "stdout",
     "output_type": "stream",
     "text": [
      "abbabbababaab\n"
     ]
    }
   ],
   "source": [
    "print('abbabbababaab'.replace('ab', '10',0))"
   ]
  },
  {
   "cell_type": "code",
   "execution_count": 61,
   "id": "3d69c043-08c0-4919-a46b-cc7282e9b482",
   "metadata": {},
   "outputs": [
    {
     "name": "stdout",
     "output_type": "stream",
     "text": [
      "('wx', 'yz', '')\n"
     ]
    }
   ],
   "source": [
    "print('wxyz'.partition('yz'))"
   ]
  },
  {
   "cell_type": "code",
   "execution_count": 65,
   "id": "dace0c12-4c7e-483e-9705-e1d1f43dfb09",
   "metadata": {},
   "outputs": [
    {
     "name": "stdout",
     "output_type": "stream",
     "text": [
      "ab\n"
     ]
    }
   ],
   "source": [
    "s1='a'\n",
    "s2='b'\n",
    "print(s1.__add__(s2))"
   ]
  },
  {
   "cell_type": "code",
   "execution_count": 67,
   "id": "47b56625-9fd6-4b1d-8391-eb0cc0f179ae",
   "metadata": {},
   "outputs": [
    {
     "name": "stdout",
     "output_type": "stream",
     "text": [
      "['mn', 'qr', 'st', '']\n"
     ]
    }
   ],
   "source": [
    "print('mnopqropstop'.split('op', -1))"
   ]
  },
  {
   "cell_type": "code",
   "execution_count": 68,
   "id": "64de5f82-e2f3-4190-a354-ddaa5df4c86a",
   "metadata": {},
   "outputs": [
    {
     "name": "stdout",
     "output_type": "stream",
     "text": [
      "fff, bbb\n"
     ]
    }
   ],
   "source": [
    "print(\"{0[0]}, {0[1]}\".format(('fff', 'bbb')))"
   ]
  },
  {
   "cell_type": "code",
   "execution_count": 69,
   "id": "3da4dd84-5fab-4b1a-8fe7-57f9688829b6",
   "metadata": {},
   "outputs": [
    {
     "name": "stdout",
     "output_type": "stream",
     "text": [
      "rppq\n"
     ]
    }
   ],
   "source": [
    "print(\"pqppqqrppq\".lstrip('pqq'))"
   ]
  },
  {
   "cell_type": "code",
   "execution_count": 70,
   "id": "9a11ddda-5395-4715-b221-802670253f3f",
   "metadata": {},
   "outputs": [
    {
     "name": "stdout",
     "output_type": "stream",
     "text": [
      "pqrs\n"
     ]
    }
   ],
   "source": [
    "print('pqrs'.translate({'p':'2', 'q':'3', 'r':'4', 's':'5'}))"
   ]
  },
  {
   "cell_type": "code",
   "execution_count": 71,
   "id": "439e26eb-1e0b-40d6-96ba-94ce1c2cc01a",
   "metadata": {},
   "outputs": [
    {
     "name": "stdout",
     "output_type": "stream",
     "text": [
      "10\n"
     ]
    }
   ],
   "source": [
    "x=6\n",
    "y=4\n",
    "print(x.__add__(y))"
   ]
  },
  {
   "cell_type": "code",
   "execution_count": 72,
   "id": "53a7e9e8-f3d5-468c-a253-f2f6213b56d6",
   "metadata": {},
   "outputs": [
    {
     "name": "stdout",
     "output_type": "stream",
     "text": [
      "\\nworld\n"
     ]
    }
   ],
   "source": [
    "print(r\"\\nworld\")"
   ]
  },
  {
   "cell_type": "code",
   "execution_count": 73,
   "id": "1510e078-7095-4640-b637-40113ae068d4",
   "metadata": {},
   "outputs": [
    {
     "name": "stdout",
     "output_type": "stream",
     "text": [
      "1\n"
     ]
    }
   ],
   "source": [
    "print(ord('b') - ord('a'))"
   ]
  },
  {
   "cell_type": "code",
   "execution_count": 74,
   "id": "c4f13eb6-70f1-4880-8e8a-561e371c7768",
   "metadata": {},
   "outputs": [
    {
     "name": "stdout",
     "output_type": "stream",
     "text": [
      "1pqrstv\n"
     ]
    }
   ],
   "source": [
    "print('pqrstv'.center(7,'1'))"
   ]
  },
  {
   "cell_type": "code",
   "execution_count": 75,
   "id": "4e9d233c-2314-4571-af24-6a5345af523f",
   "metadata": {},
   "outputs": [
    {
     "name": "stdout",
     "output_type": "stream",
     "text": [
      "1\n"
     ]
    }
   ],
   "source": [
    "print(\"abbcabcabb\".count('abb',2,11))"
   ]
  },
  {
   "cell_type": "code",
   "execution_count": 76,
   "id": "d26297ef-6a33-4530-a985-c94bb196ee4e",
   "metadata": {},
   "outputs": [
    {
     "name": "stdout",
     "output_type": "stream",
     "text": [
      "2,223,334,445\n"
     ]
    }
   ],
   "source": [
    "print('{:,}'.format(2223334445))"
   ]
  },
  {
   "cell_type": "code",
   "execution_count": 77,
   "id": "7fa97905-6835-4c9e-b20c-59d3a8fc8c83",
   "metadata": {},
   "outputs": [
    {
     "name": "stdout",
     "output_type": "stream",
     "text": [
      "q\n"
     ]
    }
   ],
   "source": [
    "print(chr(ord('p')+1))"
   ]
  },
  {
   "cell_type": "code",
   "execution_count": 78,
   "id": "a85dbcf6-faa3-4621-8514-ea85829c1254",
   "metadata": {},
   "outputs": [
    {
     "name": "stdout",
     "output_type": "stream",
     "text": [
      "SP"
     ]
    }
   ],
   "source": [
    "print('S', end='')\n",
    "print('P', end='')"
   ]
  },
  {
   "cell_type": "code",
   "execution_count": 79,
   "id": "d6bcb9a7-19cc-4139-8dc2-212129d1b250",
   "metadata": {},
   "outputs": [
    {
     "name": "stdout",
     "output_type": "stream",
     "text": [
      "True\n"
     ]
    }
   ],
   "source": [
    "print('pqqrpqrprpqq'.endswith('pqq'))"
   ]
  },
  {
   "cell_type": "code",
   "execution_count": 80,
   "id": "599abec3-de2e-4073-a600-4e0a12322f67",
   "metadata": {},
   "outputs": [
    {
     "name": "stdout",
     "output_type": "stream",
     "text": [
      "Heeeo\n"
     ]
    }
   ],
   "source": [
    "print(\"Hello\".replace('l', 'e'))"
   ]
  },
  {
   "cell_type": "code",
   "execution_count": 81,
   "id": "87b1d82d-4a6d-49ec-b7dd-d2ec0f1589f4",
   "metadata": {},
   "outputs": [
    {
     "name": "stdout",
     "output_type": "stream",
     "text": [
      "o w\n"
     ]
    }
   ],
   "source": [
    "example='hello world'\n",
    "print('%s' % example[4:7])"
   ]
  },
  {
   "cell_type": "code",
   "execution_count": 82,
   "id": "c37cd8b3-c603-4267-a94b-535a5857df82",
   "metadata": {},
   "outputs": [
    {
     "name": "stdout",
     "output_type": "stream",
     "text": [
      "10, c, 16\n"
     ]
    }
   ],
   "source": [
    "print('{0:b}, {1:x}, {2:o}'.format(2, 12, 14))"
   ]
  },
  {
   "cell_type": "code",
   "execution_count": 83,
   "id": "3f1e4344-6f54-4c5a-a476-915ac269f6ea",
   "metadata": {},
   "outputs": [
    {
     "name": "stdout",
     "output_type": "stream",
     "text": [
      "   345.355\n"
     ]
    }
   ],
   "source": [
    "y=345.3546\n",
    "print(format(y, '10.3f'))"
   ]
  },
  {
   "cell_type": "code",
   "execution_count": 84,
   "id": "cc7962d9-634f-4673-bf8c-2b7e940fc513",
   "metadata": {},
   "outputs": [
    {
     "ename": "KeyError",
     "evalue": "'name1'",
     "output_type": "error",
     "traceback": [
      "\u001b[1;31m---------------------------------------------------------------------------\u001b[0m",
      "\u001b[1;31mKeyError\u001b[0m                                  Traceback (most recent call last)",
      "Cell \u001b[1;32mIn[84], line 1\u001b[0m\n\u001b[1;32m----> 1\u001b[0m \u001b[38;5;28mprint\u001b[39m(\u001b[38;5;124;43m'\u001b[39;49m\u001b[38;5;132;43;01m{name1}\u001b[39;49;00m\u001b[38;5;124;43m, \u001b[39;49m\u001b[38;5;132;43;01m{name2}\u001b[39;49;00m\u001b[38;5;124;43m'\u001b[39;49m\u001b[38;5;241;43m.\u001b[39;49m\u001b[43mformat\u001b[49m\u001b[43m(\u001b[49m\u001b[38;5;124;43m'\u001b[39;49m\u001b[38;5;124;43mfff\u001b[39;49m\u001b[38;5;124;43m'\u001b[39;49m\u001b[43m,\u001b[49m\u001b[43m \u001b[49m\u001b[38;5;124;43m'\u001b[39;49m\u001b[38;5;124;43mbbb\u001b[39;49m\u001b[38;5;124;43m'\u001b[39;49m\u001b[43m)\u001b[49m)\n",
      "\u001b[1;31mKeyError\u001b[0m: 'name1'"
     ]
    }
   ],
   "source": [
    "print('{name1}, {name2}'.format('fff', 'bbb'))"
   ]
  },
  {
   "cell_type": "code",
   "execution_count": 85,
   "id": "7cfdcc53-f256-4f6b-bbd0-6b39b331a7f9",
   "metadata": {},
   "outputs": [
    {
     "name": "stdout",
     "output_type": "stream",
     "text": [
      "00xy\n"
     ]
    }
   ],
   "source": [
    "print('xy'.zfill(4))"
   ]
  },
  {
   "cell_type": "code",
   "execution_count": 86,
   "id": "bee7ae22-1762-486e-81d0-773d60c82a39",
   "metadata": {},
   "outputs": [
    {
     "name": "stdout",
     "output_type": "stream",
     "text": [
      "rppqpqq\n"
     ]
    }
   ],
   "source": [
    "print('pqqrppqpqq'.lstrip('pqq'))"
   ]
  },
  {
   "cell_type": "code",
   "execution_count": 87,
   "id": "13785514-4754-4e13-97f1-ed857f28b31b",
   "metadata": {},
   "outputs": [
    {
     "ename": "TypeError",
     "evalue": "The fill character must be exactly one character long",
     "output_type": "error",
     "traceback": [
      "\u001b[1;31m---------------------------------------------------------------------------\u001b[0m",
      "\u001b[1;31mTypeError\u001b[0m                                 Traceback (most recent call last)",
      "Cell \u001b[1;32mIn[87], line 1\u001b[0m\n\u001b[1;32m----> 1\u001b[0m \u001b[38;5;28mprint\u001b[39m(\u001b[38;5;124;43m'\u001b[39;49m\u001b[38;5;124;43mmnopqr\u001b[39;49m\u001b[38;5;124;43m'\u001b[39;49m\u001b[38;5;241;43m.\u001b[39;49m\u001b[43mcenter\u001b[49m\u001b[43m(\u001b[49m\u001b[38;5;241;43m10\u001b[39;49m\u001b[43m,\u001b[49m\u001b[43m \u001b[49m\u001b[38;5;124;43m'\u001b[39;49m\u001b[38;5;124;43m12\u001b[39;49m\u001b[38;5;124;43m'\u001b[39;49m\u001b[43m)\u001b[49m)\n",
      "\u001b[1;31mTypeError\u001b[0m: The fill character must be exactly one character long"
     ]
    }
   ],
   "source": [
    "print('mnopqr'.center(10, '12'))"
   ]
  },
  {
   "cell_type": "code",
   "execution_count": 88,
   "id": "06e01ca5-feb5-46f0-bcbb-170e90c47cc2",
   "metadata": {},
   "outputs": [
    {
     "name": "stdout",
     "output_type": "stream",
     "text": [
      "y\n"
     ]
    }
   ],
   "source": [
    "print(max('who are you'))"
   ]
  },
  {
   "cell_type": "code",
   "execution_count": 89,
   "id": "01445476-7fd8-41dd-b79f-8db6179d741b",
   "metadata": {},
   "outputs": [
    {
     "name": "stdout",
     "output_type": "stream",
     "text": [
      "2\n"
     ]
    }
   ],
   "source": [
    "print('pqqrpqrprpqq'.count('qq',1))"
   ]
  },
  {
   "cell_type": "code",
   "execution_count": 90,
   "id": "7491db1f-1669-4fbf-9cda-ce6084705a5a",
   "metadata": {},
   "outputs": [
    {
     "ename": "TypeError",
     "evalue": "can only concatenate str (not \"int\") to str",
     "output_type": "error",
     "traceback": [
      "\u001b[1;31m---------------------------------------------------------------------------\u001b[0m",
      "\u001b[1;31mTypeError\u001b[0m                                 Traceback (most recent call last)",
      "Cell \u001b[1;32mIn[90], line 1\u001b[0m\n\u001b[1;32m----> 1\u001b[0m \u001b[38;5;28mstr\u001b[39m\u001b[38;5;241m=\u001b[39m\u001b[38;5;124;43m\"\u001b[39;49m\u001b[38;5;124;43mhello\u001b[39;49m\u001b[38;5;124;43m\"\u001b[39;49m\u001b[38;5;241;43m+\u001b[39;49m\u001b[38;5;241;43m1\u001b[39;49m\u001b[38;5;241m+\u001b[39m\u001b[38;5;241m2\u001b[39m\u001b[38;5;241m+\u001b[39m\u001b[38;5;241m3\u001b[39m\n\u001b[0;32m      2\u001b[0m \u001b[38;5;28mprint\u001b[39m(\u001b[38;5;28mstr\u001b[39m)\n",
      "\u001b[1;31mTypeError\u001b[0m: can only concatenate str (not \"int\") to str"
     ]
    }
   ],
   "source": [
    "str=\"hello\"+1+2+3\n",
    "print(str)"
   ]
  },
  {
   "cell_type": "code",
   "execution_count": 91,
   "id": "bfb7e4d0-f87b-4782-8c24-8bd84c1aa96f",
   "metadata": {},
   "outputs": [
    {
     "name": "stdout",
     "output_type": "stream",
     "text": [
      "('pqtv', '', '')\n"
     ]
    }
   ],
   "source": [
    "print('pqtv'.partition('rs'))"
   ]
  },
  {
   "cell_type": "code",
   "execution_count": 92,
   "id": "12513673-2880-4328-9e2f-2d47d475c6a3",
   "metadata": {},
   "outputs": [
    {
     "name": "stdout",
     "output_type": "stream",
     "text": [
      "rs\n"
     ]
    }
   ],
   "source": [
    "print(\"pqrs\"[2:])"
   ]
  },
  {
   "cell_type": "code",
   "execution_count": 93,
   "id": "ce61002f-66d0-4fda-8224-3b0b14a6bdf6",
   "metadata": {},
   "outputs": [
    {
     "name": "stdout",
     "output_type": "stream",
     "text": [
      "False\n"
     ]
    }
   ],
   "source": [
    "print(\"efghij\".find('gh')=='gh' in 'efghij')"
   ]
  },
  {
   "cell_type": "code",
   "execution_count": 94,
   "id": "cf1ad197-1c73-4e14-b35c-9f2eb24149d8",
   "metadata": {},
   "outputs": [
    {
     "ename": "SyntaxError",
     "evalue": "incomplete input (1952062661.py, line 1)",
     "output_type": "error",
     "traceback": [
      "\u001b[1;36m  Cell \u001b[1;32mIn[94], line 1\u001b[1;36m\u001b[0m\n\u001b[1;33m    print(\"\"\"\".isspace())\u001b[0m\n\u001b[1;37m          ^\u001b[0m\n\u001b[1;31mSyntaxError\u001b[0m\u001b[1;31m:\u001b[0m incomplete input\n"
     ]
    }
   ],
   "source": [
    "print(\"\"\"\".isspace())"
   ]
  },
  {
   "cell_type": "code",
   "execution_count": 96,
   "id": "d97d48a4-efa6-488e-8647-c088b6f63adb",
   "metadata": {},
   "outputs": [
    {
     "name": "stdout",
     "output_type": "stream",
     "text": [
      "esorder\n"
     ]
    }
   ],
   "source": [
    "str1='redrose'\n",
    "print(str1[::-1])"
   ]
  },
  {
   "cell_type": "code",
   "execution_count": 97,
   "id": "276f14d1-579d-4f8c-9206-c467cd23ff6a",
   "metadata": {},
   "outputs": [
    {
     "name": "stdout",
     "output_type": "stream",
     "text": [
      "xyzz\n"
     ]
    }
   ],
   "source": [
    "print('wxyz'.translate('w'.maketrans('wxy', 'xyz')))"
   ]
  },
  {
   "cell_type": "code",
   "execution_count": 98,
   "id": "760995ff-70b1-4882-933d-4e36aaffc892",
   "metadata": {},
   "outputs": [
    {
     "name": "stdout",
     "output_type": "stream",
     "text": [
      "0\n"
     ]
    }
   ],
   "source": [
    "print('abbcabcacabb'.count('abb', -10, -1))"
   ]
  },
  {
   "cell_type": "code",
   "execution_count": 99,
   "id": "4a9fb067-f0eb-4f21-8daf-d2b5d42a4c83",
   "metadata": {},
   "outputs": [
    {
     "name": "stdout",
     "output_type": "stream",
     "text": [
      "mn      op      qr\n"
     ]
    }
   ],
   "source": [
    "print('mn\\top\\tqr'.expandtabs())"
   ]
  },
  {
   "cell_type": "code",
   "execution_count": 101,
   "id": "7a09ec95-0e30-4a27-a1e5-f4f5ae9554fd",
   "metadata": {},
   "outputs": [
    {
     "name": "stdout",
     "output_type": "stream",
     "text": [
      "<class 'str'>\n"
     ]
    }
   ],
   "source": [
    "str='hello'\n",
    "print(type(str))"
   ]
  },
  {
   "cell_type": "code",
   "execution_count": 102,
   "id": "632df909-a5d7-4eaf-b472-d00f3447f7d6",
   "metadata": {},
   "outputs": [
    {
     "name": "stdout",
     "output_type": "stream",
     "text": [
      "10b10b1010a10\n"
     ]
    }
   ],
   "source": [
    "print('abbabbababaab'.replace('ab', '10', 100))"
   ]
  },
  {
   "cell_type": "code",
   "execution_count": 104,
   "id": "b1425bd3-b6f7-4ec9-a5a2-237e7861cc16",
   "metadata": {},
   "outputs": [
    {
     "name": "stdout",
     "output_type": "stream",
     "text": [
      "{88: 50, 89: 51, 90: 52}\n"
     ]
    }
   ],
   "source": [
    "print('x'.maketrans('XYZ', '234'))"
   ]
  },
  {
   "cell_type": "code",
   "execution_count": 105,
   "id": "7a7acf1f-70bd-4313-a0ba-22d09b135470",
   "metadata": {},
   "outputs": [
    {
     "name": "stdout",
     "output_type": "stream",
     "text": [
      "40.00%\n"
     ]
    }
   ],
   "source": [
    "print('{0:.2%}'.format(2/5))"
   ]
  },
  {
   "cell_type": "code",
   "execution_count": 106,
   "id": "e659acf1-d981-4311-b6b3-b0bc295884cf",
   "metadata": {},
   "outputs": [
    {
     "ename": "TypeError",
     "evalue": "center expected at least 1 argument, got 0",
     "output_type": "error",
     "traceback": [
      "\u001b[1;31m---------------------------------------------------------------------------\u001b[0m",
      "\u001b[1;31mTypeError\u001b[0m                                 Traceback (most recent call last)",
      "Cell \u001b[1;32mIn[106], line 1\u001b[0m\n\u001b[1;32m----> 1\u001b[0m \u001b[38;5;28mprint\u001b[39m(\u001b[38;5;124;43m'\u001b[39;49m\u001b[38;5;124;43mpqrstv\u001b[39;49m\u001b[38;5;124;43m'\u001b[39;49m\u001b[38;5;241;43m.\u001b[39;49m\u001b[43mcenter\u001b[49m\u001b[43m(\u001b[49m\u001b[43m)\u001b[49m)\n",
      "\u001b[1;31mTypeError\u001b[0m: center expected at least 1 argument, got 0"
     ]
    }
   ],
   "source": [
    "print('pqrstv'.center())"
   ]
  },
  {
   "cell_type": "code",
   "execution_count": 110,
   "id": "4de6da5e-b1ff-4307-a6e7-42366d130e0b",
   "metadata": {},
   "outputs": [
    {
     "ename": "TypeError",
     "evalue": "'str' object cannot be interpreted as an integer",
     "output_type": "error",
     "traceback": [
      "\u001b[1;31m---------------------------------------------------------------------------\u001b[0m",
      "\u001b[1;31mTypeError\u001b[0m                                 Traceback (most recent call last)",
      "Cell \u001b[1;32mIn[110], line 1\u001b[0m\n\u001b[1;32m----> 1\u001b[0m \u001b[38;5;28mprint\u001b[39m(\u001b[38;5;124;43m\"\u001b[39;49m\u001b[38;5;124;43mpq\u001b[39;49m\u001b[38;5;130;43;01m\\t\u001b[39;49;00m\u001b[38;5;124;43mrs\u001b[39;49m\u001b[38;5;130;43;01m\\t\u001b[39;49;00m\u001b[38;5;124;43mtv\u001b[39;49m\u001b[38;5;124;43m\"\u001b[39;49m\u001b[38;5;241;43m.\u001b[39;49m\u001b[43mexpandtabs\u001b[49m\u001b[43m(\u001b[49m\u001b[38;5;124;43m\"\u001b[39;49m\u001b[38;5;124;43m+\u001b[39;49m\u001b[38;5;124;43m\"\u001b[39;49m\u001b[43m)\u001b[49m)\n",
      "\u001b[1;31mTypeError\u001b[0m: 'str' object cannot be interpreted as an integer"
     ]
    }
   ],
   "source": [
    "print(\"pq\\trs\\ttv\".expandtabs(\"+\"))"
   ]
  },
  {
   "cell_type": "code",
   "execution_count": 111,
   "id": "365464df-6afa-4c36-a223-d5568904c7e3",
   "metadata": {},
   "outputs": [
    {
     "name": "stdout",
     "output_type": "stream",
     "text": [
      "x\\95\n"
     ]
    }
   ],
   "source": [
    "print('x\\95\\x98')"
   ]
  },
  {
   "cell_type": "code",
   "execution_count": 112,
   "id": "94cdad0e-910a-48d5-aa86-3aacb9f6dfcc",
   "metadata": {},
   "outputs": [
    {
     "name": "stdout",
     "output_type": "stream",
     "text": [
      "('mn', 'op', 'qratuv')\n"
     ]
    }
   ],
   "source": [
    "print('mnopqratuv'.partition('op'))"
   ]
  },
  {
   "cell_type": "code",
   "execution_count": 113,
   "id": "9180603c-df81-4315-a74a-d30cc3489c7c",
   "metadata": {},
   "outputs": [
    {
     "name": "stdout",
     "output_type": "stream",
     "text": [
      "xY!4\n"
     ]
    }
   ],
   "source": [
    "print('Xy!4'.swapcase())"
   ]
  },
  {
   "cell_type": "code",
   "execution_count": 114,
   "id": "cb5f6b91-c4c5-48ea-a205-563d0667c034",
   "metadata": {},
   "outputs": [
    {
     "name": "stdout",
     "output_type": "stream",
     "text": [
      "b'xyz'\n"
     ]
    }
   ],
   "source": [
    "print('xyz'.encode())"
   ]
  },
  {
   "cell_type": "code",
   "execution_count": 115,
   "id": "71f8690c-f7e0-492b-ac2d-444fd6f6929b",
   "metadata": {},
   "outputs": [
    {
     "name": "stdout",
     "output_type": "stream",
     "text": [
      "True\n"
     ]
    }
   ],
   "source": [
    "print('\\f'.isspace())"
   ]
  },
  {
   "cell_type": "code",
   "execution_count": 116,
   "id": "f0fbfe87-57f0-4922-a071-05f5f3583d2a",
   "metadata": {},
   "outputs": [
    {
     "name": "stdout",
     "output_type": "stream",
     "text": [
      "['mn', 'qr', 'stop']\n"
     ]
    }
   ],
   "source": [
    "print('mnopqropstop'.split('op',2))"
   ]
  },
  {
   "cell_type": "code",
   "execution_count": null,
   "id": "c79e199d-ac3a-4aed-9bac-fd65d8cc6cab",
   "metadata": {},
   "outputs": [],
   "source": []
  }
 ],
 "metadata": {
  "kernelspec": {
   "display_name": "Python 3 (ipykernel)",
   "language": "python",
   "name": "python3"
  },
  "language_info": {
   "codemirror_mode": {
    "name": "ipython",
    "version": 3
   },
   "file_extension": ".py",
   "mimetype": "text/x-python",
   "name": "python",
   "nbconvert_exporter": "python",
   "pygments_lexer": "ipython3",
   "version": "3.11.4"
  }
 },
 "nbformat": 4,
 "nbformat_minor": 5
}
