{
 "cells": [
  {
   "cell_type": "code",
   "execution_count": 1,
   "id": "f2aad274-9904-4731-8d9b-f619b027ef65",
   "metadata": {},
   "outputs": [
    {
     "name": "stdout",
     "output_type": "stream",
     "text": [
      "{1: 'Geeks', 2: 'For', 3: 'Geeks'}\n"
     ]
    }
   ],
   "source": [
    "Dict = {1: 'Geeks', 2: 'For', 3: 'Geeks'}\n",
    "print(Dict)"
   ]
  },
  {
   "cell_type": "code",
   "execution_count": 2,
   "id": "ebdb5ee6-7f47-4405-a269-aef9e82ccf1d",
   "metadata": {},
   "outputs": [
    {
     "name": "stdout",
     "output_type": "stream",
     "text": [
      "\n",
      "Dictionary with the use of Integer Keys: \n",
      "{1: 'Geeks', 2: 'For', 3: 'Geeks'}\n",
      "\n",
      "Dictionary with the use of Mixed Keys: \n",
      "{'Name': 'Geeks', 1: [1, 2, 3, 4]}\n"
     ]
    }
   ],
   "source": [
    "Dict = {1: 'Geeks', 2: 'For', 3: 'Geeks'}\n",
    "print(\"\\nDictionary with the use of Integer Keys: \")\n",
    "print(Dict)\n",
    "  \n",
    "# Creating a Dictionary\n",
    "# with Mixed keys\n",
    "Dict = {'Name': 'Geeks', 1: [1, 2, 3, 4]}\n",
    "print(\"\\nDictionary with the use of Mixed Keys: \")\n",
    "print(Dict)"
   ]
  },
  {
   "cell_type": "code",
   "execution_count": 3,
   "id": "e276a3db-d162-46c9-bd60-527216b8c38e",
   "metadata": {},
   "outputs": [
    {
     "name": "stdout",
     "output_type": "stream",
     "text": [
      "Empty Dictionary: \n",
      "{}\n",
      "\n",
      "Dictionary with the use of dict(): \n",
      "{1: 'Geeks', 2: 'For', 3: 'Geeks'}\n",
      "\n",
      "Dictionary with each item as a pair: \n",
      "{1: 'Geeks', 2: 'For'}\n"
     ]
    }
   ],
   "source": [
    "Dict = {}\n",
    "print(\"Empty Dictionary: \")\n",
    "print(Dict)\n",
    "  \n",
    "# Creating a Dictionary\n",
    "# with dict() method\n",
    "Dict = dict({1: 'Geeks', 2: 'For', 3: 'Geeks'})\n",
    "print(\"\\nDictionary with the use of dict(): \")\n",
    "print(Dict)\n",
    "  \n",
    "# Creating a Dictionary\n",
    "# with each item as a Pair\n",
    "Dict = dict([(1, 'Geeks'), (2, 'For')])\n",
    "print(\"\\nDictionary with each item as a pair: \")\n",
    "print(Dict)"
   ]
  },
  {
   "cell_type": "code",
   "execution_count": 4,
   "id": "28f03420-b3ec-4768-9fd0-4f9555d83445",
   "metadata": {},
   "outputs": [
    {
     "name": "stdout",
     "output_type": "stream",
     "text": [
      "{1: 'Geeks', 2: 'For', 3: {'A': 'Welcome', 'B': 'To', 'C': 'Geeks'}}\n"
     ]
    }
   ],
   "source": [
    "Dict = {1: 'Geeks', 2: 'For',\n",
    "        3: {'A': 'Welcome', 'B': 'To', 'C': 'Geeks'}}\n",
    "  \n",
    "print(Dict)"
   ]
  },
  {
   "cell_type": "code",
   "execution_count": 5,
   "id": "51ed18ed-63b5-4e68-85d5-cd5e6ee33fc8",
   "metadata": {},
   "outputs": [
    {
     "name": "stdout",
     "output_type": "stream",
     "text": [
      "Empty Dictionary: \n",
      "{}\n",
      "\n",
      "Dictionary after adding 3 elements: \n",
      "{0: 'Geeks', 2: 'For', 3: 1}\n",
      "\n",
      "Dictionary after adding 3 elements: \n",
      "{0: 'Geeks', 2: 'For', 3: 1, 'Value_set': (2, 3, 4)}\n",
      "\n",
      "Updated key value: \n",
      "{0: 'Geeks', 2: 'Welcome', 3: 1, 'Value_set': (2, 3, 4)}\n",
      "\n",
      "Adding a Nested Key: \n",
      "{0: 'Geeks', 2: 'Welcome', 3: 1, 'Value_set': (2, 3, 4), 5: {'Nested': {'1': 'Life', '2': 'Geeks'}}}\n"
     ]
    }
   ],
   "source": [
    "Dict = {}\n",
    "print(\"Empty Dictionary: \")\n",
    "print(Dict)\n",
    "  \n",
    "# Adding elements one at a time\n",
    "Dict[0] = 'Geeks'\n",
    "Dict[2] = 'For'\n",
    "Dict[3] = 1\n",
    "print(\"\\nDictionary after adding 3 elements: \")\n",
    "print(Dict)\n",
    "  \n",
    "# Adding set of values\n",
    "# to a single Key\n",
    "Dict['Value_set'] = 2, 3, 4\n",
    "print(\"\\nDictionary after adding 3 elements: \")\n",
    "print(Dict)\n",
    "  \n",
    "# Updating existing Key's Value\n",
    "Dict[2] = 'Welcome'\n",
    "print(\"\\nUpdated key value: \")\n",
    "print(Dict)\n",
    "  \n",
    "# Adding Nested Key value to Dictionary\n",
    "Dict[5] = {'Nested': {'1': 'Life', '2': 'Geeks'}}\n",
    "print(\"\\nAdding a Nested Key: \")\n",
    "print(Dict)"
   ]
  },
  {
   "cell_type": "code",
   "execution_count": 6,
   "id": "9164c3ee-5ae1-42e1-8216-c56eca2b8d50",
   "metadata": {},
   "outputs": [
    {
     "name": "stdout",
     "output_type": "stream",
     "text": [
      "Accessing a element using key:\n",
      "For\n",
      "Accessing a element using key:\n",
      "Geeks\n"
     ]
    }
   ],
   "source": [
    "Dict = {1: 'Geeks', 'name': 'For', 3: 'Geeks'}\n",
    "  \n",
    "# accessing a element using key\n",
    "print(\"Accessing a element using key:\")\n",
    "print(Dict['name'])\n",
    "  \n",
    "# accessing a element using key\n",
    "print(\"Accessing a element using key:\")\n",
    "print(Dict[1])"
   ]
  },
  {
   "cell_type": "code",
   "execution_count": 7,
   "id": "bc402395-8fb5-4a15-b6de-a81da8d4a6dc",
   "metadata": {},
   "outputs": [
    {
     "name": "stdout",
     "output_type": "stream",
     "text": [
      "Accessing a element using get:\n",
      "Geeks\n"
     ]
    }
   ],
   "source": [
    "Dict = {1: 'Geeks', 'name': 'For', 3: 'Geeks'}\n",
    "  \n",
    "# accessing a element using get()\n",
    "# method\n",
    "print(\"Accessing a element using get:\")\n",
    "print(Dict.get(3))"
   ]
  },
  {
   "cell_type": "code",
   "execution_count": 8,
   "id": "207129e2-4666-44ac-a57c-6563c4e0314f",
   "metadata": {},
   "outputs": [
    {
     "name": "stdout",
     "output_type": "stream",
     "text": [
      "{1: 'Geeks'}\n",
      "Geeks\n",
      "For\n"
     ]
    }
   ],
   "source": [
    "Dict = {'Dict1': {1: 'Geeks'},\n",
    "        'Dict2': {'Name': 'For'}}\n",
    "  \n",
    "# Accessing element using key\n",
    "print(Dict['Dict1'])\n",
    "print(Dict['Dict1'][1])\n",
    "print(Dict['Dict2']['Name'])"
   ]
  },
  {
   "cell_type": "code",
   "execution_count": 9,
   "id": "1a9e6d0c-f37d-4370-87db-2d501a5b9195",
   "metadata": {},
   "outputs": [
    {
     "name": "stdout",
     "output_type": "stream",
     "text": [
      "Dictionary =\n",
      "{1: 'Geeks', 'name': 'For', 3: 'Geeks'}\n",
      "Data after deletion Dictionary=\n",
      "{'name': 'For', 3: 'Geeks'}\n"
     ]
    }
   ],
   "source": [
    "Dict = {1: 'Geeks', 'name': 'For', 3: 'Geeks'}\n",
    "  \n",
    "print(\"Dictionary =\")\n",
    "print(Dict)\n",
    "#Deleting some of the Dictionar data\n",
    "del(Dict[1]) \n",
    "print(\"Data after deletion Dictionary=\")\n",
    "print(Dict)"
   ]
  },
  {
   "cell_type": "code",
   "execution_count": 10,
   "id": "9b82b3c7-969b-4cb5-922b-11b8fd990d34",
   "metadata": {},
   "outputs": [
    {
     "name": "stdout",
     "output_type": "stream",
     "text": [
      "{1: 'Python', 2: 'Java', 3: 'Ruby', 4: 'Scala'}\n",
      "{}\n",
      "Python\n",
      "dict_items([(1, 'Python'), (2, 'Java'), (3, 'Ruby'), (4, 'Scala')])\n",
      "dict_keys([1, 2, 3, 4])\n",
      "{1: 'Python', 2: 'Java', 3: 'Ruby'}\n",
      "{1: 'Python', 2: 'Java'}\n",
      "{1: 'Python', 2: 'Java', 3: 'Scala'}\n",
      "dict_values(['Python', 'Java', 'Scala'])\n"
     ]
    }
   ],
   "source": [
    "dict1 = {1: \"Python\", 2: \"Java\", 3: \"Ruby\", 4: \"Scala\"}\n",
    "  \n",
    "# copy() method\n",
    "dict2 = dict1.copy()\n",
    "print(dict2)\n",
    "  \n",
    "# clear() method\n",
    "dict1.clear()\n",
    "print(dict1)\n",
    "  \n",
    "# get() method\n",
    "print(dict2.get(1))\n",
    "  \n",
    "# items() method\n",
    "print(dict2.items())\n",
    "  \n",
    "# keys() method\n",
    "print(dict2.keys())\n",
    "  \n",
    "# pop() method\n",
    "dict2.pop(4)\n",
    "print(dict2)\n",
    "  \n",
    "# popitem() method\n",
    "dict2.popitem()\n",
    "print(dict2)\n",
    "  \n",
    "# update() method\n",
    "dict2.update({3: \"Scala\"})\n",
    "print(dict2)\n",
    "  \n",
    "# values() method\n",
    "print(dict2.values())"
   ]
  },
  {
   "cell_type": "code",
   "execution_count": 1,
   "id": "44ee3f1a-3336-47f0-84c5-f9500cd7821d",
   "metadata": {},
   "outputs": [
    {
     "name": "stdout",
     "output_type": "stream",
     "text": [
      "{'brand': 'Ford', 'model': 'Mustang', 'year': 1964}\n"
     ]
    }
   ],
   "source": [
    "thisdict = {\n",
    "  \"brand\": \"Ford\",\n",
    "  \"model\": \"Mustang\",\n",
    "  \"year\": 1964\n",
    "}\n",
    "print(thisdict)"
   ]
  },
  {
   "cell_type": "code",
   "execution_count": 2,
   "id": "28830795-701a-40f2-b261-efb9b110503d",
   "metadata": {},
   "outputs": [
    {
     "name": "stdout",
     "output_type": "stream",
     "text": [
      "Ford\n"
     ]
    }
   ],
   "source": [
    "thisdict = {\n",
    "  \"brand\": \"Ford\",\n",
    "  \"model\": \"Mustang\",\n",
    "  \"year\": 1964\n",
    "}\n",
    "print(thisdict[\"brand\"])"
   ]
  },
  {
   "cell_type": "code",
   "execution_count": 3,
   "id": "663e4a58-effd-4d96-811b-a80060d2fde8",
   "metadata": {},
   "outputs": [
    {
     "name": "stdout",
     "output_type": "stream",
     "text": [
      "{'brand': 'Ford', 'model': 'Mustang', 'year': 2020}\n"
     ]
    }
   ],
   "source": [
    "thisdict = {\n",
    "  \"brand\": \"Ford\",\n",
    "  \"model\": \"Mustang\",\n",
    "  \"year\": 1964,\n",
    "  \"year\": 2020\n",
    "}\n",
    "print(thisdict)"
   ]
  },
  {
   "cell_type": "code",
   "execution_count": 4,
   "id": "6470bfe8-f554-4e71-ae9b-d45b7113afc5",
   "metadata": {},
   "outputs": [
    {
     "name": "stdout",
     "output_type": "stream",
     "text": [
      "3\n"
     ]
    }
   ],
   "source": [
    "print(len(thisdict))"
   ]
  },
  {
   "cell_type": "code",
   "execution_count": 6,
   "id": "0ae96c96-fa12-4645-b004-e4237308c1bc",
   "metadata": {},
   "outputs": [
    {
     "name": "stdout",
     "output_type": "stream",
     "text": [
      "{'brand': 'Ford', 'electric': False, 'year': 1964, 'colors': ['red', 'white', 'blue']}\n"
     ]
    }
   ],
   "source": [
    "thisdict = {\n",
    "  \"brand\": \"Ford\",\n",
    "  \"electric\": False,\n",
    "  \"year\": 1964,\n",
    "  \"colors\": [\"red\", \"white\", \"blue\"]\n",
    "}\n",
    "print(thisdict)"
   ]
  },
  {
   "cell_type": "code",
   "execution_count": 7,
   "id": "a2dce2e8-4563-4cab-9f18-6d02c6f0c5c8",
   "metadata": {},
   "outputs": [
    {
     "name": "stdout",
     "output_type": "stream",
     "text": [
      "<class 'dict'>\n"
     ]
    }
   ],
   "source": [
    "thisdict = {\n",
    "  \"brand\": \"Ford\",\n",
    "  \"model\": \"Mustang\",\n",
    "  \"year\": 1964\n",
    "}\n",
    "print(type(thisdict))"
   ]
  },
  {
   "cell_type": "code",
   "execution_count": 8,
   "id": "3cd6a61c-de00-49ed-a7ee-f81c6c9fe283",
   "metadata": {},
   "outputs": [
    {
     "name": "stdout",
     "output_type": "stream",
     "text": [
      "{'name': 'John', 'age': 36, 'country': 'Norway'}\n"
     ]
    }
   ],
   "source": [
    "thisdict = dict(name = \"John\", age = 36, country = \"Norway\")\n",
    "print(thisdict)"
   ]
  },
  {
   "cell_type": "code",
   "execution_count": 9,
   "id": "34665d97-2429-4e8b-8aac-bd4f42935303",
   "metadata": {},
   "outputs": [
    {
     "name": "stdout",
     "output_type": "stream",
     "text": [
      "Mustang\n"
     ]
    }
   ],
   "source": [
    "thisdict =\t{\n",
    "  \"brand\": \"Ford\",\n",
    "  \"model\": \"Mustang\",\n",
    "  \"year\": 1964\n",
    "}\n",
    "x = thisdict[\"model\"]\n",
    "print(x)"
   ]
  },
  {
   "cell_type": "code",
   "execution_count": 10,
   "id": "80b3f43a-645d-4d57-b67d-e1343f43290d",
   "metadata": {},
   "outputs": [
    {
     "name": "stdout",
     "output_type": "stream",
     "text": [
      "Mustang\n"
     ]
    }
   ],
   "source": [
    "x = thisdict.get(\"model\")\n",
    "print(x)"
   ]
  },
  {
   "cell_type": "code",
   "execution_count": 11,
   "id": "fbd10181-08bb-4636-803c-593b8f84e753",
   "metadata": {},
   "outputs": [
    {
     "name": "stdout",
     "output_type": "stream",
     "text": [
      "dict_keys(['brand', 'model', 'year'])\n"
     ]
    }
   ],
   "source": [
    "x = thisdict.keys()\n",
    "print(x)"
   ]
  },
  {
   "cell_type": "code",
   "execution_count": 12,
   "id": "d430f7ac-693e-4c42-ba9f-ab56ac14de8d",
   "metadata": {},
   "outputs": [
    {
     "name": "stdout",
     "output_type": "stream",
     "text": [
      "dict_keys(['brand', 'model', 'year'])\n",
      "dict_keys(['brand', 'model', 'year', 'color'])\n"
     ]
    }
   ],
   "source": [
    "car = {\n",
    "\"brand\": \"Ford\",\n",
    "\"model\": \"Mustang\",\n",
    "\"year\": 1964\n",
    "}\n",
    "\n",
    "x = car.keys()\n",
    "\n",
    "print(x) #before the change\n",
    "\n",
    "car[\"color\"] = \"white\"\n",
    "\n",
    "print(x) #after the change"
   ]
  },
  {
   "cell_type": "code",
   "execution_count": 13,
   "id": "a1093153-b45d-4a24-8036-401066d80264",
   "metadata": {},
   "outputs": [
    {
     "name": "stdout",
     "output_type": "stream",
     "text": [
      "dict_values(['Ford', 'Mustang', 1964])\n"
     ]
    }
   ],
   "source": [
    "x = thisdict.values()\n",
    "print(x)"
   ]
  },
  {
   "cell_type": "code",
   "execution_count": 14,
   "id": "b281f90a-594b-453f-a023-8f9a20ac8940",
   "metadata": {},
   "outputs": [
    {
     "name": "stdout",
     "output_type": "stream",
     "text": [
      "dict_values(['Ford', 'Mustang', 1964])\n",
      "dict_values(['Ford', 'Mustang', 2020])\n"
     ]
    }
   ],
   "source": [
    "car = {\n",
    "\"brand\": \"Ford\",\n",
    "\"model\": \"Mustang\",\n",
    "\"year\": 1964\n",
    "}\n",
    "\n",
    "x = car.values()\n",
    "\n",
    "print(x) #before the change\n",
    "\n",
    "car[\"year\"] = 2020\n",
    "\n",
    "print(x) #after the change"
   ]
  },
  {
   "cell_type": "code",
   "execution_count": 15,
   "id": "4d5d325b-c51a-4c36-b76b-e87868303769",
   "metadata": {},
   "outputs": [
    {
     "name": "stdout",
     "output_type": "stream",
     "text": [
      "dict_values(['Ford', 'Mustang', 1964])\n",
      "dict_values(['Ford', 'Mustang', 1964, 'red'])\n"
     ]
    }
   ],
   "source": [
    "car = {\n",
    "\"brand\": \"Ford\",\n",
    "\"model\": \"Mustang\",\n",
    "\"year\": 1964\n",
    "}\n",
    "\n",
    "x = car.values()\n",
    "\n",
    "print(x) #before the change\n",
    "\n",
    "car[\"color\"] = \"red\"\n",
    "\n",
    "print(x) #after the change"
   ]
  },
  {
   "cell_type": "code",
   "execution_count": 16,
   "id": "45dd4adb-97e3-4796-b545-d26a7b6d39b9",
   "metadata": {},
   "outputs": [
    {
     "name": "stdout",
     "output_type": "stream",
     "text": [
      "dict_items([('brand', 'Ford'), ('model', 'Mustang'), ('year', 1964)])\n"
     ]
    }
   ],
   "source": [
    "x = thisdict.items()\n",
    "print(x)"
   ]
  },
  {
   "cell_type": "code",
   "execution_count": 17,
   "id": "65394fab-ca9e-441f-88ae-ad6e40753b6b",
   "metadata": {},
   "outputs": [
    {
     "name": "stdout",
     "output_type": "stream",
     "text": [
      "dict_items([('brand', 'Ford'), ('model', 'Mustang'), ('year', 1964)])\n",
      "dict_items([('brand', 'Ford'), ('model', 'Mustang'), ('year', 2020)])\n"
     ]
    }
   ],
   "source": [
    "car = {\n",
    "\"brand\": \"Ford\",\n",
    "\"model\": \"Mustang\",\n",
    "\"year\": 1964\n",
    "}\n",
    "\n",
    "x = car.items()\n",
    "\n",
    "print(x) #before the change\n",
    "\n",
    "car[\"year\"] = 2020\n",
    "\n",
    "print(x) #after the change"
   ]
  },
  {
   "cell_type": "code",
   "execution_count": 18,
   "id": "88f19345-e54f-4acb-bc1d-c90c5788244c",
   "metadata": {},
   "outputs": [
    {
     "name": "stdout",
     "output_type": "stream",
     "text": [
      "dict_items([('brand', 'Ford'), ('model', 'Mustang'), ('year', 1964)])\n",
      "dict_items([('brand', 'Ford'), ('model', 'Mustang'), ('year', 1964), ('color', 'red')])\n"
     ]
    }
   ],
   "source": [
    "car = {\n",
    "\"brand\": \"Ford\",\n",
    "\"model\": \"Mustang\",\n",
    "\"year\": 1964\n",
    "}\n",
    "\n",
    "x = car.items()\n",
    "\n",
    "print(x) #before the change\n",
    "\n",
    "car[\"color\"] = \"red\"\n",
    "\n",
    "print(x) #after the change"
   ]
  },
  {
   "cell_type": "code",
   "execution_count": 19,
   "id": "afeb51fa-bfc1-4f05-8d38-6a4abb85fe32",
   "metadata": {},
   "outputs": [
    {
     "name": "stdout",
     "output_type": "stream",
     "text": [
      "Yes, 'model' is one of the keys in the thisdict dictionary\n"
     ]
    }
   ],
   "source": [
    "thisdict = {\n",
    "  \"brand\": \"Ford\",\n",
    "  \"model\": \"Mustang\",\n",
    "  \"year\": 1964\n",
    "}\n",
    "if \"model\" in thisdict:\n",
    "  print(\"Yes, 'model' is one of the keys in the thisdict dictionary\")"
   ]
  },
  {
   "cell_type": "code",
   "execution_count": 20,
   "id": "f8047772-aad4-4afb-b6bb-6b9d35e8bf2d",
   "metadata": {},
   "outputs": [
    {
     "name": "stdout",
     "output_type": "stream",
     "text": [
      "{'brand': 'Ford', 'model': 'Mustang', 'year': 2020}\n"
     ]
    }
   ],
   "source": [
    "thisdict = {\n",
    "  \"brand\": \"Ford\",\n",
    "  \"model\": \"Mustang\",\n",
    "  \"year\": 1964\n",
    "}\n",
    "thisdict.update({\"year\": 2020})\n",
    "print(thisdict)"
   ]
  },
  {
   "cell_type": "code",
   "execution_count": 22,
   "id": "61f74f89-3287-4383-b626-0b63559609c3",
   "metadata": {},
   "outputs": [
    {
     "name": "stdout",
     "output_type": "stream",
     "text": [
      "{'brand': 'Ford', 'model': 'Mustang', 'year': 1964, 'color': 'red'}\n"
     ]
    }
   ],
   "source": [
    "thisdict = {\n",
    "  \"brand\": \"Ford\",\n",
    "  \"model\": \"Mustang\",\n",
    "  \"year\": 1964\n",
    "}\n",
    "thisdict.update({\"color\": \"red\"})\n",
    "print(thisdict)"
   ]
  },
  {
   "cell_type": "code",
   "execution_count": 23,
   "id": "61604094-c12c-4cb3-afd0-68c7f36ca8a3",
   "metadata": {},
   "outputs": [
    {
     "name": "stdout",
     "output_type": "stream",
     "text": [
      "{'brand': 'Ford', 'year': 1964}\n"
     ]
    }
   ],
   "source": [
    "thisdict = {\n",
    "  \"brand\": \"Ford\",\n",
    "  \"model\": \"Mustang\",\n",
    "  \"year\": 1964\n",
    "}\n",
    "thisdict.pop(\"model\")\n",
    "print(thisdict)"
   ]
  },
  {
   "cell_type": "code",
   "execution_count": 24,
   "id": "680e15ae-f211-4197-aaef-a1d8b6cde381",
   "metadata": {},
   "outputs": [
    {
     "name": "stdout",
     "output_type": "stream",
     "text": [
      "{'brand': 'Ford', 'model': 'Mustang'}\n"
     ]
    }
   ],
   "source": [
    "thisdict = {\n",
    "  \"brand\": \"Ford\",\n",
    "  \"model\": \"Mustang\",\n",
    "  \"year\": 1964\n",
    "}\n",
    "thisdict.popitem()\n",
    "print(thisdict)"
   ]
  },
  {
   "cell_type": "code",
   "execution_count": 25,
   "id": "7e823cbc-3300-4bf9-ae84-7c50a61698c7",
   "metadata": {},
   "outputs": [
    {
     "name": "stdout",
     "output_type": "stream",
     "text": [
      "{'brand': 'Ford', 'year': 1964}\n"
     ]
    }
   ],
   "source": [
    "thisdict = {\n",
    "  \"brand\": \"Ford\",\n",
    "  \"model\": \"Mustang\",\n",
    "  \"year\": 1964\n",
    "}\n",
    "del thisdict[\"model\"]\n",
    "print(thisdict)"
   ]
  },
  {
   "cell_type": "code",
   "execution_count": 26,
   "id": "f829f4f7-7e36-42f8-ad9e-f2a31d3be15d",
   "metadata": {},
   "outputs": [
    {
     "ename": "NameError",
     "evalue": "name 'thisdict' is not defined",
     "output_type": "error",
     "traceback": [
      "\u001b[1;31m---------------------------------------------------------------------------\u001b[0m",
      "\u001b[1;31mNameError\u001b[0m                                 Traceback (most recent call last)",
      "Cell \u001b[1;32mIn[26], line 7\u001b[0m\n\u001b[0;32m      1\u001b[0m thisdict \u001b[38;5;241m=\u001b[39m {\n\u001b[0;32m      2\u001b[0m   \u001b[38;5;124m\"\u001b[39m\u001b[38;5;124mbrand\u001b[39m\u001b[38;5;124m\"\u001b[39m: \u001b[38;5;124m\"\u001b[39m\u001b[38;5;124mFord\u001b[39m\u001b[38;5;124m\"\u001b[39m,\n\u001b[0;32m      3\u001b[0m   \u001b[38;5;124m\"\u001b[39m\u001b[38;5;124mmodel\u001b[39m\u001b[38;5;124m\"\u001b[39m: \u001b[38;5;124m\"\u001b[39m\u001b[38;5;124mMustang\u001b[39m\u001b[38;5;124m\"\u001b[39m,\n\u001b[0;32m      4\u001b[0m   \u001b[38;5;124m\"\u001b[39m\u001b[38;5;124myear\u001b[39m\u001b[38;5;124m\"\u001b[39m: \u001b[38;5;241m1964\u001b[39m\n\u001b[0;32m      5\u001b[0m }\n\u001b[0;32m      6\u001b[0m \u001b[38;5;28;01mdel\u001b[39;00m thisdict\n\u001b[1;32m----> 7\u001b[0m \u001b[38;5;28mprint\u001b[39m(\u001b[43mthisdict\u001b[49m) \u001b[38;5;66;03m#this will cause an error because \"thisdict\" no longer exists.\u001b[39;00m\n",
      "\u001b[1;31mNameError\u001b[0m: name 'thisdict' is not defined"
     ]
    }
   ],
   "source": [
    "thisdict = {\n",
    "  \"brand\": \"Ford\",\n",
    "  \"model\": \"Mustang\",\n",
    "  \"year\": 1964\n",
    "}\n",
    "del thisdict\n",
    "print(thisdict) #this will cause an error because \"thisdict\" no longer exists."
   ]
  },
  {
   "cell_type": "code",
   "execution_count": 27,
   "id": "ee004b4d-a2d6-4fb8-9639-4b5c10057a62",
   "metadata": {},
   "outputs": [
    {
     "name": "stdout",
     "output_type": "stream",
     "text": [
      "{}\n"
     ]
    }
   ],
   "source": [
    "thisdict = {\n",
    "  \"brand\": \"Ford\",\n",
    "  \"model\": \"Mustang\",\n",
    "  \"year\": 1964\n",
    "}\n",
    "thisdict.clear()\n",
    "print(thisdict)"
   ]
  },
  {
   "cell_type": "code",
   "execution_count": 29,
   "id": "e0209834-a7f2-4ed1-ad97-80d123a7c2ea",
   "metadata": {},
   "outputs": [
    {
     "name": "stdout",
     "output_type": "stream",
     "text": [
      "brand\n",
      "model\n",
      "year\n"
     ]
    }
   ],
   "source": [
    "thisdict = {\n",
    "  \"brand\": \"Ford\",\n",
    "  \"model\": \"Mustang\",\n",
    "  \"year\": 1964\n",
    "}\n",
    "for x in thisdict:\n",
    "  print(x)"
   ]
  },
  {
   "cell_type": "code",
   "execution_count": 30,
   "id": "1dda5f6b-93e1-4dbe-854b-7cbc6be320df",
   "metadata": {},
   "outputs": [
    {
     "name": "stdout",
     "output_type": "stream",
     "text": [
      "Ford\n",
      "Mustang\n",
      "1964\n"
     ]
    }
   ],
   "source": [
    "for x in thisdict:\n",
    "  print(thisdict[x])"
   ]
  },
  {
   "cell_type": "code",
   "execution_count": 31,
   "id": "7673f60a-e709-4de9-b379-2dba44047769",
   "metadata": {},
   "outputs": [
    {
     "name": "stdout",
     "output_type": "stream",
     "text": [
      "Ford\n",
      "Mustang\n",
      "1964\n"
     ]
    }
   ],
   "source": [
    "for x in thisdict.values():\n",
    "  print(x)"
   ]
  },
  {
   "cell_type": "code",
   "execution_count": 32,
   "id": "38facdd7-db64-4eee-b119-07c34c4529e8",
   "metadata": {},
   "outputs": [
    {
     "name": "stdout",
     "output_type": "stream",
     "text": [
      "brand\n",
      "model\n",
      "year\n"
     ]
    }
   ],
   "source": [
    "for x in thisdict.keys():\n",
    "  print(x)"
   ]
  },
  {
   "cell_type": "code",
   "execution_count": 33,
   "id": "78c73322-cec9-4e40-a4a1-59376d280d6e",
   "metadata": {},
   "outputs": [
    {
     "name": "stdout",
     "output_type": "stream",
     "text": [
      "brand Ford\n",
      "model Mustang\n",
      "year 1964\n"
     ]
    }
   ],
   "source": [
    "for x, y in thisdict.items():\n",
    "  print(x, y)"
   ]
  },
  {
   "cell_type": "code",
   "execution_count": 34,
   "id": "3b8dae0b-ca45-4c73-828e-d45698a41be7",
   "metadata": {},
   "outputs": [
    {
     "name": "stdout",
     "output_type": "stream",
     "text": [
      "{'brand': 'Ford', 'model': 'Mustang', 'year': 1964}\n"
     ]
    }
   ],
   "source": [
    "thisdict = {\n",
    "  \"brand\": \"Ford\",\n",
    "  \"model\": \"Mustang\",\n",
    "  \"year\": 1964\n",
    "}\n",
    "mydict = thisdict.copy()\n",
    "print(mydict)"
   ]
  },
  {
   "cell_type": "code",
   "execution_count": 35,
   "id": "eaa7baa5-5b9a-45a3-8086-768c6426aba3",
   "metadata": {},
   "outputs": [
    {
     "name": "stdout",
     "output_type": "stream",
     "text": [
      "{'brand': 'Ford', 'model': 'Mustang', 'year': 1964}\n"
     ]
    }
   ],
   "source": [
    "thisdict = {\n",
    "  \"brand\": \"Ford\",\n",
    "  \"model\": \"Mustang\",\n",
    "  \"year\": 1964\n",
    "}\n",
    "mydict = dict(thisdict)\n",
    "print(mydict)"
   ]
  },
  {
   "cell_type": "code",
   "execution_count": 36,
   "id": "32b88d20-47d1-41d7-bf09-a36277ede267",
   "metadata": {},
   "outputs": [
    {
     "name": "stdout",
     "output_type": "stream",
     "text": [
      "{'child1': {'name': 'Emil', 'year': 2004}, 'child2': {'name': 'Tobias', 'year': 2007}, 'child3': {'name': 'Linus', 'year': 2011}}\n"
     ]
    }
   ],
   "source": [
    "myfamily = {\n",
    "  \"child1\" : {\n",
    "    \"name\" : \"Emil\",\n",
    "    \"year\" : 2004\n",
    "  },\n",
    "  \"child2\" : {\n",
    "    \"name\" : \"Tobias\",\n",
    "    \"year\" : 2007\n",
    "  },\n",
    "  \"child3\" : {\n",
    "    \"name\" : \"Linus\",\n",
    "    \"year\" : 2011\n",
    "  }\n",
    "}\n",
    "\n",
    "print(myfamily)"
   ]
  },
  {
   "cell_type": "code",
   "execution_count": 37,
   "id": "4f5b413a-10cd-4e6c-9ddc-87d7f6d440a1",
   "metadata": {},
   "outputs": [
    {
     "name": "stdout",
     "output_type": "stream",
     "text": [
      "{'child1': {'name': 'Emil', 'year': 2004}, 'child2': {'name': 'Tobias', 'year': 2007}, 'child3': {'name': 'Linus', 'year': 2011}}\n"
     ]
    }
   ],
   "source": [
    "child1 = {\n",
    "  \"name\" : \"Emil\",\n",
    "  \"year\" : 2004\n",
    "}\n",
    "child2 = {\n",
    "  \"name\" : \"Tobias\",\n",
    "  \"year\" : 2007\n",
    "}\n",
    "child3 = {\n",
    "  \"name\" : \"Linus\",\n",
    "  \"year\" : 2011\n",
    "}\n",
    "\n",
    "myfamily = {\n",
    "  \"child1\" : child1,\n",
    "  \"child2\" : child2,\n",
    "  \"child3\" : child3\n",
    "}\n",
    "print(myfamily)"
   ]
  },
  {
   "cell_type": "code",
   "execution_count": 38,
   "id": "8971a1ba-2228-4475-a37c-09f66669e7a3",
   "metadata": {},
   "outputs": [
    {
     "name": "stdout",
     "output_type": "stream",
     "text": [
      "Tobias\n"
     ]
    }
   ],
   "source": [
    "print(myfamily[\"child2\"][\"name\"])"
   ]
  },
  {
   "cell_type": "code",
   "execution_count": null,
   "id": "54fa260d-3ea2-4b06-8533-ba21e59e11ae",
   "metadata": {},
   "outputs": [],
   "source": []
  }
 ],
 "metadata": {
  "kernelspec": {
   "display_name": "Python 3 (ipykernel)",
   "language": "python",
   "name": "python3"
  },
  "language_info": {
   "codemirror_mode": {
    "name": "ipython",
    "version": 3
   },
   "file_extension": ".py",
   "mimetype": "text/x-python",
   "name": "python",
   "nbconvert_exporter": "python",
   "pygments_lexer": "ipython3",
   "version": "3.11.4"
  }
 },
 "nbformat": 4,
 "nbformat_minor": 5
}
