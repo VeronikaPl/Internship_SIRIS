{
 "cells": [
  {
   "cell_type": "code",
   "execution_count": 3,
   "id": "4d01fe93-5f90-4276-96e3-5061f6f4a704",
   "metadata": {},
   "outputs": [
    {
     "name": "stdout",
     "output_type": "stream",
     "text": [
      "\n",
      " GeeksforGeeks   was founded in 2009!\n"
     ]
    }
   ],
   "source": [
    "String1 = \"\\n{:^16} was founded in {:<4}!\".format(\"GeeksforGeeks\", 2009)\n",
    "print(String1)"
   ]
  },
  {
   "cell_type": "code",
   "execution_count": 5,
   "id": "e290dad1-8dc8-4af2-8d93-627720bbccd3",
   "metadata": {},
   "outputs": [
    {
     "name": "stdout",
     "output_type": "stream",
     "text": [
      "this\\t\\n and that\n"
     ]
    }
   ],
   "source": [
    "raw = r'this\\t\\n and that'\n",
    "print(raw)"
   ]
  },
  {
   "cell_type": "code",
   "execution_count": 6,
   "id": "9134d0cf-0eca-4d27-a3fe-6d3de691bdd3",
   "metadata": {},
   "outputs": [
    {
     "name": "stdout",
     "output_type": "stream",
     "text": [
      "this\t\n",
      " and that\n"
     ]
    }
   ],
   "source": [
    "raw = 'this\\t\\n and that'\n",
    "print(raw)"
   ]
  },
  {
   "cell_type": "code",
   "execution_count": 7,
   "id": "8a541f58-a223-4800-8a42-9e6e52b42502",
   "metadata": {},
   "outputs": [
    {
     "name": "stdout",
     "output_type": "stream",
     "text": [
      "car = {'tires': 4, 'doors': 2}\n"
     ]
    }
   ],
   "source": [
    "car = {'tires':4, 'doors':2}\n",
    "print(f'car = {car}')"
   ]
  },
  {
   "cell_type": "code",
   "execution_count": 8,
   "id": "6216b6c2-e488-4df9-acf9-f2130acf1cf9",
   "metadata": {},
   "outputs": [
    {
     "name": "stdout",
     "output_type": "stream",
     "text": [
      "['False', 'None', 'True', 'and', 'as', 'assert', 'async', 'await', 'break', 'class', 'continue', 'def', 'del', 'elif', 'else', 'except', 'finally', 'for', 'from', 'global', 'if', 'import', 'in', 'is', 'lambda', 'nonlocal', 'not', 'or', 'pass', 'raise', 'return', 'try', 'while', 'with', 'yield']\n"
     ]
    }
   ],
   "source": [
    "import keyword\n",
    "print(keyword.kwlist)"
   ]
  },
  {
   "cell_type": "code",
   "execution_count": 11,
   "id": "0d2046fd-178c-491c-a09a-8cbc642faf88",
   "metadata": {},
   "outputs": [
    {
     "name": "stdout",
     "output_type": "stream",
     "text": [
      "15\n"
     ]
    }
   ],
   "source": [
    "currList = [1, 2, 3, 4, 5]\n",
    "sum = 0\n",
    "for element in currList:\n",
    "    sum += element\n",
    "print(sum)"
   ]
  },
  {
   "cell_type": "code",
   "execution_count": 13,
   "id": "2bf8f086-6cdb-4e8a-8e43-134b80743f94",
   "metadata": {},
   "outputs": [
    {
     "name": "stdout",
     "output_type": "stream",
     "text": [
      "5\n"
     ]
    }
   ],
   "source": [
    "myList = [2, 3, 1, 4, 5]\n",
    "max = myList[0]\n",
    "i = 1\n",
    "while i < len(myList):\n",
    "    if myList[i] > max:\n",
    "        max = myList[i]\n",
    "    i += 1\n",
    "print(max)"
   ]
  },
  {
   "cell_type": "code",
   "execution_count": null,
   "id": "d72405e7-82f8-4432-a975-9247f6064f02",
   "metadata": {},
   "outputs": [],
   "source": []
  }
 ],
 "metadata": {
  "kernelspec": {
   "display_name": "Python 3 (ipykernel)",
   "language": "python",
   "name": "python3"
  },
  "language_info": {
   "codemirror_mode": {
    "name": "ipython",
    "version": 3
   },
   "file_extension": ".py",
   "mimetype": "text/x-python",
   "name": "python",
   "nbconvert_exporter": "python",
   "pygments_lexer": "ipython3",
   "version": "3.11.4"
  }
 },
 "nbformat": 4,
 "nbformat_minor": 5
}
