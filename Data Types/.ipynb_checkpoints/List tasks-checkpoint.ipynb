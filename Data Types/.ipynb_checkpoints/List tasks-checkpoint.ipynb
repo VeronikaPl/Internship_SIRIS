{
 "cells": [
  {
   "cell_type": "code",
   "execution_count": 5,
   "id": "83b000b4-54ae-4f4a-b85c-65e6ae880008",
   "metadata": {},
   "outputs": [
    {
     "name": "stdout",
     "output_type": "stream",
     "text": [
      "False\n",
      "True\n",
      "False\n"
     ]
    }
   ],
   "source": [
    "''''\n",
    "17. Write a Python program to check if each number is prime in a given list of numbers. Return True if all numbers are prime otherwise False.\n",
    "Sample Data:\n",
    "([0, 3, 4, 7, 9]) -> False\n",
    "([3, 5, 7, 13]) -> True\n",
    "([1, 5, 3]) -> False\n",
    "'''\n",
    "\n",
    "def isPrime(number):\n",
    "    if number == 1:\n",
    "        return False\n",
    "    elif number == 2:\n",
    "        return True\n",
    "    else:\n",
    "        for n in range(2, number):\n",
    "            if number % n == 0:\n",
    "                return False\n",
    "            else:\n",
    "                return True\n",
    "\n",
    "def check_all(currlist):\n",
    "    return all(isPrime(number) for number in currlist)\n",
    "\n",
    "print(check_all([0, 3, 4, 7, 9]))\n",
    "print(check_all([3, 5, 7, 13]))\n",
    "print(check_all([1, 5, 3]))"
   ]
  },
  {
   "cell_type": "code",
   "execution_count": 1,
   "id": "63b47546-2eeb-4e18-8005-e6063db96b1c",
   "metadata": {},
   "outputs": [
    {
     "name": "stdout",
     "output_type": "stream",
     "text": [
      "29\n"
     ]
    }
   ],
   "source": [
    "'''\n",
    "25. Write a Python program to select an item randomly from a list.\n",
    "'''\n",
    "\n",
    "import random\n",
    "\n",
    "mylist = [1, 5, 29, 33, 3]\n",
    "print(random.choice(mylist))"
   ]
  },
  {
   "cell_type": "code",
   "execution_count": 6,
   "id": "c849459b-390f-44e6-a54c-f7edeb276120",
   "metadata": {},
   "outputs": [
    {
     "name": "stdout",
     "output_type": "stream",
     "text": [
      "10\n"
     ]
    }
   ],
   "source": [
    "'''\n",
    "28. Write a Python program to find the second largest number in a list.\n",
    "'''\n",
    "def second_largest(currlist):\n",
    "    if len(currlist) < 2:\n",
    "        return currlist[0]\n",
    "    elif len(currlist) == 2 and currlist[0] == currlist[1]:\n",
    "        return currlist[0]\n",
    "    else:\n",
    "        currlist.sort()\n",
    "        return currlist[-2]\n",
    "        #for number in currlist:\n",
    "\n",
    "print(second_largest([4, -1, 12, 10, -2]))"
   ]
  },
  {
   "cell_type": "code",
   "execution_count": null,
   "id": "768bb25a-b30a-4c62-afce-8b0efe75eb6b",
   "metadata": {},
   "outputs": [],
   "source": [
    "'''\n",
    "29. Write a Python program to get unique values from a list.\n",
    "'''\n"
   ]
  },
  {
   "cell_type": "code",
   "execution_count": null,
   "id": "e203951f-df6a-4288-b914-f9cc9e5f0496",
   "metadata": {},
   "outputs": [],
   "source": [
    "'''\n",
    "30. Write a Python program to get the frequency of elements in a list.\n",
    "'''\n"
   ]
  }
 ],
 "metadata": {
  "kernelspec": {
   "display_name": "Python 3 (ipykernel)",
   "language": "python",
   "name": "python3"
  },
  "language_info": {
   "codemirror_mode": {
    "name": "ipython",
    "version": 3
   },
   "file_extension": ".py",
   "mimetype": "text/x-python",
   "name": "python",
   "nbconvert_exporter": "python",
   "pygments_lexer": "ipython3",
   "version": "3.11.4"
  }
 },
 "nbformat": 4,
 "nbformat_minor": 5
}
