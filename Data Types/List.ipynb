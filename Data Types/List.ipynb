{
 "cells": [
  {
   "cell_type": "code",
   "execution_count": 1,
   "id": "55f6376f-9781-4895-91b5-31a45607376c",
   "metadata": {},
   "outputs": [
    {
     "name": "stdout",
     "output_type": "stream",
     "text": [
      "['Geeks', 'for', 'Geeks']\n"
     ]
    }
   ],
   "source": [
    "Var = [\"Geeks\", \"for\", \"Geeks\"]\n",
    "print(Var)"
   ]
  },
  {
   "cell_type": "code",
   "execution_count": 2,
   "id": "22e2d0af-03d5-4706-9c6d-1b32304ff173",
   "metadata": {},
   "outputs": [
    {
     "name": "stdout",
     "output_type": "stream",
     "text": [
      "Blank List: \n",
      "[]\n",
      "\n",
      "List of numbers: \n",
      "[10, 20, 14]\n",
      "\n",
      "List Items: \n",
      "Geeks\n",
      "Geeks\n"
     ]
    }
   ],
   "source": [
    "myList = []\n",
    "print(\"Blank List: \")\n",
    "print(myList)\n",
    "  \n",
    "# Creating a List of numbers\n",
    "myList = [10, 20, 14]\n",
    "print(\"\\nList of numbers: \")\n",
    "print(myList)\n",
    "  \n",
    "# Creating a List of strings and accessing\n",
    "# using index\n",
    "myList = [\"Geeks\", \"For\", \"Geeks\"]\n",
    "print(\"\\nList Items: \")\n",
    "print(myList[0])\n",
    "print(myList[2])"
   ]
  },
  {
   "cell_type": "code",
   "execution_count": 3,
   "id": "38e3d621-392a-4087-99bc-65ad8f061380",
   "metadata": {},
   "outputs": [
    {
     "name": "stdout",
     "output_type": "stream",
     "text": [
      "\n",
      "List with the use of Numbers: \n",
      "[1, 2, 4, 4, 3, 3, 3, 6, 5]\n",
      "\n",
      "List with the use of Mixed Values: \n",
      "[1, 2, 'Geeks', 4, 'For', 6, 'Geeks']\n"
     ]
    }
   ],
   "source": [
    "List = [1, 2, 4, 4, 3, 3, 3, 6, 5]\n",
    "print(\"\\nList with the use of Numbers: \")\n",
    "print(List)\n",
    "  \n",
    "# Creating a List with\n",
    "# mixed type of values\n",
    "# (Having numbers and strings)\n",
    "List = [1, 2, 'Geeks', 4, 'For', 6, 'Geeks']\n",
    "print(\"\\nList with the use of Mixed Values: \")\n",
    "print(List)"
   ]
  },
  {
   "cell_type": "code",
   "execution_count": 4,
   "id": "98633018-dfa8-4faf-a21a-2585406632a4",
   "metadata": {},
   "outputs": [
    {
     "name": "stdout",
     "output_type": "stream",
     "text": [
      "Accessing a element from a Multi-Dimensional list\n",
      "For\n",
      "Geeks\n"
     ]
    }
   ],
   "source": [
    "List = [['Geeks', 'For'], ['Geeks']]\n",
    "  \n",
    "# accessing an element from the\n",
    "# Multi-Dimensional List using\n",
    "# index number\n",
    "print(\"Accessing a element from a Multi-Dimensional list\")\n",
    "print(List[0][1])\n",
    "print(List[1][0])"
   ]
  },
  {
   "cell_type": "code",
   "execution_count": 5,
   "id": "4dca1d31-1f30-4e73-8adb-16d3f6c4989c",
   "metadata": {},
   "outputs": [
    {
     "name": "stdout",
     "output_type": "stream",
     "text": [
      "Accessing element using negative indexing\n",
      "Geeks\n",
      "For\n"
     ]
    }
   ],
   "source": [
    "List = [1, 2, 'Geeks', 4, 'For', 6, 'Geeks']\n",
    "  \n",
    "# accessing an element using\n",
    "# negative indexing\n",
    "print(\"Accessing element using negative indexing\")\n",
    "  \n",
    "# print the last element of list\n",
    "print(List[-1])\n",
    "  \n",
    "# print the third last element of list\n",
    "print(List[-3])"
   ]
  },
  {
   "cell_type": "code",
   "execution_count": 6,
   "id": "1e05401e-32c9-4554-b5f7-3e6becad66f2",
   "metadata": {},
   "outputs": [
    {
     "name": "stdout",
     "output_type": "stream",
     "text": [
      "0\n",
      "3\n"
     ]
    }
   ],
   "source": [
    "List1 = []\n",
    "print(len(List1))\n",
    "  \n",
    "# Creating a List of numbers\n",
    "List2 = [10, 20, 14]\n",
    "print(len(List2))"
   ]
  },
  {
   "cell_type": "code",
   "execution_count": 7,
   "id": "b203fd95-53a5-4db9-bc85-813f0d17876e",
   "metadata": {},
   "outputs": [
    {
     "name": "stdin",
     "output_type": "stream",
     "text": [
      "Enter elements (Space-Separated):  abc\n"
     ]
    },
    {
     "name": "stdout",
     "output_type": "stream",
     "text": [
      "The list is: ['abc']\n"
     ]
    }
   ],
   "source": [
    "string = input(\"Enter elements (Space-Separated): \")\n",
    "  \n",
    "# split the strings and store it to a list\n",
    "lst = string.split()  \n",
    "print('The list is:', lst)"
   ]
  },
  {
   "cell_type": "code",
   "execution_count": 8,
   "id": "00b247d7-8ca6-4d48-babf-dd45a149be97",
   "metadata": {},
   "outputs": [
    {
     "name": "stdin",
     "output_type": "stream",
     "text": [
      "Enter the size of list :  4\n",
      "Enter the integerelements: 1 5 8 2\n"
     ]
    },
    {
     "name": "stdout",
     "output_type": "stream",
     "text": [
      "The list is: [1, 5, 8, 2]\n"
     ]
    }
   ],
   "source": [
    "n = int(input(\"Enter the size of list : \"))\n",
    "# store integers in a list using map,\n",
    "# split and strip functions\n",
    "lst = list(map(int, input(\"Enter the integer\\\n",
    "elements:\").strip().split()))[:n]\n",
    "  \n",
    "# printing the list\n",
    "print('The list is:', lst)"
   ]
  },
  {
   "cell_type": "code",
   "execution_count": 9,
   "id": "90bf5ddf-6e83-4c42-9ecb-e4b3d38532e0",
   "metadata": {},
   "outputs": [
    {
     "name": "stdout",
     "output_type": "stream",
     "text": [
      "Initial blank List: \n",
      "[]\n",
      "\n",
      "List after Addition of Three elements: \n",
      "[1, 2, 4]\n",
      "\n",
      "List after Addition of elements from 1-3: \n",
      "[1, 2, 4, 1, 2, 3]\n",
      "\n",
      "List after Addition of a Tuple: \n",
      "[1, 2, 4, 1, 2, 3, (5, 6)]\n",
      "\n",
      "List after Addition of a List: \n",
      "[1, 2, 4, 1, 2, 3, (5, 6), ['For', 'Geeks']]\n"
     ]
    }
   ],
   "source": [
    "List = []\n",
    "print(\"Initial blank List: \")\n",
    "print(List)\n",
    "  \n",
    "# Addition of Elements\n",
    "# in the List\n",
    "List.append(1)\n",
    "List.append(2)\n",
    "List.append(4)\n",
    "print(\"\\nList after Addition of Three elements: \")\n",
    "print(List)\n",
    "  \n",
    "# Adding elements to the List\n",
    "# using Iterator\n",
    "for i in range(1, 4):\n",
    "    List.append(i)\n",
    "print(\"\\nList after Addition of elements from 1-3: \")\n",
    "print(List)\n",
    "  \n",
    "# Adding Tuples to the List\n",
    "List.append((5, 6))\n",
    "print(\"\\nList after Addition of a Tuple: \")\n",
    "print(List)\n",
    "  \n",
    "# Addition of List to a List\n",
    "List2 = ['For', 'Geeks']\n",
    "List.append(List2)\n",
    "print(\"\\nList after Addition of a List: \")\n",
    "print(List)"
   ]
  },
  {
   "cell_type": "code",
   "execution_count": 10,
   "id": "80f95b22-8272-4cd0-86d8-4f3194fa04ff",
   "metadata": {},
   "outputs": [
    {
     "name": "stdout",
     "output_type": "stream",
     "text": [
      "Initial List: \n",
      "[1, 2, 3, 4]\n",
      "\n",
      "List after performing Insert Operation: \n",
      "['Geeks', 1, 2, 3, 12, 4]\n"
     ]
    }
   ],
   "source": [
    "List = [1,2,3,4]\n",
    "print(\"Initial List: \")\n",
    "print(List)\n",
    "  \n",
    "# Addition of Element at \n",
    "# specific Position\n",
    "# (using Insert Method)\n",
    "List.insert(3, 12)\n",
    "List.insert(0, 'Geeks')\n",
    "print(\"\\nList after performing Insert Operation: \")\n",
    "print(List)"
   ]
  },
  {
   "cell_type": "code",
   "execution_count": 11,
   "id": "3fdc2c88-7fde-45ee-b14e-c4614a63f639",
   "metadata": {},
   "outputs": [
    {
     "name": "stdout",
     "output_type": "stream",
     "text": [
      "Initial List: \n",
      "[1, 2, 3, 4]\n",
      "\n",
      "List after performing Extend Operation: \n",
      "[1, 2, 3, 4, 8, 'Geeks', 'Always']\n"
     ]
    }
   ],
   "source": [
    "List = [1, 2, 3, 4]\n",
    "print(\"Initial List: \")\n",
    "print(List)\n",
    "  \n",
    "# Addition of multiple elements\n",
    "# to the List at the end\n",
    "# (using Extend Method)\n",
    "List.extend([8, 'Geeks', 'Always'])\n",
    "print(\"\\nList after performing Extend Operation: \")\n",
    "print(List)"
   ]
  },
  {
   "cell_type": "code",
   "execution_count": 12,
   "id": "9a8c15d6-e1e7-4859-af97-7a00a9119513",
   "metadata": {},
   "outputs": [
    {
     "name": "stdout",
     "output_type": "stream",
     "text": [
      "['Python', 'Geek', 5, 4, 3, 2, 1]\n"
     ]
    }
   ],
   "source": [
    "mylist = [1, 2, 3, 4, 5, 'Geek', 'Python']\n",
    "mylist.reverse()\n",
    "print(mylist)"
   ]
  },
  {
   "cell_type": "code",
   "execution_count": 13,
   "id": "e929714a-b915-4cad-b39c-471c6248159c",
   "metadata": {},
   "outputs": [
    {
     "name": "stdout",
     "output_type": "stream",
     "text": [
      "Initial List: \n",
      "[1, 2, 3, 4, 5, 6, 7, 8, 9, 10, 11, 12]\n",
      "\n",
      "List after Removal of two elements: \n",
      "[1, 2, 3, 4, 7, 8, 9, 10, 11, 12]\n"
     ]
    }
   ],
   "source": [
    "List = [1, 2, 3, 4, 5, 6,\n",
    "        7, 8, 9, 10, 11, 12]\n",
    "print(\"Initial List: \")\n",
    "print(List)\n",
    "  \n",
    "# Removing elements from List\n",
    "# using Remove() method\n",
    "List.remove(5)\n",
    "List.remove(6)\n",
    "print(\"\\nList after Removal of two elements: \")\n",
    "print(List)"
   ]
  },
  {
   "cell_type": "code",
   "execution_count": 14,
   "id": "0930102e-9f9a-4773-aef4-c4f7b08b3970",
   "metadata": {},
   "outputs": [
    {
     "name": "stdout",
     "output_type": "stream",
     "text": [
      "\n",
      "List after Removing a range of elements: \n",
      "[5, 6, 7, 8, 9, 10, 11, 12]\n"
     ]
    }
   ],
   "source": [
    "List = [1, 2, 3, 4, 5, 6,\n",
    "        7, 8, 9, 10, 11, 12]\n",
    "# Removing elements from List\n",
    "# using iterator method\n",
    "for i in range(1, 5):\n",
    "    List.remove(i)\n",
    "print(\"\\nList after Removing a range of elements: \")\n",
    "print(List)"
   ]
  },
  {
   "cell_type": "code",
   "execution_count": 15,
   "id": "7d60906e-5207-49cf-b82a-3258471f6510",
   "metadata": {},
   "outputs": [
    {
     "name": "stdout",
     "output_type": "stream",
     "text": [
      "\n",
      "List after popping an element: \n",
      "[1, 2, 3, 4]\n",
      "\n",
      "List after popping a specific element: \n",
      "[1, 2, 4]\n"
     ]
    }
   ],
   "source": [
    "List = [1, 2, 3, 4, 5]\n",
    "  \n",
    "# Removing element from the\n",
    "# Set using the pop() method\n",
    "List.pop()\n",
    "print(\"\\nList after popping an element: \")\n",
    "print(List)\n",
    "  \n",
    "# Removing element at a\n",
    "# specific location from the\n",
    "# Set using the pop() method\n",
    "List.pop(2)\n",
    "print(\"\\nList after popping a specific element: \")\n",
    "print(List)"
   ]
  },
  {
   "cell_type": "code",
   "execution_count": 16,
   "id": "8c98d26a-d61e-4727-a7a7-370caf530ac3",
   "metadata": {},
   "outputs": [
    {
     "name": "stdout",
     "output_type": "stream",
     "text": [
      "Initial List: \n",
      "['G', 'E', 'E', 'K', 'S', 'F', 'O', 'R', 'G', 'E', 'E', 'K', 'S']\n",
      "\n",
      "Slicing elements in a range 3-8: \n",
      "['K', 'S', 'F', 'O', 'R']\n",
      "\n",
      "Elements sliced from 5th element till the end: \n",
      "['F', 'O', 'R', 'G', 'E', 'E', 'K', 'S']\n",
      "\n",
      "Printing all elements using slice operation: \n",
      "['G', 'E', 'E', 'K', 'S', 'F', 'O', 'R', 'G', 'E', 'E', 'K', 'S']\n"
     ]
    }
   ],
   "source": [
    "List = ['G', 'E', 'E', 'K', 'S', 'F',\n",
    "        'O', 'R', 'G', 'E', 'E', 'K', 'S']\n",
    "print(\"Initial List: \")\n",
    "print(List)\n",
    "  \n",
    "# Print elements of a range\n",
    "# using Slice operation\n",
    "Sliced_List = List[3:8]\n",
    "print(\"\\nSlicing elements in a range 3-8: \")\n",
    "print(Sliced_List)\n",
    "  \n",
    "# Print elements from a\n",
    "# pre-defined point to end\n",
    "Sliced_List = List[5:]\n",
    "print(\"\\nElements sliced from 5th \"\n",
    "      \"element till the end: \")\n",
    "print(Sliced_List)\n",
    "  \n",
    "# Printing elements from\n",
    "# beginning till end\n",
    "Sliced_List = List[:]\n",
    "print(\"\\nPrinting all elements using slice operation: \")\n",
    "print(Sliced_List)"
   ]
  },
  {
   "cell_type": "code",
   "execution_count": 17,
   "id": "816ca4a5-f2c3-4cd8-9bd2-f58e99dfc9d3",
   "metadata": {},
   "outputs": [
    {
     "name": "stdout",
     "output_type": "stream",
     "text": [
      "Initial List: \n",
      "['G', 'E', 'E', 'K', 'S', 'F', 'O', 'R', 'G', 'E', 'E', 'K', 'S']\n",
      "\n",
      "Elements sliced till 6th element from last: \n",
      "['G', 'E', 'E', 'K', 'S', 'F', 'O']\n",
      "\n",
      "Elements sliced from index -6 to -1\n",
      "['R', 'G', 'E', 'E', 'K']\n",
      "\n",
      "Printing List in reverse: \n",
      "['S', 'K', 'E', 'E', 'G', 'R', 'O', 'F', 'S', 'K', 'E', 'E', 'G']\n"
     ]
    }
   ],
   "source": [
    "List = ['G', 'E', 'E', 'K', 'S', 'F',\n",
    "        'O', 'R', 'G', 'E', 'E', 'K', 'S']\n",
    "print(\"Initial List: \")\n",
    "print(List)\n",
    "  \n",
    "# Print elements from beginning\n",
    "# to a pre-defined point using Slice\n",
    "Sliced_List = List[:-6]\n",
    "print(\"\\nElements sliced till 6th element from last: \")\n",
    "print(Sliced_List)\n",
    "  \n",
    "# Print elements of a range\n",
    "# using negative index List slicing\n",
    "Sliced_List = List[-6:-1]\n",
    "print(\"\\nElements sliced from index -6 to -1\")\n",
    "print(Sliced_List)\n",
    "  \n",
    "# Printing elements in reverse\n",
    "# using Slice operation\n",
    "Sliced_List = List[::-1]\n",
    "print(\"\\nPrinting List in reverse: \")\n",
    "print(Sliced_List)"
   ]
  },
  {
   "cell_type": "code",
   "execution_count": 18,
   "id": "185a97e2-2978-438b-90c8-b562f9643e2e",
   "metadata": {},
   "outputs": [
    {
     "name": "stdout",
     "output_type": "stream",
     "text": [
      "[1, 9, 25, 49, 81]\n"
     ]
    }
   ],
   "source": [
    "odd_square = [x ** 2 for x in range(1, 11) if x % 2 == 1]\n",
    "print(odd_square)"
   ]
  },
  {
   "cell_type": "code",
   "execution_count": 19,
   "id": "32e0ffea-4031-41d7-a5b3-c00aa8579c7c",
   "metadata": {},
   "outputs": [
    {
     "name": "stdout",
     "output_type": "stream",
     "text": [
      "[1, 9, 25, 49, 81]\n"
     ]
    }
   ],
   "source": [
    "odd_square = []\n",
    "  \n",
    "for x in range(1, 11):\n",
    "    if x % 2 == 1:\n",
    "        odd_square.append(x**2)\n",
    "  \n",
    "print(odd_square)"
   ]
  },
  {
   "cell_type": "code",
   "execution_count": 20,
   "id": "0118b727-5a31-4e39-aa5b-d0c332212dd2",
   "metadata": {},
   "outputs": [
    {
     "name": "stdout",
     "output_type": "stream",
     "text": [
      "<class 'list'>\n"
     ]
    }
   ],
   "source": [
    "mylist = [\"apple\", \"banana\", \"cherry\"]\n",
    "print(type(mylist))"
   ]
  },
  {
   "cell_type": "code",
   "execution_count": 21,
   "id": "d5bd1ef1-438c-40fa-94ea-bdc5f77864cc",
   "metadata": {},
   "outputs": [
    {
     "name": "stdout",
     "output_type": "stream",
     "text": [
      "['cherry', 'orange', 'kiwi']\n"
     ]
    }
   ],
   "source": [
    "thislist = [\"apple\", \"banana\", \"cherry\", \"orange\", \"kiwi\", \"melon\", \"mango\"]\n",
    "print(thislist[2:5])"
   ]
  },
  {
   "cell_type": "code",
   "execution_count": 22,
   "id": "111f6ba3-4b02-4223-a31b-65a1ab34e59f",
   "metadata": {},
   "outputs": [
    {
     "name": "stdout",
     "output_type": "stream",
     "text": [
      "Yes, 'apple' is in the fruits list\n"
     ]
    }
   ],
   "source": [
    "thislist = [\"apple\", \"banana\", \"cherry\"]\n",
    "if \"apple\" in thislist:\n",
    "  print(\"Yes, 'apple' is in the fruits list\")"
   ]
  },
  {
   "cell_type": "code",
   "execution_count": 23,
   "id": "252c8e09-1e7a-4b4d-a570-6548b1d40066",
   "metadata": {},
   "outputs": [
    {
     "name": "stdout",
     "output_type": "stream",
     "text": [
      "['apple', 'blackcurrant', 'cherry']\n"
     ]
    }
   ],
   "source": [
    "thislist = [\"apple\", \"banana\", \"cherry\"]\n",
    "thislist[1] = \"blackcurrant\"\n",
    "print(thislist)"
   ]
  },
  {
   "cell_type": "code",
   "execution_count": 24,
   "id": "ec3cec26-1a3b-4ce6-8171-7e597e7030de",
   "metadata": {},
   "outputs": [
    {
     "name": "stdout",
     "output_type": "stream",
     "text": [
      "['apple', 'blackcurrant', 'watermelon', 'orange', 'kiwi', 'mango']\n"
     ]
    }
   ],
   "source": [
    "thislist = [\"apple\", \"banana\", \"cherry\", \"orange\", \"kiwi\", \"mango\"]\n",
    "thislist[1:3] = [\"blackcurrant\", \"watermelon\"]\n",
    "print(thislist)"
   ]
  },
  {
   "cell_type": "code",
   "execution_count": 25,
   "id": "77c626ad-376e-4861-a15f-016acfab80bf",
   "metadata": {},
   "outputs": [
    {
     "name": "stdout",
     "output_type": "stream",
     "text": [
      "['apple', 'blackcurrant', 'watermelon', 'cherry']\n"
     ]
    }
   ],
   "source": [
    "thislist = [\"apple\", \"banana\", \"cherry\"]\n",
    "thislist[1:2] = [\"blackcurrant\", \"watermelon\"]\n",
    "print(thislist)"
   ]
  },
  {
   "cell_type": "code",
   "execution_count": 26,
   "id": "109d9fc5-c512-4b9c-924a-53d62b6b71a4",
   "metadata": {},
   "outputs": [
    {
     "name": "stdout",
     "output_type": "stream",
     "text": [
      "['apple', 'watermelon']\n"
     ]
    }
   ],
   "source": [
    "thislist = [\"apple\", \"banana\", \"cherry\"]\n",
    "thislist[1:3] = [\"watermelon\"]\n",
    "print(thislist)"
   ]
  },
  {
   "cell_type": "code",
   "execution_count": 27,
   "id": "55abd197-d6e2-4f9c-9794-4553482be2e7",
   "metadata": {},
   "outputs": [
    {
     "name": "stdout",
     "output_type": "stream",
     "text": [
      "['apple', 'banana', 'watermelon', 'cherry']\n"
     ]
    }
   ],
   "source": [
    "thislist = [\"apple\", \"banana\", \"cherry\"]\n",
    "thislist.insert(2, \"watermelon\")\n",
    "print(thislist)"
   ]
  },
  {
   "cell_type": "code",
   "execution_count": 28,
   "id": "5a7e2447-820f-4dd2-9fe3-bc6418b153db",
   "metadata": {},
   "outputs": [
    {
     "name": "stdout",
     "output_type": "stream",
     "text": [
      "['apple', 'banana', 'cherry', 'mango', 'pineapple', 'papaya']\n"
     ]
    }
   ],
   "source": [
    "thislist = [\"apple\", \"banana\", \"cherry\"]\n",
    "tropical = [\"mango\", \"pineapple\", \"papaya\"]\n",
    "thislist.extend(tropical)\n",
    "print(thislist)"
   ]
  },
  {
   "cell_type": "code",
   "execution_count": 29,
   "id": "ac1a6874-bbf8-435f-a67c-0968e5f773e5",
   "metadata": {},
   "outputs": [
    {
     "name": "stdout",
     "output_type": "stream",
     "text": [
      "['apple', 'banana', 'cherry', 'kiwi', 'orange']\n"
     ]
    }
   ],
   "source": [
    "thislist = [\"apple\", \"banana\", \"cherry\"]\n",
    "thistuple = (\"kiwi\", \"orange\")\n",
    "thislist.extend(thistuple)\n",
    "print(thislist)"
   ]
  },
  {
   "cell_type": "code",
   "execution_count": 30,
   "id": "6922ecbe-6073-440f-9a1c-5957c6ae3d9f",
   "metadata": {},
   "outputs": [
    {
     "name": "stdout",
     "output_type": "stream",
     "text": [
      "['apple', 'cherry']\n"
     ]
    }
   ],
   "source": [
    "thislist = [\"apple\", \"banana\", \"cherry\"]\n",
    "thislist.remove(\"banana\")\n",
    "print(thislist)"
   ]
  },
  {
   "cell_type": "code",
   "execution_count": 31,
   "id": "5665cccb-8ce3-465b-8e66-8e4dc7ec76cf",
   "metadata": {},
   "outputs": [
    {
     "name": "stdout",
     "output_type": "stream",
     "text": [
      "['apple', 'banana']\n"
     ]
    }
   ],
   "source": [
    "thislist = [\"apple\", \"banana\", \"cherry\"]\n",
    "thislist.pop()\n",
    "print(thislist)"
   ]
  },
  {
   "cell_type": "code",
   "execution_count": 32,
   "id": "6e8f4833-41c0-43c0-b3e0-3d2c683f00ef",
   "metadata": {},
   "outputs": [
    {
     "name": "stdout",
     "output_type": "stream",
     "text": [
      "['banana', 'cherry']\n"
     ]
    }
   ],
   "source": [
    "thislist = [\"apple\", \"banana\", \"cherry\"]\n",
    "del thislist[0]\n",
    "print(thislist)"
   ]
  },
  {
   "cell_type": "code",
   "execution_count": 33,
   "id": "956ce73b-4c31-46a8-a257-267149954689",
   "metadata": {},
   "outputs": [],
   "source": [
    "thislist = [\"apple\", \"banana\", \"cherry\"]\n",
    "del thislist"
   ]
  },
  {
   "cell_type": "code",
   "execution_count": 34,
   "id": "f84bc78e-4dd4-48f3-8995-8236ffd6632a",
   "metadata": {},
   "outputs": [
    {
     "name": "stdout",
     "output_type": "stream",
     "text": [
      "[]\n"
     ]
    }
   ],
   "source": [
    "thislist = [\"apple\", \"banana\", \"cherry\"]\n",
    "thislist.clear()\n",
    "print(thislist)"
   ]
  },
  {
   "cell_type": "code",
   "execution_count": 35,
   "id": "9d32039a-7cd9-4e9e-abee-705a02a9cc90",
   "metadata": {},
   "outputs": [
    {
     "name": "stdout",
     "output_type": "stream",
     "text": [
      "apple\n",
      "banana\n",
      "cherry\n"
     ]
    }
   ],
   "source": [
    "thislist = [\"apple\", \"banana\", \"cherry\"]\n",
    "for i in range(len(thislist)):\n",
    "  print(thislist[i])"
   ]
  },
  {
   "cell_type": "code",
   "execution_count": 36,
   "id": "b733ce73-7a6d-4917-ae29-038a5e339786",
   "metadata": {
    "scrolled": true
   },
   "outputs": [
    {
     "name": "stdout",
     "output_type": "stream",
     "text": [
      "apple\n",
      "banana\n",
      "cherry\n"
     ]
    }
   ],
   "source": [
    "thislist = [\"apple\", \"banana\", \"cherry\"]\n",
    "i = 0\n",
    "while i < len(thislist):\n",
    "  print(thislist[i])\n",
    "  i = i + 1"
   ]
  },
  {
   "cell_type": "code",
   "execution_count": 38,
   "id": "0300b499-b7e2-4b87-9632-c4e2b158ba35",
   "metadata": {},
   "outputs": [
    {
     "name": "stdout",
     "output_type": "stream",
     "text": [
      "apple\n",
      "banana\n",
      "cherry\n"
     ]
    },
    {
     "data": {
      "text/plain": [
       "[None, None, None]"
      ]
     },
     "execution_count": 38,
     "metadata": {},
     "output_type": "execute_result"
    }
   ],
   "source": [
    "thislist = [\"apple\", \"banana\", \"cherry\"]\n",
    "[print(x) for x in thislist]"
   ]
  },
  {
   "cell_type": "code",
   "execution_count": 39,
   "id": "5406b242-045c-462e-b255-bde1ab8b41a8",
   "metadata": {},
   "outputs": [
    {
     "name": "stdout",
     "output_type": "stream",
     "text": [
      "['apple', 'banana', 'mango']\n"
     ]
    }
   ],
   "source": [
    "fruits = [\"apple\", \"banana\", \"cherry\", \"kiwi\", \"mango\"]\n",
    "newlist = []\n",
    "\n",
    "for x in fruits:\n",
    "  if \"a\" in x:\n",
    "    newlist.append(x)\n",
    "\n",
    "print(newlist)"
   ]
  },
  {
   "cell_type": "code",
   "execution_count": 40,
   "id": "129b4379-8aa8-4449-926e-86a496ddb66f",
   "metadata": {},
   "outputs": [
    {
     "name": "stdout",
     "output_type": "stream",
     "text": [
      "['apple', 'banana', 'mango']\n"
     ]
    }
   ],
   "source": [
    "fruits = [\"apple\", \"banana\", \"cherry\", \"kiwi\", \"mango\"]\n",
    "\n",
    "newlist = [x for x in fruits if \"a\" in x]\n",
    "\n",
    "print(newlist)"
   ]
  },
  {
   "cell_type": "code",
   "execution_count": 41,
   "id": "a1cde9fa-5da4-43bf-af70-56fa841fd174",
   "metadata": {},
   "outputs": [
    {
     "name": "stdout",
     "output_type": "stream",
     "text": [
      "[0, 1, 2, 3, 4, 5, 6, 7, 8, 9]\n"
     ]
    }
   ],
   "source": [
    "newlist = [x for x in range(10)]\n",
    "print(newlist)"
   ]
  },
  {
   "cell_type": "code",
   "execution_count": 43,
   "id": "e090c367-4a36-402d-a37c-44f36113ab8f",
   "metadata": {},
   "outputs": [
    {
     "name": "stdout",
     "output_type": "stream",
     "text": [
      "['APPLE', 'BANANA', 'CHERRY', 'KIWI', 'MANGO']\n"
     ]
    }
   ],
   "source": [
    "newlist = [x.upper() for x in fruits]\n",
    "print(newlist)"
   ]
  },
  {
   "cell_type": "code",
   "execution_count": 44,
   "id": "b3c51f8c-a63c-4d67-89db-755e1bda182f",
   "metadata": {},
   "outputs": [
    {
     "name": "stdout",
     "output_type": "stream",
     "text": [
      "['apple', 'orange', 'cherry', 'kiwi', 'mango']\n"
     ]
    }
   ],
   "source": [
    "fruits = [\"apple\", \"banana\", \"cherry\", \"kiwi\", \"mango\"]\n",
    "newlist = [x if x != \"banana\" else \"orange\" for x in fruits]\n",
    "print(newlist)"
   ]
  },
  {
   "cell_type": "code",
   "execution_count": 45,
   "id": "cfcbd210-6c54-4340-8cbf-c2f59db87151",
   "metadata": {},
   "outputs": [
    {
     "name": "stdout",
     "output_type": "stream",
     "text": [
      "['banana', 'kiwi', 'mango', 'orange', 'pineapple']\n"
     ]
    }
   ],
   "source": [
    "thislist = [\"orange\", \"mango\", \"kiwi\", \"pineapple\", \"banana\"]\n",
    "thislist.sort()\n",
    "print(thislist)"
   ]
  },
  {
   "cell_type": "code",
   "execution_count": 46,
   "id": "285aea28-87bf-4ad0-8ace-6bec4ec72bcf",
   "metadata": {},
   "outputs": [
    {
     "name": "stdout",
     "output_type": "stream",
     "text": [
      "['pineapple', 'orange', 'mango', 'kiwi', 'banana']\n"
     ]
    }
   ],
   "source": [
    "thislist = [\"orange\", \"mango\", \"kiwi\", \"pineapple\", \"banana\"]\n",
    "thislist.sort(reverse = True)\n",
    "print(thislist)"
   ]
  },
  {
   "cell_type": "code",
   "execution_count": 47,
   "id": "a66369fa-8482-4c05-a60e-a4ad2e228b0f",
   "metadata": {},
   "outputs": [
    {
     "name": "stdout",
     "output_type": "stream",
     "text": [
      "[50, 65, 23, 82, 100]\n"
     ]
    }
   ],
   "source": [
    "def myfunc(n):\n",
    "  return abs(n - 50)\n",
    "\n",
    "thislist = [100, 50, 65, 82, 23]\n",
    "thislist.sort(key = myfunc)\n",
    "print(thislist)"
   ]
  },
  {
   "cell_type": "code",
   "execution_count": 48,
   "id": "9a9dd595-f0a6-48cd-84dd-323e6e2a91a3",
   "metadata": {},
   "outputs": [
    {
     "name": "stdout",
     "output_type": "stream",
     "text": [
      "['Kiwi', 'Orange', 'banana', 'cherry']\n"
     ]
    }
   ],
   "source": [
    "thislist = [\"banana\", \"Orange\", \"Kiwi\", \"cherry\"]\n",
    "thislist.sort()\n",
    "print(thislist)"
   ]
  },
  {
   "cell_type": "code",
   "execution_count": 49,
   "id": "cbfb20de-1acd-4ef2-b085-1f336ad7f914",
   "metadata": {},
   "outputs": [
    {
     "name": "stdout",
     "output_type": "stream",
     "text": [
      "['banana', 'cherry', 'Kiwi', 'Orange']\n"
     ]
    }
   ],
   "source": [
    "thislist = [\"banana\", \"Orange\", \"Kiwi\", \"cherry\"]\n",
    "thislist.sort(key = str.lower)\n",
    "print(thislist)"
   ]
  },
  {
   "cell_type": "code",
   "execution_count": 50,
   "id": "904a38b5-68e0-40df-b643-125bd2ad162f",
   "metadata": {},
   "outputs": [
    {
     "name": "stdout",
     "output_type": "stream",
     "text": [
      "['cherry', 'Kiwi', 'Orange', 'banana']\n"
     ]
    }
   ],
   "source": [
    "thislist = [\"banana\", \"Orange\", \"Kiwi\", \"cherry\"]\n",
    "thislist.reverse()\n",
    "print(thislist)"
   ]
  },
  {
   "cell_type": "code",
   "execution_count": 51,
   "id": "ff0d015d-aae6-4a85-9087-6d684d9010c2",
   "metadata": {},
   "outputs": [
    {
     "name": "stdout",
     "output_type": "stream",
     "text": [
      "['apple', 'banana', 'cherry']\n"
     ]
    }
   ],
   "source": [
    "thislist = [\"apple\", \"banana\", \"cherry\"]\n",
    "mylist = list(thislist)\n",
    "#mylist = thislist.copy()\n",
    "print(mylist)"
   ]
  },
  {
   "cell_type": "code",
   "execution_count": 53,
   "id": "8df445a8-3d0d-48eb-b76b-65a589d1cd66",
   "metadata": {},
   "outputs": [
    {
     "name": "stdout",
     "output_type": "stream",
     "text": [
      "['a', 'b', 'c', 1, 2, 3]\n"
     ]
    }
   ],
   "source": [
    "list1 = [\"a\", \"b\", \"c\"]\n",
    "list2 = [1, 2, 3]\n",
    "\n",
    "list3 = list1 + list2\n",
    "print(list3)"
   ]
  },
  {
   "cell_type": "code",
   "execution_count": 56,
   "id": "5abadd88-b6b0-464a-8f5e-9d76d2ca6d53",
   "metadata": {},
   "outputs": [
    {
     "name": "stdout",
     "output_type": "stream",
     "text": [
      "False\n"
     ]
    }
   ],
   "source": [
    "def isEmpty(currlist):\n",
    "    return currlist == []\n",
    "\n",
    "mylist = [1, 2, 3, 4, 5]\n",
    "print(isEmpty(mylist))"
   ]
  },
  {
   "cell_type": "code",
   "execution_count": null,
   "id": "89c3b90e-3652-496b-8404-976dc5407de3",
   "metadata": {},
   "outputs": [],
   "source": []
  }
 ],
 "metadata": {
  "kernelspec": {
   "display_name": "Python 3 (ipykernel)",
   "language": "python",
   "name": "python3"
  },
  "language_info": {
   "codemirror_mode": {
    "name": "ipython",
    "version": 3
   },
   "file_extension": ".py",
   "mimetype": "text/x-python",
   "name": "python",
   "nbconvert_exporter": "python",
   "pygments_lexer": "ipython3",
   "version": "3.11.4"
  }
 },
 "nbformat": 4,
 "nbformat_minor": 5
}
