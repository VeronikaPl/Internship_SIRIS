{
 "cells": [
  {
   "cell_type": "code",
   "execution_count": 1,
   "id": "5272295b-d0d4-40dc-9654-e6183373d8f1",
   "metadata": {},
   "outputs": [
    {
     "name": "stdout",
     "output_type": "stream",
     "text": [
      "abcing\n",
      "stringly\n"
     ]
    }
   ],
   "source": [
    "'''\n",
    "6. Write a Python program to add 'ing' at the end of a given string (length should be at least 3). \n",
    "If the given string already ends with 'ing', add 'ly' instead. If the string length of the given string is less than 3, leave it unchanged.\n",
    "Sample String : 'abc'\n",
    "Expected Result : 'abcing'\n",
    "Sample String : 'string'\n",
    "Expected Result : 'stringly'\n",
    "'''\n",
    "\n",
    "def add_ing(str):\n",
    "    if len(str)<3:\n",
    "        return str\n",
    "    else:\n",
    "        if str[-3:] == 'ing':\n",
    "            str += 'ly'\n",
    "        else:\n",
    "            str += 'ing'\n",
    "        return str\n",
    "\n",
    "print(add_ing('abc'))\n",
    "print(add_ing('string'))"
   ]
  },
  {
   "cell_type": "code",
   "execution_count": null,
   "id": "acb16f56-6971-40fd-9d1d-dc02df27b9bc",
   "metadata": {},
   "outputs": [],
   "source": [
    "'''\n",
    "7. Write a Python program to find the first appearance of the substrings 'not' and 'poor' in a given string. \n",
    "If 'not' follows 'poor', replace the whole 'not'...'poor' substring with 'good'. Return the resulting string.\n",
    "Sample String : 'The lyrics is not that poor!'\n",
    "'The lyrics is poor!'\n",
    "Expected Result : 'The lyrics is good!'\n",
    "'The lyrics is poor!'\n",
    "'''\n",
    " def not_poor(str):\n",
    "     "
   ]
  },
  {
   "cell_type": "code",
   "execution_count": 3,
   "id": "7a7b9c24-d336-4661-b0db-9b77ae2213a5",
   "metadata": {},
   "outputs": [
    {
     "name": "stdout",
     "output_type": "stream",
     "text": [
      "Exercises\n",
      "9\n"
     ]
    }
   ],
   "source": [
    "'''\n",
    "8. Write a Python function that takes a list of words and return the longest word and the length of the longest one.\n",
    "Sample Output:\n",
    "Longest word: Exercises\n",
    "Length of the longest word: 9\n",
    "'''\n",
    "def find_longest_word(word_list):\n",
    "    word_len = []\n",
    "    for n in word_list:\n",
    "        word_len.append((len(n), n))\n",
    "    word_len.sort()\n",
    "    return word_len[-1][0], word_len[-1][1]\n",
    "\n",
    "result = find_longest_word([\"PHP\", \"Exercises\", \"Backend\"])\n",
    "print(result[1])\n",
    "print(result[0])"
   ]
  },
  {
   "cell_type": "code",
   "execution_count": 8,
   "id": "d6e93fd9-692a-4548-b28a-6636d19ad1ac",
   "metadata": {},
   "outputs": [
    {
     "name": "stdout",
     "output_type": "stream",
     "text": [
      "ywertq\n"
     ]
    }
   ],
   "source": [
    "'''\n",
    "10. Write a Python program to change a given string to a newly string where the first and last chars have been exchanged.\n",
    "'''\n",
    "\n",
    "def exchange(str):\n",
    "    return str[-1:] + str[1:-1] + str[:1]\n",
    "\n",
    "print(exchange('qwerty'))"
   ]
  },
  {
   "cell_type": "code",
   "execution_count": 11,
   "id": "a84efc73-5f0b-4bf4-aef6-67145eca8d73",
   "metadata": {},
   "outputs": [
    {
     "name": "stdout",
     "output_type": "stream",
     "text": [
      "ace\n"
     ]
    }
   ],
   "source": [
    "'''\n",
    "11. Write a Python program to remove characters that have odd index values in a given string.\n",
    "'''\n",
    "\n",
    "def remove_odd_index(str):\n",
    "    result = \"\"\n",
    "    for i in range(len(str)):\n",
    "        if i % 2 == 0:\n",
    "            result += str[i]\n",
    "    return result\n",
    "    \n",
    "print(remove_odd_index('abcde'))"
   ]
  },
  {
   "cell_type": "code",
   "execution_count": 15,
   "id": "59b888b4-61ff-4ca2-8689-f59ab77a6993",
   "metadata": {},
   "outputs": [
    {
     "name": "stdout",
     "output_type": "stream",
     "text": [
      "<i>Python</i>\n",
      "<b>Python Tutorial</b>\n"
     ]
    }
   ],
   "source": [
    "'''\n",
    "15. Write a Python function to create an HTML string with tags around the word(s).\n",
    "Sample function and result :\n",
    "add_tags('i', 'Python') -> '<i>Python</i>'\n",
    "add_tags('b', 'Python Tutorial') -> '<b>Python Tutorial </b>'\n",
    "'''\n",
    "\n",
    "def add_tags(tag, str):\n",
    "    return \"<{0}>{1}</{0}>\".format(tag, str)\n",
    "\n",
    "print(add_tags('i', 'Python'))\n",
    "print(add_tags('b', 'Python Tutorial'))"
   ]
  },
  {
   "cell_type": "code",
   "execution_count": 14,
   "id": "01a37737-ee7a-4f11-8bfe-dfd0b0b3893f",
   "metadata": {},
   "outputs": [
    {
     "name": "stdout",
     "output_type": "stream",
     "text": [
      "ipy\n",
      "pyt\n"
     ]
    }
   ],
   "source": [
    "'''\n",
    "18. Write a Python function to get a string made of the first three characters of a specified string. \n",
    "If the length of the string is less than 3, return the original string.\n",
    "Sample function and result :\n",
    "first_three('ipy') -> ipy\n",
    "first_three('python') -> pyt\n",
    "'''\n",
    "\n",
    "def first_three(str):\n",
    "    if len(str) <= 3:\n",
    "        return str\n",
    "    else:\n",
    "        return str[:3]\n",
    "\n",
    "print(first_three('ipy'))\n",
    "print(first_three('python'))"
   ]
  },
  {
   "cell_type": "code",
   "execution_count": 1,
   "id": "59f1b89d-59e0-4ad1-a3b8-70fed762d73a",
   "metadata": {},
   "outputs": [
    {
     "name": "stdout",
     "output_type": "stream",
     "text": [
      "5\n"
     ]
    }
   ],
   "source": [
    "'''\n",
    "1. Write a Python program to calculate the length of a string.\n",
    "'''\n",
    "def calc_len(str):\n",
    "    count = 0\n",
    "    for i in str:\n",
    "        count += 1\n",
    "    return count\n",
    "\n",
    "print(calc_len(\"hello\"))"
   ]
  },
  {
   "cell_type": "code",
   "execution_count": 6,
   "id": "7949e43a-da26-4806-903a-5d3a6d94d685",
   "metadata": {},
   "outputs": [
    {
     "name": "stdout",
     "output_type": "stream",
     "text": [
      "w3ce\n",
      "w3w3\n",
      " w w\n"
     ]
    }
   ],
   "source": [
    "'''\n",
    "3. Write a Python program to get a string made of the first 2 and last 2 characters of a given string. If the string length is less than 2, return the empty string instead.\n",
    "Sample String : 'w3resource'\n",
    "Expected Result : 'w3ce'\n",
    "Sample String : 'w3'\n",
    "Expected Result : 'w3w3'\n",
    "Sample String : ' w'\n",
    "Expected Result : Empty String\n",
    "'''\n",
    "def make_str(str):\n",
    "    newstr=\"\"\n",
    "    if len(str) < 2:\n",
    "        return \"\"\n",
    "    else:\n",
    "        newstr = str[0:2] + str[-2:]\n",
    "        return newstr\n",
    "\n",
    "print(make_str('w3resource'))\n",
    "print(make_str('w3'))\n",
    "print(make_str(' w'))"
   ]
  },
  {
   "cell_type": "code",
   "execution_count": 9,
   "id": "4b5d0afb-f96b-45de-bc18-80e02864dbac",
   "metadata": {},
   "outputs": [
    {
     "name": "stdout",
     "output_type": "stream",
     "text": [
      "bac yxz\n"
     ]
    }
   ],
   "source": [
    "'''\n",
    "5. Write a Python program to get a single string from two given strings, separated by a space and swap the first two characters of each string.\n",
    "Sample String : 'abc', 'xyz'\n",
    "Expected Result : 'xyc abz'\n",
    "'''\n",
    "def make_new(str1, str2):\n",
    "    mylist = list(str1)\n",
    "    a=mylist[0]\n",
    "    b=mylist[1]\n",
    "    mylist[0]=b\n",
    "    mylist[1]=a\n",
    "    str1=\"\".join(mylist)\n",
    "    \n",
    "    mylist=list(str2)\n",
    "    a=mylist[0]\n",
    "    b=mylist[1]\n",
    "    mylist[0]=b\n",
    "    mylist[1]=a\n",
    "    str2=\"\".join(mylist)\n",
    "    \n",
    "    return str1 + \" \" + str2\n",
    "\n",
    "print(make_new('abc', 'xyz'))"
   ]
  },
  {
   "cell_type": "code",
   "execution_count": null,
   "id": "cbc725fe-376d-476f-bc64-eda4ef1859eb",
   "metadata": {},
   "outputs": [],
   "source": []
  }
 ],
 "metadata": {
  "kernelspec": {
   "display_name": "Python 3 (ipykernel)",
   "language": "python",
   "name": "python3"
  },
  "language_info": {
   "codemirror_mode": {
    "name": "ipython",
    "version": 3
   },
   "file_extension": ".py",
   "mimetype": "text/x-python",
   "name": "python",
   "nbconvert_exporter": "python",
   "pygments_lexer": "ipython3",
   "version": "3.11.4"
  }
 },
 "nbformat": 4,
 "nbformat_minor": 5
}
