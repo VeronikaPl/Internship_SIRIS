{
 "cells": [
  {
   "cell_type": "code",
   "execution_count": 1,
   "id": "8e772bb1-aac7-4ca4-9b16-05a942ba0d6b",
   "metadata": {},
   "outputs": [
    {
     "name": "stdout",
     "output_type": "stream",
     "text": [
      "['Guess ', 'he ou', 'pu', ' of ', 'his code']\n"
     ]
    }
   ],
   "source": [
    "string='Guess the output of this code'\n",
    "\n",
    "print(string.split('t'))"
   ]
  },
  {
   "cell_type": "code",
   "execution_count": 5,
   "id": "607fc39e-29be-4862-800b-2f84431290c1",
   "metadata": {},
   "outputs": [
    {
     "name": "stdout",
     "output_type": "stream",
     "text": [
      "False\n",
      "False\n"
     ]
    }
   ],
   "source": [
    "string='Python'\n",
    "print(string.endswith(\"), end=\" \")\"))\n",
    "print(string.startswith(' '))"
   ]
  },
  {
   "cell_type": "code",
   "execution_count": 6,
   "id": "e6d85898-67cb-431a-ac82-810788bf2943",
   "metadata": {},
   "outputs": [
    {
     "name": "stdout",
     "output_type": "stream",
     "text": [
      "True\n"
     ]
    }
   ],
   "source": [
    "print('abc'>'aBc')"
   ]
  },
  {
   "cell_type": "code",
   "execution_count": 7,
   "id": "016e4eda-8896-46fe-8893-615e95775946",
   "metadata": {},
   "outputs": [
    {
     "name": "stdout",
     "output_type": "stream",
     "text": [
      "False\n"
     ]
    }
   ],
   "source": [
    "print('123334'>'2111')"
   ]
  },
  {
   "cell_type": "code",
   "execution_count": 8,
   "id": "4218d064-0ecf-4761-8568-6a0e9ebe0850",
   "metadata": {},
   "outputs": [
    {
     "name": "stdout",
     "output_type": "stream",
     "text": [
      "True\n"
     ]
    }
   ],
   "source": [
    "print('xyz'>'wxyz')"
   ]
  },
  {
   "cell_type": "code",
   "execution_count": 9,
   "id": "11ecdd2d-711f-43aa-a2fc-352d654ee510",
   "metadata": {},
   "outputs": [
    {
     "name": "stdout",
     "output_type": "stream",
     "text": [
      "True False\n"
     ]
    }
   ],
   "source": [
    "str1=str(1234)\n",
    "str2='1234'\n",
    "print(str1==str2,end=\" \")\n",
    "print(str1 is str2)"
   ]
  },
  {
   "cell_type": "code",
   "execution_count": 10,
   "id": "17eaa2f8-b3d3-4513-ab43-a716df02eb34",
   "metadata": {},
   "outputs": [
    {
     "name": "stdout",
     "output_type": "stream",
     "text": [
      "EFG\n"
     ]
    }
   ],
   "source": [
    "str1='abcdEFGhij'\n",
    "print(str1[4:7])"
   ]
  },
  {
   "cell_type": "code",
   "execution_count": 11,
   "id": "6563d102-ebd7-4857-94d8-2bcc98d5b29c",
   "metadata": {},
   "outputs": [
    {
     "name": "stdout",
     "output_type": "stream",
     "text": [
      "L*oo#frph#e|#wkhq1\n"
     ]
    }
   ],
   "source": [
    "line = \"I'll come by then.\"\n",
    "eline = \"\" \n",
    "for i in line: \n",
    "    eline += chr(ord(i)+3) \n",
    "print(eline) "
   ]
  },
  {
   "cell_type": "code",
   "execution_count": 12,
   "id": "7284d8f9-f867-42c9-9309-ef2bb5aebc46",
   "metadata": {},
   "outputs": [
    {
     "name": "stdout",
     "output_type": "stream",
     "text": [
      "geeksforgeeks\n"
     ]
    }
   ],
   "source": [
    "my_string = 'geeksforgeeks'\n",
    "for i in range(len(my_string)): \n",
    "    my_string[i].upper() \n",
    "print (my_string) "
   ]
  },
  {
   "cell_type": "code",
   "execution_count": 13,
   "id": "3cb2f343-6390-48a9-97ad-39da17f5ca02",
   "metadata": {},
   "outputs": [
    {
     "name": "stdout",
     "output_type": "stream",
     "text": [
      "geeksforgeeks a a a a a a a a a a a a "
     ]
    }
   ],
   "source": [
    "my_string = 'geeksforgeeks'\n",
    "for i in range(len(my_string)): \n",
    "    print (my_string, end=\" \") \n",
    "    my_string = 'a'"
   ]
  },
  {
   "cell_type": "code",
   "execution_count": 14,
   "id": "84da25d6-2518-49a0-b5a0-f472fdeffa17",
   "metadata": {},
   "outputs": [
    {
     "ename": "TypeError",
     "evalue": "'int' object is not iterable",
     "output_type": "error",
     "traceback": [
      "\u001b[1;31m---------------------------------------------------------------------------\u001b[0m",
      "\u001b[1;31mTypeError\u001b[0m                                 Traceback (most recent call last)",
      "Cell \u001b[1;32mIn[14], line 2\u001b[0m\n\u001b[0;32m      1\u001b[0m x \u001b[38;5;241m=\u001b[39m \u001b[38;5;241m123\u001b[39m\n\u001b[1;32m----> 2\u001b[0m \u001b[38;5;28;01mfor\u001b[39;00m i \u001b[38;5;129;01min\u001b[39;00m x: \n\u001b[0;32m      3\u001b[0m     \u001b[38;5;28mprint\u001b[39m(i, end\u001b[38;5;241m=\u001b[39m\u001b[38;5;124m\"\u001b[39m\u001b[38;5;124m \u001b[39m\u001b[38;5;124m\"\u001b[39m)\n",
      "\u001b[1;31mTypeError\u001b[0m: 'int' object is not iterable"
     ]
    }
   ],
   "source": [
    "x = 123\n",
    "for i in x: \n",
    "    print(i, end=\" \")"
   ]
  },
  {
   "cell_type": "code",
   "execution_count": 15,
   "id": "4236bebb-ba26-4734-b21f-5f729e812d26",
   "metadata": {},
   "outputs": [
    {
     "name": "stdout",
     "output_type": "stream",
     "text": [
      "C:\\inside C directory\n"
     ]
    }
   ],
   "source": [
    "print ('C:\\inside C directory')"
   ]
  },
  {
   "cell_type": "code",
   "execution_count": 16,
   "id": "3b82e518-3839-4121-884a-3f1269d69ee2",
   "metadata": {},
   "outputs": [
    {
     "name": "stdout",
     "output_type": "stream",
     "text": [
      "x25x26\n"
     ]
    }
   ],
   "source": [
    "print ('x25x26')"
   ]
  },
  {
   "cell_type": "code",
   "execution_count": 17,
   "id": "c63114a1-2d1d-4d06-a68a-0e51981b6260",
   "metadata": {},
   "outputs": [
    {
     "ename": "TypeError",
     "evalue": "can only concatenate str (not \"int\") to str",
     "output_type": "error",
     "traceback": [
      "\u001b[1;31m---------------------------------------------------------------------------\u001b[0m",
      "\u001b[1;31mTypeError\u001b[0m                                 Traceback (most recent call last)",
      "Cell \u001b[1;32mIn[17], line 5\u001b[0m\n\u001b[0;32m      1\u001b[0m a \u001b[38;5;241m=\u001b[39m \u001b[38;5;124m\"\u001b[39m\u001b[38;5;124mGeeksforGeeks \u001b[39m\u001b[38;5;124m\"\u001b[39m\n\u001b[0;32m      3\u001b[0m b \u001b[38;5;241m=\u001b[39m \u001b[38;5;241m13\u001b[39m\n\u001b[1;32m----> 5\u001b[0m \u001b[38;5;28mprint\u001b[39m (\u001b[43ma\u001b[49m\u001b[43m \u001b[49m\u001b[38;5;241;43m+\u001b[39;49m\u001b[43m \u001b[49m\u001b[43mb\u001b[49m)\n",
      "\u001b[1;31mTypeError\u001b[0m: can only concatenate str (not \"int\") to str"
     ]
    }
   ],
   "source": [
    "a = \"GeeksforGeeks \"\n",
    " \n",
    "b = 13\n",
    " \n",
    "print (a + b)"
   ]
  },
  {
   "cell_type": "code",
   "execution_count": 18,
   "id": "6cf3d197-572a-40e7-91a9-05369a446675",
   "metadata": {},
   "outputs": [
    {
     "name": "stdout",
     "output_type": "stream",
     "text": [
      "cool\n"
     ]
    }
   ],
   "source": [
    "def gfgFunction(): \n",
    "    \"Geeksforgeeks is cool website for boosting up technical skills\"\n",
    "    return 1\n",
    " \n",
    "print (gfgFunction.__doc__[17:21])"
   ]
  },
  {
   "cell_type": "code",
   "execution_count": 19,
   "id": "c3d801f1-1b3b-42e5-b830-561c1ce2efcf",
   "metadata": {},
   "outputs": [
    {
     "ename": "SyntaxError",
     "evalue": "Missing parentheses in call to 'print'. Did you mean print(...)? (1935801216.py, line 2)",
     "output_type": "error",
     "traceback": [
      "\u001b[1;36m  Cell \u001b[1;32mIn[19], line 2\u001b[1;36m\u001b[0m\n\u001b[1;33m    print a\u001b[0m\n\u001b[1;37m    ^\u001b[0m\n\u001b[1;31mSyntaxError\u001b[0m\u001b[1;31m:\u001b[0m Missing parentheses in call to 'print'. Did you mean print(...)?\n"
     ]
    }
   ],
   "source": [
    "a = \"This is a string\"\n",
    "print a "
   ]
  },
  {
   "cell_type": "code",
   "execution_count": 20,
   "id": "eca01b91-a4d1-4b43-a732-88221b8eaaf8",
   "metadata": {},
   "outputs": [
    {
     "name": "stdout",
     "output_type": "stream",
     "text": [
      "3\n"
     ]
    }
   ],
   "source": [
    "a = \"This is a string\"\n",
    "print(a.count(\"i\"))"
   ]
  },
  {
   "cell_type": "code",
   "execution_count": null,
   "id": "3a7e6b2b-6aa1-4732-8306-c725528d5fcf",
   "metadata": {},
   "outputs": [],
   "source": []
  }
 ],
 "metadata": {
  "kernelspec": {
   "display_name": "Python 3 (ipykernel)",
   "language": "python",
   "name": "python3"
  },
  "language_info": {
   "codemirror_mode": {
    "name": "ipython",
    "version": 3
   },
   "file_extension": ".py",
   "mimetype": "text/x-python",
   "name": "python",
   "nbconvert_exporter": "python",
   "pygments_lexer": "ipython3",
   "version": "3.11.4"
  }
 },
 "nbformat": 4,
 "nbformat_minor": 5
}
