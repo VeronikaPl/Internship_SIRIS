{
 "cells": [
  {
   "cell_type": "code",
   "execution_count": 1,
   "id": "7e05a339-0fef-47f7-b886-a20fe535f9a2",
   "metadata": {},
   "outputs": [
    {
     "name": "stdout",
     "output_type": "stream",
     "text": [
      "Subtraction is :  10\n"
     ]
    }
   ],
   "source": [
    "## This is a Sequential statement\n",
    " \n",
    "a=20\n",
    "b=10\n",
    "c=a-b\n",
    "print(\"Subtraction is : \",c)"
   ]
  },
  {
   "cell_type": "code",
   "execution_count": 2,
   "id": "0d06e03c-0dcb-4fa3-87ac-0bb958b5025f",
   "metadata": {},
   "outputs": [
    {
     "name": "stdout",
     "output_type": "stream",
     "text": [
      "n is an even number\n"
     ]
    }
   ],
   "source": [
    "n = 10\n",
    "if n % 2 == 0:\n",
    "   print(\"n is an even number\")"
   ]
  },
  {
   "cell_type": "code",
   "execution_count": 3,
   "id": "6f3bad59-be55-428d-a69f-8c5025d79cad",
   "metadata": {},
   "outputs": [
    {
     "name": "stdout",
     "output_type": "stream",
     "text": [
      "n is odd\n"
     ]
    }
   ],
   "source": [
    "n = 5\n",
    "if n % 2 == 0:\n",
    "   print(\"n is even\")\n",
    "else:\n",
    "   print(\"n is odd\")"
   ]
  },
  {
   "cell_type": "code",
   "execution_count": 4,
   "id": "eabba884-e2c8-4396-aa2a-357bb0436103",
   "metadata": {},
   "outputs": [
    {
     "name": "stdout",
     "output_type": "stream",
     "text": [
      "c is big\n"
     ]
    }
   ],
   "source": [
    "a = 5\n",
    "b = 10\n",
    "c = 15\n",
    "if a > b:\n",
    "   if a > c:\n",
    "      print(\"a value is big\")\n",
    "   else:\n",
    "       print(\"c value is big\")\n",
    "elif b > c:\n",
    "    print(\"b value is big\")\n",
    "else:\n",
    "     print(\"c is big\")"
   ]
  },
  {
   "cell_type": "code",
   "execution_count": 5,
   "id": "5f288b08-13e7-4054-ae6b-48e365dde78c",
   "metadata": {},
   "outputs": [
    {
     "name": "stdout",
     "output_type": "stream",
     "text": [
      "x is greater than y\n"
     ]
    }
   ],
   "source": [
    "x = 15\n",
    "y = 12\n",
    "if x == y:\n",
    "   print(\"Both are Equal\")\n",
    "elif x > y:\n",
    "    print(\"x is greater than y\")\n",
    "else:\n",
    "    print(\"x is smaller than y\")"
   ]
  },
  {
   "cell_type": "code",
   "execution_count": 6,
   "id": "7ca2c297-c750-49e2-a317-b887efd54b04",
   "metadata": {},
   "outputs": [
    {
     "name": "stdout",
     "output_type": "stream",
     "text": [
      "1st example\n",
      "1 \n",
      "2 \n",
      "3 \n",
      "2nd example\n",
      "0 \n",
      "1 \n",
      "2 \n",
      "3 \n",
      "4 \n"
     ]
    }
   ],
   "source": [
    "print(\"1st example\")\n",
    "\n",
    "lst = [1, 2, 3]\n",
    "for i in range(len(lst)):\n",
    "     print(lst[i], end = \" \\n\")\n",
    " \n",
    "print(\"2nd example\")\n",
    "\n",
    "for j in range(0,5):\n",
    "    print(j, end = \" \\n\")"
   ]
  },
  {
   "cell_type": "code",
   "execution_count": 7,
   "id": "10fdeafc-2420-4528-b08e-aee10c644086",
   "metadata": {},
   "outputs": [
    {
     "name": "stdout",
     "output_type": "stream",
     "text": [
      "0 1 2 3 4 End\n"
     ]
    }
   ],
   "source": [
    "m = 5\n",
    "i = 0\n",
    "while i < m:\n",
    "     print(i, end = \" \")\n",
    "     i = i + 1\n",
    "print(\"End\")"
   ]
  },
  {
   "cell_type": "code",
   "execution_count": 8,
   "id": "f3305fad-7a68-48b3-ad40-f05ede66deaa",
   "metadata": {},
   "outputs": [
    {
     "name": "stdout",
     "output_type": "stream",
     "text": [
      "Hi, Debora\n",
      "You are not George\n"
     ]
    }
   ],
   "source": [
    "name = 'Debora'\n",
    "\n",
    "if name == 'Debora':\n",
    "    print('Hi, Debora')\n",
    "\n",
    "if name != 'George':\n",
    "    print('You are not George')"
   ]
  },
  {
   "cell_type": "code",
   "execution_count": 11,
   "id": "0806fa4f-71ca-497b-af75-3337bdadb7e8",
   "metadata": {},
   "outputs": [
    {
     "name": "stdout",
     "output_type": "stream",
     "text": [
      "Who are you?\n"
     ]
    }
   ],
   "source": [
    "name = 'Antony'\n",
    "\n",
    "if name == 'Debora':\n",
    "    print('Hi Debora!')\n",
    "elif name == 'George':\n",
    "    print('Hi George!')\n",
    "else:\n",
    "    print('Who are you?')"
   ]
  },
  {
   "cell_type": "code",
   "execution_count": 12,
   "id": "e5c97a47-54b8-4a44-96ee-83397deaa634",
   "metadata": {},
   "outputs": [
    {
     "name": "stdout",
     "output_type": "stream",
     "text": [
      "kid\n",
      "kid\n"
     ]
    }
   ],
   "source": [
    "age = 15\n",
    "\n",
    "if age < 18:\n",
    "    print('kid')\n",
    "else:\n",
    "    print('adult')\n",
    "    \n",
    "print('kid' if age < 18 else 'adult')"
   ]
  },
  {
   "cell_type": "code",
   "execution_count": 13,
   "id": "19edd41c-b69b-478f-bd5f-dac4cb76f444",
   "metadata": {},
   "outputs": [
    {
     "name": "stdout",
     "output_type": "stream",
     "text": [
      "teen\n",
      "teen\n"
     ]
    }
   ],
   "source": [
    "age = 15\n",
    "\n",
    "print('kid' if age < 13 else 'teen' if age < 18 else 'adult')\n",
    "\n",
    "if age < 18:\n",
    "     if age < 13:\n",
    "         print('kid')\n",
    "     else:\n",
    "         print('teen')\n",
    "else:\n",
    "     print('adult')"
   ]
  },
  {
   "cell_type": "code",
   "execution_count": 17,
   "id": "4dbe2b35-181c-443f-ad0d-9d80c333acee",
   "metadata": {},
   "outputs": [
    {
     "name": "stdout",
     "output_type": "stream",
     "text": [
      "Created\n"
     ]
    }
   ],
   "source": [
    "response_code = 201\n",
    "match response_code:\n",
    "     case 200:\n",
    "         print(\"OK\")\n",
    "     case 201:\n",
    "         print(\"Created\")\n",
    "     case 300:\n",
    "         print(\"Multiple Choices\")\n",
    "     case 307:\n",
    "         print(\"Temporary Redirect\")\n",
    "     case 404:\n",
    "         print(\"404 Not Found\")\n",
    "     case 500:\n",
    "         print(\"Internal Server Error\")\n",
    "     case 502:\n",
    "         print(\"502 Bad Gateway\")"
   ]
  },
  {
   "cell_type": "code",
   "execution_count": 18,
   "id": "66d04a9d-16f6-4849-b525-92cd22ba6a12",
   "metadata": {},
   "outputs": [
    {
     "name": "stdout",
     "output_type": "stream",
     "text": [
      "Internal Server Error\n"
     ]
    }
   ],
   "source": [
    "response_code = 502\n",
    "match response_code:\n",
    "    case 200 | 201:\n",
    "        print(\"OK\")\n",
    "    case 300 | 307:\n",
    "        print(\"Redirect\")\n",
    "    case 400 | 401:\n",
    "        print(\"Bad Request\")\n",
    "    case 500 | 502:\n",
    "        print(\"Internal Server Error\")"
   ]
  },
  {
   "cell_type": "code",
   "execution_count": 19,
   "id": "d7eeee40-9bd5-4657-8fb0-d9a439d473ac",
   "metadata": {},
   "outputs": [
    {
     "name": "stdout",
     "output_type": "stream",
     "text": [
      "All responses: 200, 300, [404, 500]\n"
     ]
    }
   ],
   "source": [
    "today_responses = [200, 300, 404, 500]\n",
    "match today_responses:\n",
    "    case [a]:\n",
    "            print(f\"One response today: {a}\")\n",
    "    case [a, b]:\n",
    "            print(f\"Two responses today: {a} and {b}\")\n",
    "    case [a, b, *rest]:\n",
    "            print(f\"All responses: {a}, {b}, {rest}\")"
   ]
  },
  {
   "cell_type": "code",
   "execution_count": 20,
   "id": "b726a14e-b58f-4eca-8b7f-44c94fba6806",
   "metadata": {},
   "outputs": [
    {
     "name": "stdout",
     "output_type": "stream",
     "text": [
      "Invalid Code\n"
     ]
    }
   ],
   "source": [
    "response_code = 800\n",
    "match response_code:\n",
    "    case 200 | 201:\n",
    "        print(\"OK\")\n",
    "    case 300 | 307:\n",
    "        print(\"Redirect\")\n",
    "    case 400 | 401:\n",
    "        print(\"Bad Request\")\n",
    "    case 500 | 502:\n",
    "        print(\"Internal Server Error\")\n",
    "    case _:\n",
    "        print(\"Invalid Code\")"
   ]
  },
  {
   "cell_type": "code",
   "execution_count": 21,
   "id": "e645e07a-f99f-4e9d-a06f-6cfe61821519",
   "metadata": {},
   "outputs": [
    {
     "name": "stdout",
     "output_type": "stream",
     "text": [
      "Code is a string\n"
     ]
    }
   ],
   "source": [
    "response_code = \"300\"\n",
    "match response_code:\n",
    "    case int():\n",
    "            print('Code is a number')\n",
    "    case str():\n",
    "            print('Code is a string')\n",
    "    case _:\n",
    "            print('Code is neither a string nor a number')"
   ]
  },
  {
   "cell_type": "code",
   "execution_count": 22,
   "id": "5720d176-e11f-4d93-8b5f-1b4e40db066d",
   "metadata": {},
   "outputs": [
    {
     "name": "stdout",
     "output_type": "stream",
     "text": [
      "Code is a valid number\n"
     ]
    }
   ],
   "source": [
    "response_code = 300\n",
    "match response_code:\n",
    "    case int():\n",
    "            if response_code > 99 and response_code < 500:\n",
    "                print('Code is a valid number')\n",
    "    case _:\n",
    "            print('Code is an invalid number')"
   ]
  },
  {
   "cell_type": "code",
   "execution_count": 23,
   "id": "af85f647-80d7-4a83-ae08-6b0f6c1c6e20",
   "metadata": {},
   "outputs": [
    {
     "name": "stdout",
     "output_type": "stream",
     "text": [
      "Hello, world.\n",
      "Hello, world.\n",
      "Hello, world.\n",
      "Hello, world.\n",
      "Hello, world.\n"
     ]
    }
   ],
   "source": [
    "spam = 0\n",
    "while spam < 5:\n",
    "    print('Hello, world.')\n",
    "    spam = spam + 1"
   ]
  },
  {
   "cell_type": "code",
   "execution_count": 24,
   "id": "aa035555-419a-4768-870d-9bb833093466",
   "metadata": {},
   "outputs": [
    {
     "name": "stdin",
     "output_type": "stream",
     "text": [
      "Please type your name:  roni\n",
      "Please type your name:  your name\n"
     ]
    },
    {
     "name": "stdout",
     "output_type": "stream",
     "text": [
      "Thank you!\n"
     ]
    }
   ],
   "source": [
    "while True:\n",
    "    name = input('Please type your name: ')\n",
    "    if name == 'your name':\n",
    "        break\n",
    "print('Thank you!')"
   ]
  },
  {
   "cell_type": "code",
   "execution_count": 25,
   "id": "3da4d557-dee8-4d82-8e14-c590f2f67f1e",
   "metadata": {},
   "outputs": [
    {
     "name": "stdin",
     "output_type": "stream",
     "text": [
      "Who are you?  Joe\n",
      "Password? (It is a fish.):  swordfish\n"
     ]
    },
    {
     "name": "stdout",
     "output_type": "stream",
     "text": [
      "Access granted.\n"
     ]
    }
   ],
   "source": [
    "while True:\n",
    "    name = input('Who are you? ')\n",
    "    if name != 'Joe':\n",
    "        continue\n",
    "    password = input('Password? (It is a fish.): ')\n",
    "    if password == 'swordfish':\n",
    "        break\n",
    "print('Access granted.')"
   ]
  },
  {
   "cell_type": "code",
   "execution_count": 26,
   "id": "e47185b6-06a4-4158-b98c-8dd69c4dc8e2",
   "metadata": {},
   "outputs": [
    {
     "name": "stdout",
     "output_type": "stream",
     "text": [
      "Bella\n",
      "Milo\n",
      "Loki\n"
     ]
    }
   ],
   "source": [
    "pets = ['Bella', 'Milo', 'Loki']\n",
    "for pet in pets:\n",
    "    print(pet)"
   ]
  },
  {
   "cell_type": "code",
   "execution_count": 27,
   "id": "d00cdf46-3c97-4719-a8e1-d0f0e085177a",
   "metadata": {},
   "outputs": [
    {
     "name": "stdout",
     "output_type": "stream",
     "text": [
      "Will stop at 5! or 4? (0)\n",
      "Will stop at 5! or 4? (1)\n",
      "Will stop at 5! or 4? (2)\n",
      "Will stop at 5! or 4? (3)\n",
      "Will stop at 5! or 4? (4)\n"
     ]
    }
   ],
   "source": [
    "for i in range(5):\n",
    "    print(f'Will stop at 5! or 4? ({i})')"
   ]
  },
  {
   "cell_type": "code",
   "execution_count": 28,
   "id": "d416c321-6c5c-4ffd-b152-7489a9521316",
   "metadata": {},
   "outputs": [
    {
     "name": "stdout",
     "output_type": "stream",
     "text": [
      "0\n",
      "2\n",
      "4\n",
      "6\n",
      "8\n"
     ]
    }
   ],
   "source": [
    "for i in range(0, 10, 2):\n",
    "    print(i)"
   ]
  },
  {
   "cell_type": "code",
   "execution_count": 29,
   "id": "22e1264a-1657-49aa-b61d-942cd3457546",
   "metadata": {},
   "outputs": [
    {
     "name": "stdout",
     "output_type": "stream",
     "text": [
      "5\n",
      "4\n",
      "3\n",
      "2\n",
      "1\n",
      "0\n"
     ]
    }
   ],
   "source": [
    "for i in range(5, -1, -1):\n",
    "    print(i)"
   ]
  },
  {
   "cell_type": "code",
   "execution_count": 31,
   "id": "8facc6a5-88ad-41a7-bdcf-a4b735bd7e23",
   "metadata": {},
   "outputs": [
    {
     "name": "stdout",
     "output_type": "stream",
     "text": [
      "only executed when no item is equal to 3\n",
      "only executed when no item is equal to 3\n"
     ]
    }
   ],
   "source": [
    "for i in [1, 2, 3, 4, 5]:\n",
    "   if i == 3:\n",
    "       break\n",
    "   else:\n",
    "       print(\"only executed when no item is equal to 3\")"
   ]
  },
  {
   "cell_type": "code",
   "execution_count": 33,
   "id": "358e6101-3fa5-4f6c-8943-d915a7d2dc28",
   "metadata": {},
   "outputs": [
    {
     "name": "stdin",
     "output_type": "stream",
     "text": [
      "Type exit to exit:  exist\n",
      "Type exit to exit:  exit\n"
     ]
    },
    {
     "name": "stdout",
     "output_type": "stream",
     "text": [
      "You typed exit.\n"
     ]
    },
    {
     "ename": "SystemExit",
     "evalue": "",
     "output_type": "error",
     "traceback": [
      "An exception has occurred, use %tb to see the full traceback.\n",
      "\u001b[1;31mSystemExit\u001b[0m\n"
     ]
    },
    {
     "name": "stderr",
     "output_type": "stream",
     "text": [
      "C:\\Users\\User\\AppData\\Local\\Programs\\Python\\Python311\\Lib\\site-packages\\IPython\\core\\interactiveshell.py:3516: UserWarning: To exit: use 'exit', 'quit', or Ctrl-D.\n",
      "  warn(\"To exit: use 'exit', 'quit', or Ctrl-D.\", stacklevel=1)\n"
     ]
    }
   ],
   "source": [
    "import sys\n",
    "while True:\n",
    "    feedback = input('Type exit to exit: ')\n",
    "    if feedback == 'exit':\n",
    "        print(f'You typed {feedback}.')\n",
    "        sys.exit()"
   ]
  },
  {
   "cell_type": "code",
   "execution_count": 34,
   "id": "0cb3a565-6d5b-4af3-af45-3d1c7fdb1696",
   "metadata": {},
   "outputs": [
    {
     "name": "stdout",
     "output_type": "stream",
     "text": [
      "36\n",
      "Next lines of code\n"
     ]
    }
   ],
   "source": [
    "number = 6\n",
    "if number > 5:\n",
    "    # Calculate square\n",
    "    print(number * number)\n",
    "print('Next lines of code')"
   ]
  },
  {
   "cell_type": "code",
   "execution_count": 35,
   "id": "db1f0728-283b-43bf-9b71-75c2c2703988",
   "metadata": {},
   "outputs": [
    {
     "name": "stdout",
     "output_type": "stream",
     "text": [
      "Admin\n",
      "Editor\n",
      "Guest\n",
      "Wrong entry\n"
     ]
    }
   ],
   "source": [
    "def user_check(choice):\n",
    "    if choice == 1:\n",
    "        print(\"Admin\")\n",
    "    elif choice == 2:\n",
    "        print(\"Editor\")\n",
    "    elif choice == 3:\n",
    "        print(\"Guest\")\n",
    "    else:\n",
    "        print(\"Wrong entry\")\n",
    "\n",
    "user_check(1)\n",
    "user_check(2)\n",
    "user_check(3)\n",
    "user_check(4)"
   ]
  },
  {
   "cell_type": "code",
   "execution_count": 36,
   "id": "425d89ca-ccb9-45a5-a65f-657d5812df17",
   "metadata": {},
   "outputs": [
    {
     "name": "stdin",
     "output_type": "stream",
     "text": [
      "Enter first number  2\n",
      "Enter second number  4\n"
     ]
    },
    {
     "name": "stdout",
     "output_type": "stream",
     "text": [
      "2 is smaller than 4\n"
     ]
    }
   ],
   "source": [
    "num1 = int(input('Enter first number '))\n",
    "num2 = int(input('Enter second number '))\n",
    "\n",
    "if num1 >= num2:\n",
    "    if num1 == num2:\n",
    "        print(num1, 'and', num2, 'are equal')\n",
    "    else:\n",
    "        print(num1, 'is greater than', num2)\n",
    "else:\n",
    "    print(num1, 'is smaller than', num2)"
   ]
  },
  {
   "cell_type": "code",
   "execution_count": 37,
   "id": "dc1f19f7-6e57-49bc-a6f3-f6dd2147cc29",
   "metadata": {},
   "outputs": [
    {
     "name": "stdout",
     "output_type": "stream",
     "text": [
      "1\n",
      "2\n",
      "3\n",
      "4\n",
      "5\n",
      "6\n",
      "7\n",
      "8\n",
      "9\n",
      "10\n"
     ]
    }
   ],
   "source": [
    "for i in range(1, 11):\n",
    "    print(i)"
   ]
  },
  {
   "cell_type": "code",
   "execution_count": 38,
   "id": "05e66bc2-d4c8-4bf7-9ef4-b6d1a8a88687",
   "metadata": {},
   "outputs": [
    {
     "name": "stdout",
     "output_type": "stream",
     "text": [
      "Sum of first 10 number is: 55\n"
     ]
    }
   ],
   "source": [
    "num = 10\n",
    "sum = 0\n",
    "i = 1\n",
    "while i <= num:\n",
    "    sum = sum + i\n",
    "    i = i + 1\n",
    "print(\"Sum of first 10 number is:\", sum)"
   ]
  },
  {
   "cell_type": "code",
   "execution_count": 39,
   "id": "a6670593-a9cf-498f-aa0c-1e6074f32a76",
   "metadata": {},
   "outputs": [
    {
     "name": "stdout",
     "output_type": "stream",
     "text": [
      "['January', 'June', 'March', 'April']\n"
     ]
    }
   ],
   "source": [
    "months = ['January', 'June', 'March', 'April']\n",
    "for mon in months:\n",
    "    pass\n",
    "print(months)"
   ]
  },
  {
   "cell_type": "code",
   "execution_count": 40,
   "id": "ae4bba1c-3d34-41ca-ad74-8367143a52fc",
   "metadata": {},
   "outputs": [
    {
     "name": "stdout",
     "output_type": "stream",
     "text": [
      "You have a fish\n"
     ]
    }
   ],
   "source": [
    "pet_type = \"fish\"\n",
    "\n",
    "if pet_type == \"dog\":\n",
    "  print(\"You have a dog.\")\n",
    "elif pet_type == \"cat\":\n",
    "  print(\"You have a cat.\")\n",
    "elif pet_type == \"fish\":\n",
    "  # this is performed\n",
    "  print(\"You have a fish\")\n",
    "else:\n",
    "  print(\"Not sure!\")"
   ]
  },
  {
   "cell_type": "code",
   "execution_count": 41,
   "id": "131ee6e0-fc23-46bd-9281-c4d10ede0a78",
   "metadata": {},
   "outputs": [
    {
     "name": "stdout",
     "output_type": "stream",
     "text": [
      "They are equal\n",
      "Both expressions give the same result\n",
      "They are not equal\n"
     ]
    }
   ],
   "source": [
    "if 'Yes' == 'Yes':\n",
    "  # evaluates to True\n",
    "  print('They are equal')\n",
    "\n",
    "if (2 > 1) == (5 < 10):\n",
    "  # evaluates to True\n",
    "  print('Both expressions give the same result')\n",
    "\n",
    "c = '2'\n",
    "d = 2\n",
    "\n",
    "if c == d:\n",
    "  print('They are equal')\n",
    "else:\n",
    "  print('They are not equal')"
   ]
  },
  {
   "cell_type": "code",
   "execution_count": 42,
   "id": "2211779a-76fa-41ae-9eb2-4383264a9cb7",
   "metadata": {},
   "outputs": [
    {
     "name": "stdout",
     "output_type": "stream",
     "text": [
      "They are NOT equal\n",
      "They are NOT equal\n",
      "They are NOT equal\n"
     ]
    }
   ],
   "source": [
    "if \"Yes\" != \"No\":\n",
    "  # evaluates to True\n",
    "  print(\"They are NOT equal\")\n",
    "\n",
    "val1 = 10\n",
    "val2 = 20\n",
    "\n",
    "if val1 != val2:\n",
    "  print(\"They are NOT equal\")\n",
    "\n",
    "if (10 > 1) != (10 > 1000):\n",
    "  # True != False\n",
    "  print(\"They are NOT equal\")"
   ]
  },
  {
   "cell_type": "code",
   "execution_count": 43,
   "id": "ab00a0f8-4a3c-43b6-9409-883653952318",
   "metadata": {},
   "outputs": [
    {
     "name": "stdout",
     "output_type": "stream",
     "text": [
      "This code is executed!\n",
      "Program continues at this point.\n"
     ]
    }
   ],
   "source": [
    "test_value = 100\n",
    "\n",
    "if test_value > 1:\n",
    "  # Expression evaluates to True\n",
    "  print(\"This code is executed!\")\n",
    "\n",
    "if test_value > 1000:\n",
    "  # Expression evaluates to False\n",
    "  print(\"This code is NOT executed!\")\n",
    "\n",
    "print(\"Program continues at this point.\")"
   ]
  },
  {
   "cell_type": "code",
   "execution_count": 44,
   "id": "eab848ad-0640-4d6c-b276-ac9565ad7f18",
   "metadata": {},
   "outputs": [
    {
     "name": "stdout",
     "output_type": "stream",
     "text": [
      "Value is >= 1\n",
      "String equals something else!\n"
     ]
    }
   ],
   "source": [
    "test_value = 50\n",
    "\n",
    "if test_value < 1:\n",
    "  print(\"Value is < 1\")\n",
    "else:\n",
    "  print(\"Value is >= 1\")\n",
    "\n",
    "test_string = \"VALID\"\n",
    "\n",
    "if test_string == \"NOT_VALID\":\n",
    "  print(\"String equals NOT_VALID\")\n",
    "else:\n",
    "  print(\"String equals something else!\")"
   ]
  },
  {
   "cell_type": "code",
   "execution_count": null,
   "id": "e15b74ae-00cf-46af-be61-59b4137f79b2",
   "metadata": {},
   "outputs": [],
   "source": []
  }
 ],
 "metadata": {
  "kernelspec": {
   "display_name": "Python 3 (ipykernel)",
   "language": "python",
   "name": "python3"
  },
  "language_info": {
   "codemirror_mode": {
    "name": "ipython",
    "version": 3
   },
   "file_extension": ".py",
   "mimetype": "text/x-python",
   "name": "python",
   "nbconvert_exporter": "python",
   "pygments_lexer": "ipython3",
   "version": "3.11.4"
  }
 },
 "nbformat": 4,
 "nbformat_minor": 5
}
