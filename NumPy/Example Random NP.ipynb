{
 "cells": [
  {
   "cell_type": "code",
   "execution_count": 1,
   "id": "137a8736-dd32-4b90-be70-cb2af5ca40cc",
   "metadata": {},
   "outputs": [
    {
     "name": "stdout",
     "output_type": "stream",
     "text": [
      "61\n"
     ]
    }
   ],
   "source": [
    "from numpy import random\n",
    "\n",
    "x = random.randint(100)\n",
    "print(x)"
   ]
  },
  {
   "cell_type": "code",
   "execution_count": 2,
   "id": "b8b853cb-78c9-44c4-8226-ed0ebb86e361",
   "metadata": {},
   "outputs": [
    {
     "name": "stdout",
     "output_type": "stream",
     "text": [
      "0.4041656228644629\n"
     ]
    }
   ],
   "source": [
    "x = random.rand()\n",
    "\n",
    "print(x)"
   ]
  },
  {
   "cell_type": "code",
   "execution_count": 3,
   "id": "0ea1e19e-b02f-4b6f-8004-21308952de74",
   "metadata": {},
   "outputs": [
    {
     "name": "stdout",
     "output_type": "stream",
     "text": [
      "[96 29  1  3 90]\n"
     ]
    }
   ],
   "source": [
    "x=random.randint(100, size=(5))\n",
    "print(x)"
   ]
  },
  {
   "cell_type": "code",
   "execution_count": 4,
   "id": "2f1845b1-a459-48be-b17d-a194dddb7ce9",
   "metadata": {},
   "outputs": [
    {
     "name": "stdout",
     "output_type": "stream",
     "text": [
      "[[97 87 85 45 80]\n",
      " [54 64 26 61 16]\n",
      " [77 53 24 22 99]]\n"
     ]
    }
   ],
   "source": [
    "x = random.randint(100, size=(3, 5))\n",
    "print(x)"
   ]
  },
  {
   "cell_type": "code",
   "execution_count": 5,
   "id": "d6c245e3-9097-45b9-9111-5ccc7baa9ce2",
   "metadata": {},
   "outputs": [
    {
     "name": "stdout",
     "output_type": "stream",
     "text": [
      "[0.09460075 0.33568383 0.00200562 0.29791058 0.33575375]\n"
     ]
    }
   ],
   "source": [
    "x = random.rand(5)\n",
    "print(x)"
   ]
  },
  {
   "cell_type": "code",
   "execution_count": 6,
   "id": "464a751e-3966-4f82-9de9-f4278b4a1958",
   "metadata": {},
   "outputs": [
    {
     "name": "stdout",
     "output_type": "stream",
     "text": [
      "[[0.48531377 0.60822604 0.52062049 0.23973655 0.67308595]\n",
      " [0.075181   0.03271094 0.37267123 0.65576347 0.63709122]\n",
      " [0.08032364 0.4174526  0.46763525 0.15976118 0.96887955]]\n"
     ]
    }
   ],
   "source": [
    "x = random.rand(3, 5)\n",
    "print(x)"
   ]
  },
  {
   "cell_type": "code",
   "execution_count": 7,
   "id": "34a224ef-bf03-4c52-9fc6-deb2a24b30df",
   "metadata": {},
   "outputs": [
    {
     "name": "stdout",
     "output_type": "stream",
     "text": [
      "7\n"
     ]
    }
   ],
   "source": [
    "x = random.choice([3, 5, 7, 9])\n",
    "print(x)"
   ]
  },
  {
   "cell_type": "code",
   "execution_count": 8,
   "id": "f892e803-56b2-4355-9ad6-61f30f1dcebf",
   "metadata": {},
   "outputs": [
    {
     "name": "stdout",
     "output_type": "stream",
     "text": [
      "[[7 9 7 9 3]\n",
      " [5 3 5 7 7]\n",
      " [3 7 5 5 3]]\n"
     ]
    }
   ],
   "source": [
    "x = random.choice([3, 5, 7, 9], size=(3, 5))\n",
    "print(x)"
   ]
  },
  {
   "cell_type": "code",
   "execution_count": 9,
   "id": "7956fca8-f492-4c82-b747-9de5a8d73ebf",
   "metadata": {},
   "outputs": [
    {
     "name": "stdout",
     "output_type": "stream",
     "text": [
      "[7 7 7 7 7 5 5 3 7 7 7 5 5 7 5 7 5 7 7 5 7 7 7 5 7 7 5 3 5 7 7 7 5 7 5 5 7\n",
      " 5 7 7 7 7 7 7 5 7 7 7 3 3 7 7 7 7 5 7 7 7 7 5 7 7 7 7 5 7 7 3 7 7 3 7 7 7\n",
      " 7 5 7 7 7 7 7 5 7 7 5 7 7 7 7 7 5 7 5 7 5 7 5 7 7 7]\n"
     ]
    }
   ],
   "source": [
    "x = random.choice([3, 5, 7, 9], p=[0.1, 0.3, 0.6, 0.0], size=(100))\n",
    "print(x)"
   ]
  },
  {
   "cell_type": "code",
   "execution_count": 10,
   "id": "90d7e14c-f6a5-4426-90fe-6e16809f9024",
   "metadata": {},
   "outputs": [
    {
     "name": "stdout",
     "output_type": "stream",
     "text": [
      "[[7 5 7 7 5]\n",
      " [7 7 5 3 7]\n",
      " [7 7 7 3 7]]\n"
     ]
    }
   ],
   "source": [
    "x = random.choice([3, 5, 7, 9], p=[0.1, 0.3, 0.6, 0.0], size=(3, 5))\n",
    "print(x)"
   ]
  },
  {
   "cell_type": "code",
   "execution_count": null,
   "id": "44c657b2-f5f1-426b-80f0-2600e66152af",
   "metadata": {},
   "outputs": [],
   "source": []
  }
 ],
 "metadata": {
  "kernelspec": {
   "display_name": "Python 3 (ipykernel)",
   "language": "python",
   "name": "python3"
  },
  "language_info": {
   "codemirror_mode": {
    "name": "ipython",
    "version": 3
   },
   "file_extension": ".py",
   "mimetype": "text/x-python",
   "name": "python",
   "nbconvert_exporter": "python",
   "pygments_lexer": "ipython3",
   "version": "3.11.4"
  }
 },
 "nbformat": 4,
 "nbformat_minor": 5
}
