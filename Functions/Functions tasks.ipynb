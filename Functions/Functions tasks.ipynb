{
 "cells": [
  {
   "cell_type": "code",
   "execution_count": 1,
   "id": "bc886482-e8e7-4c4e-8896-72ab0b0e4706",
   "metadata": {},
   "outputs": [
    {
     "name": "stdin",
     "output_type": "stream",
     "text": [
      "Enter first number:  1\n",
      "Enter second number:  3\n"
     ]
    },
    {
     "name": "stdout",
     "output_type": "stream",
     "text": [
      "[1, 4, 9]\n"
     ]
    }
   ],
   "source": [
    "'''\n",
    "16. Write a Python function to create and print a list where the values are the squares of numbers between 1 and 30 (both included)\n",
    "'''\n",
    "def create_list(val_1, val_2):\n",
    "    mylist=[]\n",
    "    for i in range(val_1, val_2+1):\n",
    "        mylist.append(i**2)\n",
    "    return mylist\n",
    "\n",
    "val_1=int(input(\"Enter first number: \"))\n",
    "val_2=int(input(\"Enter second number: \"))\n",
    "print(create_list(val_1, val_2))"
   ]
  },
  {
   "cell_type": "code",
   "execution_count": null,
   "id": "ae2729cb-5c05-442a-b489-6229d6adf05d",
   "metadata": {},
   "outputs": [],
   "source": []
  }
 ],
 "metadata": {
  "kernelspec": {
   "display_name": "Python 3 (ipykernel)",
   "language": "python",
   "name": "python3"
  },
  "language_info": {
   "codemirror_mode": {
    "name": "ipython",
    "version": 3
   },
   "file_extension": ".py",
   "mimetype": "text/x-python",
   "name": "python",
   "nbconvert_exporter": "python",
   "pygments_lexer": "ipython3",
   "version": "3.11.4"
  }
 },
 "nbformat": 4,
 "nbformat_minor": 5
}
