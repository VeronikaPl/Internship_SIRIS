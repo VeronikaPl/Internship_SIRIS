{
 "cells": [
  {
   "cell_type": "code",
   "execution_count": 1,
   "id": "3705de6d-9ff5-49c9-ae89-2c000fbf8ec6",
   "metadata": {},
   "outputs": [],
   "source": [
    "from collections import namedtuple\n",
    "\n",
    "Fish = namedtuple(\"Fish\", [\"name\", \"species\", \"tank\"])"
   ]
  },
  {
   "cell_type": "code",
   "execution_count": 2,
   "id": "dd02e6b5-8d98-4d08-94fa-35a35898de31",
   "metadata": {},
   "outputs": [
    {
     "name": "stdout",
     "output_type": "stream",
     "text": [
      "Fish(name='Sammy', species='shark', tank='tank-a')\n"
     ]
    }
   ],
   "source": [
    "sammy = Fish(\"Sammy\", \"shark\", \"tank-a\")\n",
    "\n",
    "print(sammy)"
   ]
  },
  {
   "cell_type": "code",
   "execution_count": 3,
   "id": "191ef45d-ff8f-4046-971d-8ee487f4642a",
   "metadata": {},
   "outputs": [
    {
     "name": "stdout",
     "output_type": "stream",
     "text": [
      "shark\n",
      "shark\n"
     ]
    }
   ],
   "source": [
    "print(sammy.species)\n",
    "print(sammy[1])"
   ]
  },
  {
   "cell_type": "code",
   "execution_count": 4,
   "id": "40ede595-6d25-4c7b-8fb5-7e04d7a1078c",
   "metadata": {},
   "outputs": [
    {
     "name": "stdout",
     "output_type": "stream",
     "text": [
      "{'name': 'Sammy', 'species': 'shark', 'tank': 'tank-a'}\n"
     ]
    }
   ],
   "source": [
    "print(sammy._asdict())"
   ]
  },
  {
   "cell_type": "code",
   "execution_count": 5,
   "id": "aaad32c2-0515-4255-abb4-58d7b849f6b5",
   "metadata": {},
   "outputs": [
    {
     "name": "stdout",
     "output_type": "stream",
     "text": [
      "[]\n"
     ]
    }
   ],
   "source": [
    "from collections import defaultdict\n",
    "\n",
    "my_defaultdict = defaultdict(list)\n",
    "\n",
    "print(my_defaultdict[\"missing\"])"
   ]
  },
  {
   "cell_type": "code",
   "execution_count": 6,
   "id": "f2146850-ecb2-4235-af07-42fe145ef88a",
   "metadata": {},
   "outputs": [
    {
     "ename": "KeyError",
     "evalue": "'missing'",
     "output_type": "error",
     "traceback": [
      "\u001b[1;31m---------------------------------------------------------------------------\u001b[0m",
      "\u001b[1;31mKeyError\u001b[0m                                  Traceback (most recent call last)",
      "Cell \u001b[1;32mIn[6], line 3\u001b[0m\n\u001b[0;32m      1\u001b[0m my_regular_dict \u001b[38;5;241m=\u001b[39m {}\n\u001b[1;32m----> 3\u001b[0m \u001b[43mmy_regular_dict\u001b[49m\u001b[43m[\u001b[49m\u001b[38;5;124;43m\"\u001b[39;49m\u001b[38;5;124;43mmissing\u001b[39;49m\u001b[38;5;124;43m\"\u001b[39;49m\u001b[43m]\u001b[49m\n",
      "\u001b[1;31mKeyError\u001b[0m: 'missing'"
     ]
    }
   ],
   "source": [
    "my_regular_dict = {}\n",
    "\n",
    "my_regular_dict[\"missing\"]"
   ]
  },
  {
   "cell_type": "code",
   "execution_count": 7,
   "id": "de401cc4-68c9-46cb-94a2-67cb5b0bb7a1",
   "metadata": {},
   "outputs": [
    {
     "name": "stdout",
     "output_type": "stream",
     "text": [
      "defaultdict(<class 'list'>, {'tank-a': ['Sammy', 'Mary'], 'tank-b': ['Jamie']})\n"
     ]
    }
   ],
   "source": [
    "from collections import defaultdict\n",
    "\n",
    "fish_inventory = [\n",
    "    (\"Sammy\", \"shark\", \"tank-a\"),\n",
    "    (\"Jamie\", \"cuttlefish\", \"tank-b\"),\n",
    "    (\"Mary\", \"squid\", \"tank-a\"),\n",
    "]\n",
    "fish_names_by_tank = defaultdict(list)\n",
    "for name, species, tank in fish_inventory:\n",
    "    fish_names_by_tank[tank].append(name)\n",
    "\n",
    "print(fish_names_by_tank)"
   ]
  },
  {
   "cell_type": "code",
   "execution_count": 8,
   "id": "700a746d-84c2-4250-891e-628c269e244e",
   "metadata": {},
   "outputs": [
    {
     "name": "stdout",
     "output_type": "stream",
     "text": [
      "['Alice', 'Sammy', 'Jamie', 'Mary']\n"
     ]
    }
   ],
   "source": [
    "favorite_fish_list = [\"Sammy\", \"Jamie\", \"Mary\"]\n",
    "\n",
    "# O(n) performance\n",
    "favorite_fish_list.insert(0, \"Alice\")\n",
    "\n",
    "print(favorite_fish_list)"
   ]
  },
  {
   "cell_type": "code",
   "execution_count": 9,
   "id": "55869966-52aa-4365-bd58-6f4a9dd52e4a",
   "metadata": {},
   "outputs": [
    {
     "name": "stdout",
     "output_type": "stream",
     "text": [
      "deque(['Alice', 'Sammy', 'Jamie', 'Mary'])\n"
     ]
    }
   ],
   "source": [
    "from collections import deque\n",
    "\n",
    "favorite_fish_deque = deque([\"Sammy\", \"Jamie\", \"Mary\"])\n",
    "\n",
    "# O(1) performance\n",
    "favorite_fish_deque.appendleft(\"Alice\")\n",
    "\n",
    "print(favorite_fish_deque)"
   ]
  },
  {
   "cell_type": "code",
   "execution_count": 10,
   "id": "dba6bf8b-aa79-4504-afb5-1a39f9074da0",
   "metadata": {},
   "outputs": [
    {
     "data": {
      "text/plain": [
       "(2, 2)"
      ]
     },
     "execution_count": 10,
     "metadata": {},
     "output_type": "execute_result"
    }
   ],
   "source": [
    "divmod(12, 5)"
   ]
  },
  {
   "cell_type": "code",
   "execution_count": 11,
   "id": "f94e689e-a02a-47c8-8292-d8346ed0f177",
   "metadata": {},
   "outputs": [
    {
     "data": {
      "text/plain": [
       "2"
      ]
     },
     "execution_count": 11,
     "metadata": {},
     "output_type": "execute_result"
    }
   ],
   "source": [
    "from collections import namedtuple\n",
    "\n",
    "def custom_divmod(x, y):\n",
    "    DivMod = namedtuple(\"DivMod\", \"quotient remainder\")\n",
    "    return DivMod(*divmod(x, y))\n",
    "\n",
    "\n",
    "result = custom_divmod(12, 5)\n",
    "result\n",
    "\n",
    "\n",
    "result.quotient\n",
    "\n",
    "result.remainder"
   ]
  },
  {
   "cell_type": "code",
   "execution_count": 12,
   "id": "72c36025-c818-48ef-b643-5f5f3d83cc20",
   "metadata": {},
   "outputs": [
    {
     "data": {
      "text/plain": [
       "Point(x=2, y=4)"
      ]
     },
     "execution_count": 12,
     "metadata": {},
     "output_type": "execute_result"
    }
   ],
   "source": [
    "from collections import namedtuple\n",
    "\n",
    "# Use a list of strings as field names\n",
    "Point = namedtuple(\"Point\", [\"x\", \"y\"])\n",
    "point = Point(2, 4)\n",
    "point\n",
    "\n",
    "\n",
    "# Access the coordinates\n",
    "point.x\n",
    "\n",
    "point.y\n",
    "\n",
    "point[0]\n",
    "\n",
    "\n",
    "# Use a generator expression as field names\n",
    "Point = namedtuple(\"Point\", (field for field in \"xy\"))\n",
    "Point(2, 4)\n",
    "\n",
    "\n",
    "# Use a string with comma-separated field names\n",
    "Point = namedtuple(\"Point\", \"x, y\")\n",
    "Point(2, 4)\n",
    "\n",
    "\n",
    "# Use a string with space-separated field names\n",
    "Point = namedtuple(\"Point\", \"x y\")\n",
    "Point(2, 4)"
   ]
  },
  {
   "cell_type": "code",
   "execution_count": 13,
   "id": "3a485bf4-ca5d-48d5-bd16-74d725f2c052",
   "metadata": {},
   "outputs": [
    {
     "data": {
      "text/plain": [
       "Person(name='Jane', job='Web Developer')"
      ]
     },
     "execution_count": 13,
     "metadata": {},
     "output_type": "execute_result"
    }
   ],
   "source": [
    "from collections import namedtuple\n",
    "\n",
    "# Define default values for fields\n",
    "Person = namedtuple(\"Person\", \"name job\", defaults=[\"Python Developer\"])\n",
    "person = Person(\"Jane\")\n",
    "person\n",
    "\n",
    "\n",
    "# Create a dictionary from a named tuple\n",
    "person._asdict()\n",
    "\n",
    "\n",
    "# Replace the value of a field\n",
    "person = person._replace(job=\"Web Developer\")\n",
    "person"
   ]
  },
  {
   "cell_type": "code",
   "execution_count": 14,
   "id": "495b9e1c-62d7-4278-a8e2-4c43fb30ee6b",
   "metadata": {},
   "outputs": [
    {
     "ename": "IndexError",
     "evalue": "pop from an empty deque",
     "output_type": "error",
     "traceback": [
      "\u001b[1;31m---------------------------------------------------------------------------\u001b[0m",
      "\u001b[1;31mIndexError\u001b[0m                                Traceback (most recent call last)",
      "Cell \u001b[1;32mIn[14], line 24\u001b[0m\n\u001b[0;32m     20\u001b[0m ticket_queue\u001b[38;5;241m.\u001b[39mpopleft()\n\u001b[0;32m     23\u001b[0m \u001b[38;5;66;03m# No people on the queue\u001b[39;00m\n\u001b[1;32m---> 24\u001b[0m \u001b[43mticket_queue\u001b[49m\u001b[38;5;241;43m.\u001b[39;49m\u001b[43mpopleft\u001b[49m\u001b[43m(\u001b[49m\u001b[43m)\u001b[49m\n",
      "\u001b[1;31mIndexError\u001b[0m: pop from an empty deque"
     ]
    }
   ],
   "source": [
    "from collections import deque\n",
    "\n",
    "ticket_queue = deque()\n",
    "ticket_queue\n",
    "\n",
    "\n",
    "# People arrive to the queue\n",
    "ticket_queue.append(\"Jane\")\n",
    "ticket_queue.append(\"John\")\n",
    "ticket_queue.append(\"Linda\")\n",
    "\n",
    "ticket_queue\n",
    "\n",
    "\n",
    "# People bought their tickets\n",
    "ticket_queue.popleft()\n",
    "\n",
    "ticket_queue.popleft()\n",
    "\n",
    "ticket_queue.popleft()\n",
    "\n",
    "\n",
    "# No people on the queue\n",
    "ticket_queue.popleft()"
   ]
  },
  {
   "cell_type": "code",
   "execution_count": 15,
   "id": "6aada298-bdc1-495e-a7c6-d685d6225a4d",
   "metadata": {},
   "outputs": [
    {
     "data": {
      "text/plain": [
       "deque(['requirements.txt', 'database.py', 'core.py'], maxlen=3)"
      ]
     },
     "execution_count": 15,
     "metadata": {},
     "output_type": "execute_result"
    }
   ],
   "source": [
    "from collections import deque\n",
    "\n",
    "recent_files = deque([\"core.py\", \"README.md\", \"__init__.py\"], maxlen=3)\n",
    "\n",
    "recent_files.appendleft(\"database.py\")\n",
    "recent_files\n",
    "\n",
    "\n",
    "recent_files.appendleft(\"requirements.txt\")\n",
    "recent_files"
   ]
  },
  {
   "cell_type": "code",
   "execution_count": 16,
   "id": "c63d62d4-b5b1-4734-bb74-b3a418f58511",
   "metadata": {},
   "outputs": [
    {
     "ename": "TypeError",
     "evalue": "deque.pop() takes no arguments (1 given)",
     "output_type": "error",
     "traceback": [
      "\u001b[1;31m---------------------------------------------------------------------------\u001b[0m",
      "\u001b[1;31mTypeError\u001b[0m                                 Traceback (most recent call last)",
      "Cell \u001b[1;32mIn[16], line 14\u001b[0m\n\u001b[0;32m     10\u001b[0m deque(\u001b[38;5;124m\"\u001b[39m\u001b[38;5;124mabcd\u001b[39m\u001b[38;5;124m\"\u001b[39m)\n\u001b[0;32m     13\u001b[0m \u001b[38;5;66;03m# Unlike lists, deque doesn't support .pop() with arbitrary indices\u001b[39;00m\n\u001b[1;32m---> 14\u001b[0m \u001b[43mdeque\u001b[49m\u001b[43m(\u001b[49m\u001b[38;5;124;43m\"\u001b[39;49m\u001b[38;5;124;43mabcd\u001b[39;49m\u001b[38;5;124;43m\"\u001b[39;49m\u001b[43m)\u001b[49m\u001b[38;5;241;43m.\u001b[39;49m\u001b[43mpop\u001b[49m\u001b[43m(\u001b[49m\u001b[38;5;241;43m2\u001b[39;49m\u001b[43m)\u001b[49m\n\u001b[0;32m     18\u001b[0m \u001b[38;5;66;03m# Extend an existing deque\u001b[39;00m\n\u001b[0;32m     19\u001b[0m numbers \u001b[38;5;241m=\u001b[39m deque([\u001b[38;5;241m1\u001b[39m, \u001b[38;5;241m2\u001b[39m])\n",
      "\u001b[1;31mTypeError\u001b[0m: deque.pop() takes no arguments (1 given)"
     ]
    }
   ],
   "source": [
    "from collections import deque\n",
    "\n",
    "# Use different iterables to create deques\n",
    "deque((1, 2, 3, 4))\n",
    "\n",
    "\n",
    "deque([1, 2, 3, 4])\n",
    "\n",
    "\n",
    "deque(\"abcd\")\n",
    "\n",
    "\n",
    "# Unlike lists, deque doesn't support .pop() with arbitrary indices\n",
    "deque(\"abcd\").pop(2)"
   ]
  },
  {
   "cell_type": "code",
   "execution_count": 17,
   "id": "5fbfb06e-903d-4267-868d-7442fd88eeeb",
   "metadata": {},
   "outputs": [
    {
     "data": {
      "text/plain": [
       "deque([-5, -4, -3, -2, -1, 0, 1, 2, 3, 4, 5])"
      ]
     },
     "execution_count": 17,
     "metadata": {},
     "output_type": "execute_result"
    }
   ],
   "source": [
    "# Extend an existing deque\n",
    "numbers = deque([1, 2])\n",
    "numbers.extend([3, 4, 5])\n",
    "numbers\n",
    "\n",
    "\n",
    "numbers.extendleft([-1, -2, -3, -4, -5])\n",
    "numbers\n",
    "\n",
    "\n",
    "# Insert an item at a given position\n",
    "numbers.insert(5, 0)\n",
    "numbers"
   ]
  },
  {
   "cell_type": "code",
   "execution_count": 18,
   "id": "26951301-9220-4297-8593-879f1d7d0065",
   "metadata": {},
   "outputs": [
    {
     "data": {
      "text/plain": [
       "deque(['first', 'second', 'third'])"
      ]
     },
     "execution_count": 18,
     "metadata": {},
     "output_type": "execute_result"
    }
   ],
   "source": [
    "from collections import deque\n",
    "\n",
    "ordinals = deque([\"first\", \"second\", \"third\"])\n",
    "ordinals.rotate()\n",
    "ordinals\n",
    "\n",
    "\n",
    "ordinals.rotate(2)\n",
    "ordinals\n",
    "\n",
    "\n",
    "ordinals.rotate(-2)\n",
    "ordinals\n",
    "\n",
    "\n",
    "ordinals.rotate(-1)\n",
    "ordinals"
   ]
  },
  {
   "cell_type": "code",
   "execution_count": 19,
   "id": "89ed008e-2945-4ec3-a7e1-ec62a9f962d0",
   "metadata": {},
   "outputs": [
    {
     "ename": "TypeError",
     "evalue": "sequence index must be integer, not 'slice'",
     "output_type": "error",
     "traceback": [
      "\u001b[1;31m---------------------------------------------------------------------------\u001b[0m",
      "\u001b[1;31mTypeError\u001b[0m                                 Traceback (most recent call last)",
      "Cell \u001b[1;32mIn[19], line 6\u001b[0m\n\u001b[0;32m      3\u001b[0m ordinals \u001b[38;5;241m=\u001b[39m deque([\u001b[38;5;124m\"\u001b[39m\u001b[38;5;124mfirst\u001b[39m\u001b[38;5;124m\"\u001b[39m, \u001b[38;5;124m\"\u001b[39m\u001b[38;5;124msecond\u001b[39m\u001b[38;5;124m\"\u001b[39m, \u001b[38;5;124m\"\u001b[39m\u001b[38;5;124mthird\u001b[39m\u001b[38;5;124m\"\u001b[39m])\n\u001b[0;32m      4\u001b[0m ordinals[\u001b[38;5;241m1\u001b[39m]\n\u001b[1;32m----> 6\u001b[0m \u001b[43mordinals\u001b[49m\u001b[43m[\u001b[49m\u001b[38;5;241;43m0\u001b[39;49m\u001b[43m:\u001b[49m\u001b[38;5;241;43m2\u001b[39;49m\u001b[43m]\u001b[49m\n",
      "\u001b[1;31mTypeError\u001b[0m: sequence index must be integer, not 'slice'"
     ]
    }
   ],
   "source": [
    "from collections import deque\n",
    "\n",
    "ordinals = deque([\"first\", \"second\", \"third\"])\n",
    "ordinals[1]\n",
    "\n",
    "ordinals[0:2]"
   ]
  },
  {
   "cell_type": "code",
   "execution_count": 20,
   "id": "22929ffa-2f6e-4ff5-87a7-423375bb6dff",
   "metadata": {},
   "outputs": [
    {
     "data": {
      "text/plain": [
       "{'pet': 'dog', 'color': 'blue', 'language': 'Python', 'fruit': 'apple'}"
      ]
     },
     "execution_count": 20,
     "metadata": {},
     "output_type": "execute_result"
    }
   ],
   "source": [
    "favorites = {\"pet\": \"dog\", \"color\": \"blue\", \"language\": \"Python\"}\n",
    "\n",
    "favorites.setdefault(\"fruit\", \"apple\")\n",
    "\n",
    "favorites\n",
    "\n",
    "favorites.setdefault(\"pet\", \"cat\")\n",
    "\n",
    "favorites"
   ]
  },
  {
   "cell_type": "code",
   "execution_count": 21,
   "id": "73582e9b-0e4f-4a41-8530-56b2b8446f6e",
   "metadata": {},
   "outputs": [
    {
     "data": {
      "text/plain": [
       "{'pet': 'dog', 'color': 'blue', 'language': 'Python'}"
      ]
     },
     "execution_count": 21,
     "metadata": {},
     "output_type": "execute_result"
    }
   ],
   "source": [
    "favorites = {\"pet\": \"dog\", \"color\": \"blue\", \"language\": \"Python\"}\n",
    "\n",
    "favorites.get(\"fruit\", \"apple\")\n",
    "\n",
    "\n",
    "favorites"
   ]
  },
  {
   "cell_type": "code",
   "execution_count": 23,
   "id": "be98f8e6-d563-4160-8a7a-ea801566f6d1",
   "metadata": {},
   "outputs": [
    {
     "data": {
      "text/plain": [
       "defaultdict(int, {'dogs': 3, 'cats': 2})"
      ]
     },
     "execution_count": 23,
     "metadata": {},
     "output_type": "execute_result"
    }
   ],
   "source": [
    ">>> from collections import defaultdict\n",
    "\n",
    ">>> counter = defaultdict(int)\n",
    ">>> counter\n",
    ">>> counter[\"dogs\"]\n",
    ">>> counter\n",
    "\n",
    ">>> counter[\"dogs\"] += 1\n",
    ">>> counter[\"dogs\"] += 1\n",
    ">>> counter[\"dogs\"] += 1\n",
    ">>> counter[\"cats\"] += 1\n",
    ">>> counter[\"cats\"] += 1\n",
    ">>> counter"
   ]
  },
  {
   "cell_type": "code",
   "execution_count": 24,
   "id": "22be8477-7d72-4850-88c7-c3a24875387d",
   "metadata": {},
   "outputs": [
    {
     "name": "stdout",
     "output_type": "stream",
     "text": [
      "dog -> ['Affenpinscher', 'Terrier', 'Boxer']\n",
      "cat -> ['Abyssinian', 'Birman']\n"
     ]
    }
   ],
   "source": [
    "from collections import defaultdict\n",
    "\n",
    "pets = [\n",
    "    (\"dog\", \"Affenpinscher\"),\n",
    "    (\"dog\", \"Terrier\"),\n",
    "    (\"dog\", \"Boxer\"),\n",
    "    (\"cat\", \"Abyssinian\"),\n",
    "    (\"cat\", \"Birman\"),\n",
    "]\n",
    "\n",
    "group_pets = defaultdict(list)\n",
    "\n",
    "for pet, breed in pets:\n",
    "    group_pets[pet].append(breed)\n",
    "\n",
    "\n",
    "for pet, breeds in group_pets.items():\n",
    "    print(pet, \"->\", breeds)"
   ]
  },
  {
   "cell_type": "code",
   "execution_count": 25,
   "id": "4c8ed9f9-4834-47a6-9763-0d915cf01e30",
   "metadata": {},
   "outputs": [
    {
     "name": "stdout",
     "output_type": "stream",
     "text": [
      "childhood -> 0-9\n",
      "adolescence -> 9-18\n",
      "adulthood -> 18-65\n",
      "old -> +65\n"
     ]
    }
   ],
   "source": [
    "from collections import OrderedDict\n",
    "\n",
    "life_stages = OrderedDict()\n",
    "\n",
    "life_stages[\"childhood\"] = \"0-9\"\n",
    "life_stages[\"adolescence\"] = \"9-18\"\n",
    "life_stages[\"adulthood\"] = \"18-65\"\n",
    "life_stages[\"old\"] = \"+65\"\n",
    "\n",
    "for stage, years in life_stages.items():\n",
    "    print(stage, \"->\", years)"
   ]
  },
  {
   "cell_type": "code",
   "execution_count": 26,
   "id": "b37f4ee9-2ecb-4c3a-b634-d07b6ef95028",
   "metadata": {},
   "outputs": [
    {
     "data": {
      "text/plain": [
       "OrderedDict([('a', 1), ('b', 2), ('c', 3), ('d', 4)])"
      ]
     },
     "execution_count": 26,
     "metadata": {},
     "output_type": "execute_result"
    }
   ],
   "source": [
    "from collections import OrderedDict\n",
    "\n",
    "letters = OrderedDict(b=2, d=4, a=1, c=3)\n",
    "letters\n",
    "\n",
    "# Move b to the right end\n",
    "letters.move_to_end(\"b\")\n",
    "letters\n",
    "\n",
    "# Move b to the left end\n",
    "letters.move_to_end(\"b\", last=False)\n",
    "letters\n",
    "\n",
    "# Sort letters by key\n",
    "for key in sorted(letters):\n",
    "    letters.move_to_end(key)\n",
    "\n",
    "letters"
   ]
  },
  {
   "cell_type": "code",
   "execution_count": 27,
   "id": "6c2c1314-bb8c-4817-8196-c5301bf8fe2c",
   "metadata": {},
   "outputs": [
    {
     "data": {
      "text/plain": [
       "True"
      ]
     },
     "execution_count": 27,
     "metadata": {},
     "output_type": "execute_result"
    }
   ],
   "source": [
    "from collections import OrderedDict\n",
    "\n",
    "# Regular dictionaries compare the content only\n",
    "letters_0 = dict(a=1, b=2, c=3, d=4)\n",
    "letters_1 = dict(b=2, a=1, d=4, c=3)\n",
    "letters_0 == letters_1\n",
    "\n",
    "\n",
    "# Ordered dictionaries compare content and order\n",
    "letters_0 = OrderedDict(a=1, b=2, c=3, d=4)\n",
    "letters_1 = OrderedDict(b=2, a=1, d=4, c=3)\n",
    "letters_0 == letters_1\n",
    "\n",
    "\n",
    "letters_2 = OrderedDict(a=1, b=2, c=3, d=4)\n",
    "letters_0 == letters_2"
   ]
  },
  {
   "cell_type": "code",
   "execution_count": 28,
   "id": "2662e067-b787-43d2-b30f-bc404f09f419",
   "metadata": {},
   "outputs": [
    {
     "data": {
      "text/plain": [
       "{'m': 1, 'i': 4, 's': 4, 'p': 2}"
      ]
     },
     "execution_count": 28,
     "metadata": {},
     "output_type": "execute_result"
    }
   ],
   "source": [
    "word = \"mississippi\"\n",
    "counter = {}\n",
    "\n",
    "for letter in word:\n",
    "    if letter not in counter:\n",
    "        counter[letter] = 0\n",
    "    counter[letter] += 1\n",
    "    \n",
    "counter"
   ]
  },
  {
   "cell_type": "code",
   "execution_count": 29,
   "id": "d6d19db0-ecca-4158-8a88-90921e20169d",
   "metadata": {},
   "outputs": [
    {
     "data": {
      "text/plain": [
       "defaultdict(int, {'m': 1, 'i': 4, 's': 4, 'p': 2})"
      ]
     },
     "execution_count": 29,
     "metadata": {},
     "output_type": "execute_result"
    }
   ],
   "source": [
    "from collections import defaultdict\n",
    "\n",
    "counter = defaultdict(int)\n",
    "\n",
    "for letter in \"mississippi\":\n",
    "    counter[letter] += 1\n",
    "\n",
    "counter"
   ]
  },
  {
   "cell_type": "code",
   "execution_count": 30,
   "id": "3d5880f3-8faf-4a2e-8f55-e493e134d110",
   "metadata": {},
   "outputs": [
    {
     "data": {
      "text/plain": [
       "Counter({'i': 4, 's': 4, 'p': 2, 'm': 1})"
      ]
     },
     "execution_count": 30,
     "metadata": {},
     "output_type": "execute_result"
    }
   ],
   "source": [
    "from collections import Counter\n",
    "\n",
    "Counter(\"mississippi\")"
   ]
  },
  {
   "cell_type": "code",
   "execution_count": 31,
   "id": "f88ef60a-a479-46f9-b588-417430f06eef",
   "metadata": {},
   "outputs": [
    {
     "ename": "TypeError",
     "evalue": "unhashable type: 'list'",
     "output_type": "error",
     "traceback": [
      "\u001b[1;31m---------------------------------------------------------------------------\u001b[0m",
      "\u001b[1;31mTypeError\u001b[0m                                 Traceback (most recent call last)",
      "Cell \u001b[1;32mIn[31], line 5\u001b[0m\n\u001b[0;32m      1\u001b[0m \u001b[38;5;28;01mfrom\u001b[39;00m \u001b[38;5;21;01mcollections\u001b[39;00m \u001b[38;5;28;01mimport\u001b[39;00m Counter\n\u001b[0;32m      3\u001b[0m Counter([\u001b[38;5;241m1\u001b[39m, \u001b[38;5;241m1\u001b[39m, \u001b[38;5;241m2\u001b[39m, \u001b[38;5;241m3\u001b[39m, \u001b[38;5;241m3\u001b[39m, \u001b[38;5;241m3\u001b[39m, \u001b[38;5;241m4\u001b[39m])\n\u001b[1;32m----> 5\u001b[0m \u001b[43mCounter\u001b[49m\u001b[43m(\u001b[49m\u001b[43m(\u001b[49m\u001b[43m[\u001b[49m\u001b[38;5;241;43m1\u001b[39;49m\u001b[43m]\u001b[49m\u001b[43m,\u001b[49m\u001b[43m \u001b[49m\u001b[43m[\u001b[49m\u001b[38;5;241;43m1\u001b[39;49m\u001b[43m]\u001b[49m\u001b[43m)\u001b[49m\u001b[43m)\u001b[49m\n",
      "File \u001b[1;32m~\\AppData\\Local\\Programs\\Python\\Python311\\Lib\\collections\\__init__.py:597\u001b[0m, in \u001b[0;36mCounter.__init__\u001b[1;34m(self, iterable, **kwds)\u001b[0m\n\u001b[0;32m    586\u001b[0m \u001b[38;5;250m\u001b[39m\u001b[38;5;124;03m'''Create a new, empty Counter object.  And if given, count elements\u001b[39;00m\n\u001b[0;32m    587\u001b[0m \u001b[38;5;124;03mfrom an input iterable.  Or, initialize the count from another mapping\u001b[39;00m\n\u001b[0;32m    588\u001b[0m \u001b[38;5;124;03mof elements to their counts.\u001b[39;00m\n\u001b[1;32m   (...)\u001b[0m\n\u001b[0;32m    594\u001b[0m \n\u001b[0;32m    595\u001b[0m \u001b[38;5;124;03m'''\u001b[39;00m\n\u001b[0;32m    596\u001b[0m \u001b[38;5;28msuper\u001b[39m()\u001b[38;5;241m.\u001b[39m\u001b[38;5;21m__init__\u001b[39m()\n\u001b[1;32m--> 597\u001b[0m \u001b[38;5;28;43mself\u001b[39;49m\u001b[38;5;241;43m.\u001b[39;49m\u001b[43mupdate\u001b[49m\u001b[43m(\u001b[49m\u001b[43miterable\u001b[49m\u001b[43m,\u001b[49m\u001b[43m \u001b[49m\u001b[38;5;241;43m*\u001b[39;49m\u001b[38;5;241;43m*\u001b[39;49m\u001b[43mkwds\u001b[49m\u001b[43m)\u001b[49m\n",
      "File \u001b[1;32m~\\AppData\\Local\\Programs\\Python\\Python311\\Lib\\collections\\__init__.py:688\u001b[0m, in \u001b[0;36mCounter.update\u001b[1;34m(self, iterable, **kwds)\u001b[0m\n\u001b[0;32m    686\u001b[0m             \u001b[38;5;28msuper\u001b[39m()\u001b[38;5;241m.\u001b[39mupdate(iterable)\n\u001b[0;32m    687\u001b[0m     \u001b[38;5;28;01melse\u001b[39;00m:\n\u001b[1;32m--> 688\u001b[0m         \u001b[43m_count_elements\u001b[49m\u001b[43m(\u001b[49m\u001b[38;5;28;43mself\u001b[39;49m\u001b[43m,\u001b[49m\u001b[43m \u001b[49m\u001b[43miterable\u001b[49m\u001b[43m)\u001b[49m\n\u001b[0;32m    689\u001b[0m \u001b[38;5;28;01mif\u001b[39;00m kwds:\n\u001b[0;32m    690\u001b[0m     \u001b[38;5;28mself\u001b[39m\u001b[38;5;241m.\u001b[39mupdate(kwds)\n",
      "\u001b[1;31mTypeError\u001b[0m: unhashable type: 'list'"
     ]
    }
   ],
   "source": [
    "from collections import Counter\n",
    "\n",
    "Counter([1, 1, 2, 3, 3, 3, 4])\n",
    "\n",
    "Counter(([1], [1]))"
   ]
  },
  {
   "cell_type": "code",
   "execution_count": 32,
   "id": "2a534f4b-fda0-4842-8256-54fcbd4bd15c",
   "metadata": {},
   "outputs": [
    {
     "data": {
      "text/plain": [
       "Counter({'i': 8, 's': 6, 'm': 4, 'p': 3, 'a': 2})"
      ]
     },
     "execution_count": 32,
     "metadata": {},
     "output_type": "execute_result"
    }
   ],
   "source": [
    "from collections import Counter\n",
    "\n",
    "letters = Counter(\"mississippi\")\n",
    "letters\n",
    "\n",
    "# Update the counts of m and i\n",
    "letters.update(m=3, i=4)\n",
    "letters\n",
    "\n",
    "# Add a new key-count pair\n",
    "letters.update({\"a\": 2})\n",
    "letters\n",
    "\n",
    "# Update with another counter\n",
    "letters.update(Counter([\"s\", \"s\", \"p\"]))\n",
    "letters"
   ]
  },
  {
   "cell_type": "code",
   "execution_count": 33,
   "id": "6b57a288-80c0-429c-aa4d-10cdf6b50769",
   "metadata": {},
   "outputs": [
    {
     "data": {
      "text/plain": [
       "0"
      ]
     },
     "execution_count": 33,
     "metadata": {},
     "output_type": "execute_result"
    }
   ],
   "source": [
    "from collections import Counter\n",
    "\n",
    "letters = Counter(\"mississippi\")\n",
    "letters[\"a\"]"
   ]
  },
  {
   "cell_type": "code",
   "execution_count": 34,
   "id": "3ca449c1-4257-4ee8-b0a0-58ce33357f6e",
   "metadata": {},
   "outputs": [
    {
     "data": {
      "text/plain": [
       "True"
      ]
     },
     "execution_count": 34,
     "metadata": {},
     "output_type": "execute_result"
    }
   ],
   "source": [
    "from collections import Counter\n",
    "\n",
    "multiset = Counter([1, 1, 2, 3, 3, 3, 4, 4])\n",
    "multiset\n",
    "\n",
    "\n",
    "multiset.keys() == {1, 2, 3, 4}"
   ]
  },
  {
   "cell_type": "code",
   "execution_count": 35,
   "id": "3acf62ab-3cee-48e6-ae3e-01c82a29f2e9",
   "metadata": {},
   "outputs": [
    {
     "data": {
      "text/plain": [
       "Counter({'dogs': 27, 'cats': 7, 'pythons': 7})"
      ]
     },
     "execution_count": 35,
     "metadata": {},
     "output_type": "execute_result"
    }
   ],
   "source": [
    "from collections import Counter\n",
    "\n",
    "inventory = Counter(dogs=23, cats=14, pythons=7)\n",
    "\n",
    "adopted = Counter(dogs=2, cats=5, pythons=1)\n",
    "inventory.subtract(adopted)\n",
    "inventory\n",
    "\n",
    "new_pets = {\"dogs\": 4, \"cats\": 1}\n",
    "inventory.update(new_pets)\n",
    "inventory\n",
    "\n",
    "inventory = inventory - Counter(dogs=2, cats=3, pythons=1)\n",
    "inventory\n",
    "\n",
    "new_pets = {\"dogs\": 4, \"pythons\": 2}\n",
    "inventory += new_pets\n",
    "inventory"
   ]
  },
  {
   "cell_type": "code",
   "execution_count": 36,
   "id": "f25bf274-524f-44e4-8a5b-4016dc98dfc9",
   "metadata": {},
   "outputs": [
    {
     "data": {
      "text/plain": [
       "'proxy.local.com'"
      ]
     },
     "execution_count": 36,
     "metadata": {},
     "output_type": "execute_result"
    }
   ],
   "source": [
    "from collections import ChainMap\n",
    "\n",
    "cmd_proxy = {}  # The user doesn't provide a proxy\n",
    "local_proxy = {\"proxy\": \"proxy.local.com\"}\n",
    "global_proxy = {\"proxy\": \"proxy.global.com\"}\n",
    "\n",
    "config = ChainMap(cmd_proxy, local_proxy, global_proxy)\n",
    "config[\"proxy\"]"
   ]
  },
  {
   "cell_type": "code",
   "execution_count": 37,
   "id": "0d9618b4-7183-4fba-aff2-d70b88f7877f",
   "metadata": {},
   "outputs": [
    {
     "data": {
      "text/plain": [
       "[{'one': 1, 'two': 2}, {'a': 'A', 'b': 'B'}]"
      ]
     },
     "execution_count": 37,
     "metadata": {},
     "output_type": "execute_result"
    }
   ],
   "source": [
    "from collections import ChainMap\n",
    "\n",
    "numbers = {\"one\": 1, \"two\": 2}\n",
    "letters = {\"a\": \"A\", \"b\": \"B\"}\n",
    "\n",
    "alpha_nums = ChainMap(numbers, letters)\n",
    "alpha_nums.maps"
   ]
  },
  {
   "cell_type": "code",
   "execution_count": 38,
   "id": "9d143217-859c-45f5-ba56-03a1f8b1bbd7",
   "metadata": {},
   "outputs": [
    {
     "name": "stdout",
     "output_type": "stream",
     "text": [
      "{'name': 'Mike', 'age': 0}\n",
      "{'name': 'Jane', 'age': 31}\n",
      "{'name': 'John', 'age': 35}\n"
     ]
    },
    {
     "data": {
      "text/plain": [
       "ChainMap({'name': 'Jane', 'age': 31}, {'name': 'John', 'age': 35})"
      ]
     },
     "execution_count": 38,
     "metadata": {},
     "output_type": "execute_result"
    }
   ],
   "source": [
    "from collections import ChainMap\n",
    "\n",
    "dad = {\"name\": \"John\", \"age\": 35}\n",
    "mom = {\"name\": \"Jane\", \"age\": 31}\n",
    "family = ChainMap(mom, dad)\n",
    "family\n",
    "\n",
    "son = {\"name\": \"Mike\", \"age\": 0}\n",
    "family = family.new_child(son)\n",
    "\n",
    "for person in family.maps:\n",
    "    print(person)\n",
    "\n",
    "family.parents"
   ]
  },
  {
   "cell_type": "code",
   "execution_count": 39,
   "id": "06f130eb-0e72-4499-a063-b20e39a0540a",
   "metadata": {},
   "outputs": [
    {
     "ename": "KeyError",
     "evalue": "\"Key not found in the first mapping: 'a'\"",
     "output_type": "error",
     "traceback": [
      "\u001b[1;31m---------------------------------------------------------------------------\u001b[0m",
      "\u001b[1;31mKeyError\u001b[0m                                  Traceback (most recent call last)",
      "File \u001b[1;32m~\\AppData\\Local\\Programs\\Python\\Python311\\Lib\\collections\\__init__.py:1060\u001b[0m, in \u001b[0;36mChainMap.__delitem__\u001b[1;34m(self, key)\u001b[0m\n\u001b[0;32m   1059\u001b[0m \u001b[38;5;28;01mtry\u001b[39;00m:\n\u001b[1;32m-> 1060\u001b[0m     \u001b[38;5;28;01mdel\u001b[39;00m \u001b[38;5;28;43mself\u001b[39;49m\u001b[38;5;241;43m.\u001b[39;49m\u001b[43mmaps\u001b[49m\u001b[43m[\u001b[49m\u001b[38;5;241;43m0\u001b[39;49m\u001b[43m]\u001b[49m\u001b[43m[\u001b[49m\u001b[43mkey\u001b[49m\u001b[43m]\u001b[49m\n\u001b[0;32m   1061\u001b[0m \u001b[38;5;28;01mexcept\u001b[39;00m \u001b[38;5;167;01mKeyError\u001b[39;00m:\n",
      "\u001b[1;31mKeyError\u001b[0m: 'a'",
      "\nDuring handling of the above exception, another exception occurred:\n",
      "\u001b[1;31mKeyError\u001b[0m                                  Traceback (most recent call last)",
      "Cell \u001b[1;32mIn[39], line 19\u001b[0m\n\u001b[0;32m     16\u001b[0m alpha_nums\n\u001b[0;32m     18\u001b[0m \u001b[38;5;66;03m# Delete keys that don't exist in the first dict but do in others\u001b[39;00m\n\u001b[1;32m---> 19\u001b[0m \u001b[38;5;28;01mdel\u001b[39;00m \u001b[43malpha_nums\u001b[49m\u001b[43m[\u001b[49m\u001b[38;5;124;43m\"\u001b[39;49m\u001b[38;5;124;43ma\u001b[39;49m\u001b[38;5;124;43m\"\u001b[39;49m\u001b[43m]\u001b[49m\n\u001b[0;32m     21\u001b[0m \u001b[38;5;66;03m# Clear the dictionary\u001b[39;00m\n\u001b[0;32m     22\u001b[0m alpha_nums\u001b[38;5;241m.\u001b[39mclear()\n",
      "File \u001b[1;32m~\\AppData\\Local\\Programs\\Python\\Python311\\Lib\\collections\\__init__.py:1062\u001b[0m, in \u001b[0;36mChainMap.__delitem__\u001b[1;34m(self, key)\u001b[0m\n\u001b[0;32m   1060\u001b[0m     \u001b[38;5;28;01mdel\u001b[39;00m \u001b[38;5;28mself\u001b[39m\u001b[38;5;241m.\u001b[39mmaps[\u001b[38;5;241m0\u001b[39m][key]\n\u001b[0;32m   1061\u001b[0m \u001b[38;5;28;01mexcept\u001b[39;00m \u001b[38;5;167;01mKeyError\u001b[39;00m:\n\u001b[1;32m-> 1062\u001b[0m     \u001b[38;5;28;01mraise\u001b[39;00m \u001b[38;5;167;01mKeyError\u001b[39;00m(\u001b[38;5;124mf\u001b[39m\u001b[38;5;124m'\u001b[39m\u001b[38;5;124mKey not found in the first mapping: \u001b[39m\u001b[38;5;132;01m{\u001b[39;00mkey\u001b[38;5;132;01m!r}\u001b[39;00m\u001b[38;5;124m'\u001b[39m)\n",
      "\u001b[1;31mKeyError\u001b[0m: \"Key not found in the first mapping: 'a'\""
     ]
    }
   ],
   "source": [
    "from collections import ChainMap\n",
    "\n",
    "numbers = {\"one\": 1, \"two\": 2}\n",
    "letters = {\"a\": \"A\", \"b\": \"B\"}\n",
    "\n",
    "alpha_nums = ChainMap(numbers, letters)\n",
    "alpha_nums\n",
    "\n",
    "# Add a new key-value pair\n",
    "alpha_nums[\"c\"] = \"C\"\n",
    "alpha_nums\n",
    "\n",
    "# Pop a key that exists in the first dictionary\n",
    "alpha_nums.pop(\"two\")\n",
    "\n",
    "alpha_nums\n",
    "\n",
    "# Delete keys that don't exist in the first dict but do in others\n",
    "del alpha_nums[\"a\"]\n",
    "\n",
    "# Clear the dictionary\n",
    "alpha_nums.clear()\n",
    "alpha_nums"
   ]
  },
  {
   "cell_type": "code",
   "execution_count": 40,
   "id": "2946201d-5207-456a-9cf0-70be5f3f03df",
   "metadata": {},
   "outputs": [
    {
     "data": {
      "text/plain": [
       "True"
      ]
     },
     "execution_count": 40,
     "metadata": {},
     "output_type": "execute_result"
    }
   ],
   "source": [
    "class LowerDict(dict):\n",
    "    def __setitem__(self, key, value):\n",
    "        key = key.lower()\n",
    "        super().__setitem__(key, value)\n",
    "\n",
    "ordinals = LowerDict({\"FIRST\": 1, \"SECOND\": 2})\n",
    "ordinals[\"THIRD\"] = 3\n",
    "ordinals.update({\"FOURTH\": 4})\n",
    "\n",
    "ordinals\n",
    "\n",
    "isinstance(ordinals, dict)"
   ]
  },
  {
   "cell_type": "code",
   "execution_count": 41,
   "id": "c4ff1cb1-9da8-43d3-a811-383e2f530c95",
   "metadata": {},
   "outputs": [
    {
     "data": {
      "text/plain": [
       "False"
      ]
     },
     "execution_count": 41,
     "metadata": {},
     "output_type": "execute_result"
    }
   ],
   "source": [
    "from collections import UserDict\n",
    "\n",
    "class LowerDict(UserDict):\n",
    "    def __setitem__(self, key, value):\n",
    "        key = key.lower()\n",
    "        super().__setitem__(key, value)\n",
    "\n",
    "ordinals = LowerDict({\"FIRST\": 1, \"SECOND\": 2})\n",
    "ordinals[\"THIRD\"] = 3\n",
    "ordinals.update({\"FOURTH\": 4})\n",
    "\n",
    "ordinals\n",
    "\n",
    "isinstance(ordinals, dict)"
   ]
  },
  {
   "cell_type": "code",
   "execution_count": 3,
   "id": "94269c38-21e8-4328-9baa-cbe6a2215410",
   "metadata": {},
   "outputs": [
    {
     "data": {
      "text/plain": [
       "{1: 1, 4: 2, 16: 4, 25: 5}"
      ]
     },
     "execution_count": 3,
     "metadata": {},
     "output_type": "execute_result"
    }
   ],
   "source": [
    "class UDict(dict):\n",
    "    def pop(self, ele=None):\n",
    "        raise TypeError(\"Not Allowed\")\n",
    "    def _del_(self):\n",
    "        raise TypeError(\"Not Allowed\")\n",
    "    def popitem(seld, ele=None):\n",
    "        raise TypeError(\"Not Allowed\")\n",
    "\n",
    "uDic=UDict({1:1,4:2,16:4})\n",
    "\n",
    "uDic[25]=5\n",
    "uDic"
   ]
  },
  {
   "cell_type": "code",
   "execution_count": null,
   "id": "c6116dcf-7e9a-4989-8354-030470917038",
   "metadata": {},
   "outputs": [],
   "source": []
  }
 ],
 "metadata": {
  "kernelspec": {
   "display_name": "Python 3 (ipykernel)",
   "language": "python",
   "name": "python3"
  },
  "language_info": {
   "codemirror_mode": {
    "name": "ipython",
    "version": 3
   },
   "file_extension": ".py",
   "mimetype": "text/x-python",
   "name": "python",
   "nbconvert_exporter": "python",
   "pygments_lexer": "ipython3",
   "version": "3.11.4"
  }
 },
 "nbformat": 4,
 "nbformat_minor": 5
}
