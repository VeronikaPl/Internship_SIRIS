{
 "cells": [
  {
   "cell_type": "code",
   "execution_count": 1,
   "id": "5b32a82c-37e8-4011-9f43-5442128bbd2f",
   "metadata": {},
   "outputs": [],
   "source": [
    "from collections import namedtuple"
   ]
  },
  {
   "cell_type": "code",
   "execution_count": 2,
   "id": "b21a0101-39ab-4cdc-89df-c96d85697bae",
   "metadata": {},
   "outputs": [
    {
     "name": "stdout",
     "output_type": "stream",
     "text": [
      "courses(name='data science', tech='python')\n"
     ]
    }
   ],
   "source": [
    "a = namedtuple('courses' , 'name , tech')\n",
    "s = a('data science' , 'python')\n",
    "print(s)\n",
    " \n",
    "#the output will be courses(name='python' , tech='python')"
   ]
  },
  {
   "cell_type": "code",
   "execution_count": 3,
   "id": "1f17a640-7b2b-400d-8ce8-66632e5ae315",
   "metadata": {},
   "outputs": [
    {
     "data": {
      "text/plain": [
       "courses(name='data science', tech='python')"
      ]
     },
     "execution_count": 3,
     "metadata": {},
     "output_type": "execute_result"
    }
   ],
   "source": [
    "s._make(['data science' , 'python'])\n",
    "#the output will be same as before."
   ]
  },
  {
   "cell_type": "code",
   "execution_count": 4,
   "id": "5ded1e21-88e1-4b61-962d-6834cbc88c0d",
   "metadata": {},
   "outputs": [
    {
     "name": "stdout",
     "output_type": "stream",
     "text": [
      "deque(['d', 'u', 'r', 'e', 'k'])\n"
     ]
    }
   ],
   "source": [
    "#creating a deque\n",
    "from collections import deque\n",
    " \n",
    "a = ['d' , 'u' , 'r' , 'e' , 'k']\n",
    "a1 = deque(a)\n",
    "print(a1)\n",
    "#the output will be deque([ 'd' , 'u' , 'r' , 'e' , 'k' ])"
   ]
  },
  {
   "cell_type": "code",
   "execution_count": 5,
   "id": "9bd203af-6506-49d5-aa70-f8155535098c",
   "metadata": {},
   "outputs": [
    {
     "name": "stdout",
     "output_type": "stream",
     "text": [
      "deque(['d', 'u', 'r', 'e', 'k', 'a'])\n",
      "deque(['e', 'd', 'u', 'r', 'e', 'k', 'a'])\n"
     ]
    }
   ],
   "source": [
    "a1.append('a')\n",
    "print(a1)\n",
    "# the output will be deque([ 'd' , 'u' , 'r' , 'e' , 'k' , 'a' ])\n",
    "a1.appendleft('e')\n",
    "print(a1)\n",
    "# the output will be deque(['e' , 'd' , 'u' , 'r' , 'e' , 'k' , 'a' ])"
   ]
  },
  {
   "cell_type": "code",
   "execution_count": 6,
   "id": "59d6094c-ec35-4077-9533-cb1746d71375",
   "metadata": {},
   "outputs": [
    {
     "name": "stdout",
     "output_type": "stream",
     "text": [
      "deque(['e', 'd', 'u', 'r', 'e', 'k'])\n",
      "deque(['d', 'u', 'r', 'e', 'k'])\n"
     ]
    }
   ],
   "source": [
    "a1.pop()\n",
    "print(a1)\n",
    "#the output will be deque([ 'e' , 'd' , 'u' , 'r' , 'e' , 'k' ])\n",
    "a1.popleft()\n",
    "print(a1)\n",
    "#the output will be deque([ 'd' , 'u' , 'r' , 'e' , 'k' ])"
   ]
  },
  {
   "cell_type": "code",
   "execution_count": 7,
   "id": "8004ba59-5401-4a40-83af-f236c06439b0",
   "metadata": {},
   "outputs": [
    {
     "name": "stdout",
     "output_type": "stream",
     "text": [
      "ChainMap({1: 'edureka', 2: 'python'}, {3: 'data science', 4: 'Machine learning'})\n"
     ]
    }
   ],
   "source": [
    "from collections import ChainMap\n",
    "a = { 1: 'edureka' , 2: 'python'}\n",
    "b = {3: 'data science' , 4: 'Machine learning'}\n",
    "c = ChainMap(a,b)\n",
    "print(c)\n",
    "#the output will be ChainMap[{1: 'edureka' , 2: 'python'} , {3: 'data science' , 4: 'Machine learning'}]"
   ]
  },
  {
   "cell_type": "code",
   "execution_count": 8,
   "id": "1b707f0a-cfa6-4ad2-839e-45c3e7269ec8",
   "metadata": {},
   "outputs": [
    {
     "name": "stdout",
     "output_type": "stream",
     "text": [
      "ChainMap({5: 'AI', 6: 'neural networks'}, {1: 'edureka', 2: 'python'}, {3: 'data science', 4: 'Machine learning'})\n"
     ]
    }
   ],
   "source": [
    "a1 = { 5: 'AI' , 6: 'neural networks'}\n",
    "c1 = c.new_child(a1)\n",
    "print(c1)\n",
    "#the output will be ChainMap[{1: 'edureka' , 2: 'python'} , {3: 'data science' , 4: 'Machine learning'}, { 5: 'AI' , 6: 'neural networks'}]"
   ]
  },
  {
   "cell_type": "code",
   "execution_count": 9,
   "id": "99dad0a7-eb9c-4097-a9af-e5f2f9bd5c01",
   "metadata": {},
   "outputs": [
    {
     "name": "stdout",
     "output_type": "stream",
     "text": [
      "Counter({1: 4, 3: 4, 4: 2, 2: 1})\n"
     ]
    }
   ],
   "source": [
    "from collections import Counter\n",
    "a = [1,1,1,1,2,3,3,4,3,3,4]\n",
    "c = Counter(a)\n",
    "print(c)\n",
    "#the output will be Counter = ({1:4 , 2:1 , 3:4 , 4:2})"
   ]
  },
  {
   "cell_type": "code",
   "execution_count": 10,
   "id": "660de8f6-9afa-4efc-8ac3-caa441f63e52",
   "metadata": {},
   "outputs": [
    {
     "name": "stdout",
     "output_type": "stream",
     "text": [
      "OrderedDict([(1, 'e'), (2, 'd'), (3, 'u'), (4, 'r'), (5, 'e'), (6, 'k'), (7, 'a')])\n"
     ]
    }
   ],
   "source": [
    "from collections import OrderedDict\n",
    "od = OrderedDict()\n",
    "od[1] = 'e'\n",
    "od[2] = 'd'\n",
    "od[3] = 'u'\n",
    "od[4] = 'r'\n",
    "od[5] = 'e'\n",
    "od[6] = 'k'\n",
    "od[7] = 'a'\n",
    "print(od)\n",
    "#the output will be OrderedDict[(1 , 'e'), (2 , 'd') , (3 , 'u'), (4 , 'r'), (5 , 'e'), (6 , 'k'), (7 , 'a')]"
   ]
  },
  {
   "cell_type": "code",
   "execution_count": 11,
   "id": "056e297e-4ebe-48bd-9b9d-b8652a2cb677",
   "metadata": {},
   "outputs": [
    {
     "name": "stdout",
     "output_type": "stream",
     "text": [
      "0\n"
     ]
    }
   ],
   "source": [
    "from collections import defaultdict\n",
    "d = defaultdict(int)\n",
    "#we have to specify a type as well.\n",
    "d[1] = 'edureka'\n",
    "d[2] = 'python'\n",
    "print(d[3])\n",
    "#it will give the output as 0 instead of keyerror."
   ]
  },
  {
   "cell_type": "code",
   "execution_count": null,
   "id": "5b4bf878-5afa-4c67-9fc5-e6e2d58d6eef",
   "metadata": {},
   "outputs": [],
   "source": []
  }
 ],
 "metadata": {
  "kernelspec": {
   "display_name": "Python 3 (ipykernel)",
   "language": "python",
   "name": "python3"
  },
  "language_info": {
   "codemirror_mode": {
    "name": "ipython",
    "version": 3
   },
   "file_extension": ".py",
   "mimetype": "text/x-python",
   "name": "python",
   "nbconvert_exporter": "python",
   "pygments_lexer": "ipython3",
   "version": "3.11.4"
  }
 },
 "nbformat": 4,
 "nbformat_minor": 5
}
